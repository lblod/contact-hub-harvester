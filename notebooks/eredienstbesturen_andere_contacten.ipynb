{
  "nbformat": 4,
  "nbformat_minor": 0,
  "metadata": {
    "colab": {
      "name": "eredienstbesturen_andere_contacten.ipynb",
      "provenance": [],
      "collapsed_sections": [],
      "toc_visible": true
    },
    "kernelspec": {
      "name": "python3",
      "display_name": "Python 3"
    }
  },
  "cells": [
    {
      "cell_type": "code",
      "metadata": {
        "id": "S38EL_qmzyKO"
      },
      "source": [
        "pip install rdflib"
      ],
      "execution_count": null,
      "outputs": []
    },
    {
      "cell_type": "code",
      "metadata": {
        "id": "5HsREbXszjmM"
      },
      "source": [
        "import pandas as pd\n",
        "import numpy as np\n",
        "pd.set_option('display.max_colwidth', None)\n",
        "import pandas as pd #read xslx\n",
        "from rdflib import Graph, Literal, RDF, URIRef, Namespace \n",
        "from rdflib.namespace import FOAF , XSD, DC, FOAF, SKOS, RDF, RDFS\n",
        "import urllib.parse \n",
        "from google.colab import files \n",
        "import io\n",
        "import datetime"
      ],
      "execution_count": null,
      "outputs": []
    },
    {
      "cell_type": "code",
      "metadata": {
        "id": "MnHOEUpczvTu"
      },
      "source": [
        "uploaded = files.upload()"
      ],
      "execution_count": null,
      "outputs": []
    },
    {
      "cell_type": "markdown",
      "metadata": {
        "id": "QPjYdYrHFKF9"
      },
      "source": [
        "# Helper functions"
      ]
    },
    {
      "cell_type": "code",
      "metadata": {
        "id": "EslLU5uDFIPn"
      },
      "source": [
        "import hashlib\n",
        "import uuid\n",
        "\n",
        "def concept_uri(base_uri, input):\n",
        "  m = hashlib.md5()\n",
        "  m.update(input.encode('utf-8'))\n",
        "\n",
        "  return URIRef(base_uri + m.hexdigest())\n",
        "\n",
        "def addLiteral(subject, predicate, objectColumn, datatype=None):\n",
        "  if pd.notna(row[objectColumn]):\n",
        "    if datatype == None:\n",
        "      g.add((subject, predicate, Literal(str(row[objectColumn]), lang='nl')))\n",
        "    else:\n",
        "      g.add((subject, predicate, Literal(str(row[objectColumn]), datatype=datatype)))"
      ],
      "execution_count": null,
      "outputs": []
    },
    {
      "cell_type": "markdown",
      "metadata": {
        "id": "xPIfMwVHTg38"
      },
      "source": [
        "# Init graph"
      ]
    },
    {
      "cell_type": "code",
      "metadata": {
        "id": "83WSfogB2E0i"
      },
      "source": [
        "g = Graph()"
      ],
      "execution_count": null,
      "outputs": []
    },
    {
      "cell_type": "code",
      "metadata": {
        "id": "W7wAe4BO2MUH"
      },
      "source": [
        "#namspaces\n",
        "org = Namespace('http://www.w3.org/ns/org#')\n",
        "locn = Namespace('http://www.w3.org/ns/locn#')\n",
        "dc_terms= Namespace('http://purl.org/dc/terms/')\n",
        "schema = Namespace('http://schema.org/')\n",
        "regorg = Namespace('http://www.w3.org/ns/regorg#')\n",
        "person = Namespace('http://www.w3.org/ns/person#')\n",
        "vcard = Namespace('http://www.w3.org/2006/vcard/ns#')\n",
        "dbpedia = Namespace('https://dbpedia.org/ontology/')\n",
        "\n",
        "organisatie = Namespace('https://data.vlaanderen.be/ns/organisatie')\n",
        "persoon = Namespace('https://data.vlaanderen.be/ns/persoon#')\n",
        "adres = Namespace('https://data.vlaanderen.be/ns/adres#')\n",
        "generiek = Namespace('https://data.vlaanderen.be/ns/generiek#')\n",
        "mandaat = Namespace('http://data.vlaanderen.be/ns/mandaat#')\n",
        "besluit = Namespace('http://data.vlaanderen.be/ns/besluit#')\n",
        "\n",
        "#lblod = Namespace('https://contacthub-dev.lblod.info/id/')\n",
        "lblod = Namespace('https://contacthub-qa.lblod.info/id/')\n",
        "os = Namespace('https://data.vlaanderen.be/id/concept/organisatiestatus/')\n",
        "oc = Namespace('http://data.vlaanderen.be/id/concept/BestuursunitClassificationCode/')\n"
      ],
      "execution_count": null,
      "outputs": []
    },
    {
      "cell_type": "code",
      "metadata": {
        "id": "I_5EawoKz9MV"
      },
      "source": [
        "eb_ac = pd.read_excel('SP_DownloadLijst_Eredienstbesturen_AndereContacten_20210108_cleansed.xlsx', sheet_name='DATA')"
      ],
      "execution_count": null,
      "outputs": []
    },
    {
      "cell_type": "code",
      "metadata": {
        "id": "rellf2PwvxXv"
      },
      "source": [
        "eb_ac.info()"
      ],
      "execution_count": null,
      "outputs": []
    },
    {
      "cell_type": "markdown",
      "metadata": {
        "id": "93TbZM7Uddyo"
      },
      "source": [
        "## Category definition"
      ]
    },
    {
      "cell_type": "code",
      "metadata": {
        "id": "dZx1dU-4Hp5v"
      },
      "source": [
        "for category in eb_ac['Classification'].unique():\n",
        "  category_id = concept_uri(oc, category)\n",
        "  g.add((category_id, RDF.type, SKOS.Concept))\n",
        "  g.add((category_id, SKOS.prefLabel, Literal(category, lang='nl')))"
      ],
      "execution_count": null,
      "outputs": []
    },
    {
      "cell_type": "markdown",
      "metadata": {
        "id": "vJIbvCAz_MYD"
      },
      "source": [
        "# Mapping"
      ]
    },
    {
      "cell_type": "code",
      "metadata": {
        "id": "MtdteyNS3_Vk"
      },
      "source": [
        "for index, row in eb_ac.iterrows():\n",
        "\n",
        "  abb_id = concept_uri(lblod + 'organisatie/', str(row['representatief orgaan']))\n",
        "\n",
        "  g.add((abb_id, RDF.type, org.Organization))\n",
        "\n",
        "  g.add((abb_id, org.classification, concept_uri(oc, row['Classification'])))\n",
        "\n",
        "  contact_id = concept_uri(lblod + 'contactinfo/', str(row['representatief orgaan']))\n",
        "  g.add((contact_id, RDF.type, schema.ContactPoint))\n",
        "  addLiteral(contact_id, FOAF.page, 'Website', XSD.anyURI)\n",
        "  addLiteral(contact_id, schema.telephone, 'Telefoon', XSD.string)\n",
        "  addLiteral(contact_id, schema.faxNumber, 'Fax', XSD.string)\n",
        "  \n",
        "  address_id = concept_uri(lblod + 'adresvoorstelling/', str(row['representatief orgaan']))\n",
        "  g.add((address_id, RDF.type, locn.Address))\n",
        "  addLiteral(address_id, locn.thoroughfare, 'Straatnaam')\n",
        "  addLiteral(address_id, adres['Adresvoorstelling.huisnummer'], 'Huisnummer', XSD.string)\n",
        "  addLiteral(address_id, adres['Adresvoorstelling.busnummer'], 'Busnummer', XSD.string)\n",
        "  addLiteral(address_id, locn.postCode, 'Postcode', XSD.string)\n",
        "  addLiteral(address_id, adres.gemeenttenaam, 'Gemeentenaam')\n",
        "  addLiteral(address_id, locn.adminUnitL2, 'Provincie')\n",
        "  g.add((address_id, adres.land, Literal('België', lang='nl')))\n",
        "\n",
        "  g.add((contact_id, locn.address, address_id))\n",
        "  g.add((abb_id, schema.contactPoint, contact_id))\n",
        "\n",
        "  g.add((abb_id, regorg.orgStatus, os.actief))\n",
        "  \n",
        "  addLiteral(abb_id, SKOS.prefLabel, 'representatief orgaan', XSD.string)\n",
        "\n",
        "  #Bestuur\n",
        "  bestuur = concept_uri(lblod + 'bestuursorgaan/', str(row['representatief orgaan']))\n",
        "  g.add((bestuur, RDF.type, besluit.Bestuursorgaan))\n",
        "  g.add((bestuur, besluit.bestuurt, abb_id))\n",
        "\n",
        "  bestuur_temporary = concept_uri(lblod + 'bestuursorgaan/', (row['representatief orgaan'] + str(datetime.datetime.now())))\n",
        "  g.add((bestuur_temporary, RDF.type, besluit.Bestuursorgaan))\n",
        "  g.add((bestuur_temporary, generiek.isTijdspecialisatieVan, bestuur))\n",
        "\n",
        "  # Rols\n",
        "  person_id = concept_uri(lblod + 'persoon/', str(row['Gebruikte Voornaam']) + str(row['Achternaam']))\n",
        "  g.add((person_id, RDF.type, person.Person))\n",
        "  addLiteral(person_id, persoon.gebruikteVoornaam, 'Gebruikte Voornaam')\n",
        "  addLiteral(person_id, FOAF.familyName, 'Achternaam')\n",
        "\n",
        "  ## Mandataris\n",
        "  person_mandataris = concept_uri(lblod + 'mandataris/', str(row['Gebruikte Voornaam']) + str(row['Achternaam']) + str(row['representatief orgaan']) + str(row['Rol'].lower().replace(\" \", \"\")))\n",
        "  g.add((person_mandataris, RDF.type, mandaat.Mandataris))\n",
        "  g.add((person_id, mandaat.isAangesteldAls, person_mandataris))\n",
        "  g.add((person_mandataris, mandaat.isBestuurlijkeAliasVan, person_id))\n",
        "  #start\n",
        "  #einde\n",
        "  #status ~ cf loket lokale besturen PoC https://poc-form-builder.relance.s.redpencil.io/codelijsten\n",
        "  person_mandaat = concept_uri(lblod + 'mandaat/', str(row['Gebruikte Voornaam']) + str(row['Achternaam']) + str(row['representatief orgaan']))\n",
        "  g.add((person_mandaat, RDF.type, mandaat.Mandaat))\n",
        "  rol_concept = concept_uri(lblod + 'concept/BestuursFunctieCode/', str(row['Rol'].lower().replace(\" \", \"\")))\n",
        "  g.add((person_mandaat, org.role, rol_concept))\n",
        "  g.add((person_mandataris, org.holds, person_mandaat))\n",
        "\n",
        "  g.add((bestuur_temporary, org.hasPost, person_mandaat))\n",
        "  #g.add((person_mandaat, org.holds, bestuur_temporary))"
      ],
      "execution_count": null,
      "outputs": []
    },
    {
      "cell_type": "code",
      "metadata": {
        "id": "xaFUz7cE4KXG"
      },
      "source": [
        "print(g.serialize(format='turtle').decode('UTF-8'))"
      ],
      "execution_count": null,
      "outputs": []
    },
    {
      "cell_type": "code",
      "metadata": {
        "id": "8mfp7lx7491V"
      },
      "source": [
        "g.serialize('eb_ac-qa.ttl',format='turtle')"
      ],
      "execution_count": null,
      "outputs": []
    }
  ]
}