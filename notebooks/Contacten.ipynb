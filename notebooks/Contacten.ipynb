{
 "cells": [
  {
   "cell_type": "code",
   "execution_count": null,
   "metadata": {
    "colab": {
     "base_uri": "https://localhost:8080/"
    },
    "id": "S38EL_qmzyKO",
    "outputId": "797714b1-bda1-4003-8023-c77c809418a7"
   },
   "outputs": [],
   "source": [
    "pip install rdflib"
   ]
  },
  {
   "cell_type": "code",
   "execution_count": null,
   "metadata": {
    "id": "5HsREbXszjmM"
   },
   "outputs": [],
   "source": [
    "import pandas as pd\n",
    "import numpy as np\n",
    "pd.set_option('display.max_colwidth', None)\n",
    "import pandas as pd #read xslx\n",
    "from rdflib import Graph, Literal, RDF, URIRef, Namespace \n",
    "from rdflib.namespace import FOAF , XSD, DC, FOAF, SKOS, RDF, RDFS\n",
    "import urllib.parse \n",
    "from google.colab import files \n",
    "import io\n",
    "import regex as re\n",
    "import datetime\n"
   ]
  },
  {
   "cell_type": "markdown",
   "metadata": {
    "id": "nnO2FBsJo24-"
   },
   "source": [
    "## Input file"
   ]
  },
  {
   "cell_type": "code",
   "execution_count": null,
   "metadata": {
    "colab": {
     "base_uri": "https://localhost:8080/",
     "height": 72,
     "resources": {
      "http://localhost:8080/nbextensions/google.colab/files.js": {
       "data": "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",
       "headers": [
        [
         "content-type",
         "application/javascript"
        ]
       ],
       "ok": true,
       "status": 200,
       "status_text": ""
      }
     }
    },
    "id": "MnHOEUpczvTu",
    "outputId": "75e3a5c7-4410-43ba-9572-246432d5df21"
   },
   "outputs": [],
   "source": [
    "uploaded = files.upload()"
   ]
  },
  {
   "cell_type": "markdown",
   "metadata": {
    "id": "4NK3WgtNoIdW"
   },
   "source": []
  },
  {
   "cell_type": "code",
   "execution_count": null,
   "metadata": {
    "id": "I_5EawoKz9MV"
   },
   "outputs": [],
   "source": [
    "df = pd.read_excel('SP_DownloadLijst_LF_Contacten_WIP_20210108.xlsx', sheet_name='DATA')"
   ]
  },
  {
   "cell_type": "code",
   "execution_count": null,
   "metadata": {
    "id": "nJmJQvPYSREv"
   },
   "outputs": [],
   "source": [
    "gp = pd.read_excel('gemeente-provincie.xlsx', sheet_name='Feuil2')"
   ]
  },
  {
   "cell_type": "code",
   "execution_count": null,
   "metadata": {
    "colab": {
     "base_uri": "https://localhost:8080/",
     "height": 1000
    },
    "id": "YUC6hPH9PtYT",
    "outputId": "bbc45236-ff03-4359-e9a9-285371861715"
   },
   "outputs": [],
   "source": [
    "df"
   ]
  },
  {
   "cell_type": "code",
   "execution_count": null,
   "metadata": {
    "colab": {
     "base_uri": "https://localhost:8080/"
    },
    "id": "k2vTBwfVddnf",
    "outputId": "01c2e559-2fa4-47f4-c3d1-ca9fbd330289"
   },
   "outputs": [],
   "source": [
    "df.info()"
   ]
  },
  {
   "cell_type": "code",
   "execution_count": null,
   "metadata": {
    "id": "561PKbtGCKFa"
   },
   "outputs": [],
   "source": [
    "g = Graph()"
   ]
  },
  {
   "cell_type": "markdown",
   "metadata": {
    "id": "e804lvZ7mKzw"
   },
   "source": []
  },
  {
   "cell_type": "markdown",
   "metadata": {
    "id": "6jfUzgy_Jzvm"
   },
   "source": [
    "## Helpers Fuctions"
   ]
  },
  {
   "cell_type": "markdown",
   "metadata": {
    "id": "Wddl1102zXGg"
   },
   "source": [
    "### mail_cleansing"
   ]
  },
  {
   "cell_type": "code",
   "execution_count": null,
   "metadata": {
    "id": "5PFtEKiUzfS6"
   },
   "outputs": [],
   "source": [
    "def mail_cleansing(mail):\n",
    "  mail_cleansed = comment = np.nan\n",
    "\n",
    "  if mail != 'nan':\n",
    "    if  re.match(r'[\\w\\.-]+@[\\w\\.-]+(\\.[\\w]+)+', mail):\n",
    "      mail_cleansed = mail\n",
    "    else: \n",
    "      comment = 'Wrong mail format. Check it.'\n",
    "\n",
    "  return [mail_cleansed, comment]"
   ]
  },
  {
   "cell_type": "markdown",
   "metadata": {
    "id": "B8a0PSv45ZC7"
   },
   "source": [
    "### referentieorganisatie_cleansing"
   ]
  },
  {
   "cell_type": "code",
   "execution_count": null,
   "metadata": {
    "id": "7gGEdGzo5wiw"
   },
   "outputs": [],
   "source": [
    "def referentieorganisatie_cleansing(referentieorganisatie):\n",
    "  return re.sub(r'\\s', '', referentieorganisatie)"
   ]
  },
  {
   "cell_type": "markdown",
   "metadata": {
    "id": "O0WXORAV97N6"
   },
   "source": [
    "### naam_contact_cleansing"
   ]
  },
  {
   "cell_type": "code",
   "execution_count": null,
   "metadata": {
    "id": "PQooPvxN-AxM"
   },
   "outputs": [],
   "source": [
    "def naam_contact_cleansing(naam_contact):\n",
    "  naam_contact_cleansed = comment = np.nan\n",
    "\n",
    "  if naam_contact != 'nan':\n",
    "    naam_contact = naam_contact.strip().title()\n",
    "\n",
    "    if re.match(r'^[a-zA-ZàáâäãåąčćęèéêëėįìíîïłńòóôöõøùúûüųūÿýżźñçčšžÀÁÂÄÃÅĄĆČĖĘÈÉÊËÌÍÎÏĮŁŃÒÓÔÖÕØÙÚÛÜŲŪŸÝŻŹÑßÇŒÆČŠŽ∂ð \\'’-]+$', naam_contact):\n",
    "      naam_contact_cleansed = naam_contact\n",
    "    else: \n",
    "      comment = 'Wrong naam format. Check it.'\n",
    "\n",
    "  return [naam_contact_cleansed, comment]"
   ]
  },
  {
   "cell_type": "markdown",
   "metadata": {
    "id": "DsqwYrW9y5_a"
   },
   "source": [
    "### telephone_number_cleansing"
   ]
  },
  {
   "cell_type": "code",
   "execution_count": null,
   "metadata": {
    "id": "Jq3aqxcQhAd0"
   },
   "outputs": [],
   "source": [
    "def telephone_number_cleansing(telephone_number):\n",
    "  telephone_number = re.sub(r'\\s', '', telephone_number)\n",
    "\n",
    "  telephone_number = re.sub(r'^\\+32-\\(0\\)', '0', telephone_number)\n",
    "  telephone_number = re.sub(r'^\\+32', '0', telephone_number)\n",
    "  telephone_number = re.sub(r'^32', '0', telephone_number)\n",
    "\n",
    "  telephone_number = re.sub(r'^\\+0032-\\(0\\)', '0', telephone_number)\n",
    "  telephone_number = re.sub(r'^0032-\\(0\\)', '0', telephone_number)\n",
    "  telephone_number = re.sub(r'^0032', '0', telephone_number)\n",
    "\n",
    "  telephone_number = re.sub(r'^\\(\\d\\d\\d\\)', '0', telephone_number)\n",
    "  telephone_number = re.sub(r'^0\\(\\d\\d\\d\\)', '0', telephone_number)\n",
    "\n",
    "  telephone_number =  re.sub(r'[\\.a-zA-Z]', '', telephone_number)\n",
    "\n",
    "  return split_telephone_number(telephone_number)\n",
    "\n",
    "def split_telephone_number(telephone_number):\n",
    "  telephone_number_1 = telephone_number_2 = np.nan\n",
    "  comment = []\n",
    "\n",
    "  split = [telephone_number]\n",
    "  if '//' in telephone_number:\n",
    "    split = telephone_number.split('//')\n",
    "\n",
    "  split[0] = split[0].replace('/', '')\n",
    "\n",
    "  if telephone_number != '' :\n",
    "    if check_telephone_number_lenght(split[0]):\n",
    "      telephone_number_1 = split[0]\n",
    "    else:\n",
    "      comment.append('Wrong telephone number lenght. Check it.')\n",
    "\n",
    "    if len(split) == 2 :\n",
    "      comment.append('Splitting. Check it.')\n",
    "      split[1] = split[1].replace('/', '')\n",
    "      if check_telephone_number_lenght(split[1]):\n",
    "        telephone_number_2 = split[1]\n",
    "      else:\n",
    "        comment.append('Wrong telephone 2 number lenght. Check it.')\n",
    "\n",
    "  return [telephone_number_1, telephone_number_2, ' - '.join(comment)]\n",
    "\n",
    "def check_telephone_number_lenght(telephone_number):\n",
    "  if len(telephone_number) < 9 or len(telephone_number) > 10:\n",
    "    return False\n",
    "  else :\n",
    "    return True"
   ]
  },
  {
   "cell_type": "markdown",
   "metadata": {
    "id": "ipgJoztMzIWL"
   },
   "source": [
    "### split_house_bus_number"
   ]
  },
  {
   "cell_type": "code",
   "execution_count": null,
   "metadata": {
    "id": "lP39ZrkRuwI9"
   },
   "outputs": [],
   "source": [
    "def split_house_bus_number(house_bus_number):\n",
    "  house_number = bus_number = np.nan\n",
    "  comment = []\n",
    "  house_bus_number = house_bus_number.replace(' ', '')\n",
    "\n",
    "  if ('z/n' not in house_bus_number and 'nan' not in house_bus_number) : \n",
    "    if (('bus' in house_bus_number or '/' in house_bus_number)) :\n",
    "      comment.append('Splitting. Check it.')\n",
    "      if ('bus' in house_bus_number) : \n",
    "        split = house_bus_number.split('bus')\n",
    "      else :\n",
    "        split = house_bus_number.split('/')\n",
    "      house_number = split[0]\n",
    "      bus_number = split[1]\n",
    "    else:\n",
    "        house_number = house_bus_number\n",
    "    house_number =  house_number.replace('/', '').replace('-', '').replace(',', '')\n",
    "      \n",
    "  return [house_number, bus_number, ' - '.join(comment)]"
   ]
  },
  {
   "cell_type": "markdown",
   "metadata": {
    "id": "rQ0If36ix4-e"
   },
   "source": [
    "### decretale_functie_cleasing\n"
   ]
  },
  {
   "cell_type": "code",
   "execution_count": null,
   "metadata": {
    "id": "vait9UycyHsD"
   },
   "outputs": [],
   "source": [
    "def decretale_functie_cleasing(decretale):\n",
    "  decretale_functie = functionaris_status = np.nan\n",
    "\n",
    "  if 'Waarnemend' in decretale:\n",
    "    status = decretale[decretale.find(\"(\"):decretale.find(\")\")+1]\n",
    "    decretale_functie = decretale.replace(status, '').strip()\n",
    "    functionaris_status = 'Waarnemend'\n",
    "  elif decretale == 'GEEN of ONBEKEND':\n",
    "    pass\n",
    "  else:\n",
    "    decretale_functie = decretale\n",
    "    functionaris_status = 'Effectief'\n",
    "\n",
    "  return [decretale_functie, functionaris_status]"
   ]
  },
  {
   "cell_type": "markdown",
   "metadata": {
    "id": "PyxgFb9szDTc"
   },
   "source": [
    "### concept_uri"
   ]
  },
  {
   "cell_type": "code",
   "execution_count": null,
   "metadata": {
    "id": "EslLU5uDFIPn"
   },
   "outputs": [],
   "source": [
    "import hashlib\n",
    "import uuid\n",
    "\n",
    "def concept_uri(base_uri, input):\n",
    "  m = hashlib.md5()\n",
    "  m.update(input.encode('utf-8'))\n",
    "\n",
    "  return URIRef(base_uri + m.hexdigest())\n",
    "\n",
    "def addLiteral(subject, predicate, object_value, datatype=None):\n",
    "  if object_value != str(np.nan):\n",
    "    if datatype == None:\n",
    "      g.add((subject, predicate, Literal(object_value, lang='nl')))\n",
    "    else:\n",
    "      g.add((subject, predicate, Literal(object_value, datatype=datatype)))"
   ]
  },
  {
   "cell_type": "code",
   "execution_count": null,
   "metadata": {
    "id": "j04omEnoHGYy"
   },
   "outputs": [],
   "source": [
    "def existsContact(row):\n",
    "  return ((str(row['Titel Cleansed']) != str(np.nan)) or (str(row['Mail nr2 Cleansed']) != str(np.nan)) or (str(row['Telefoonnr Contact 1']) != str(np.nan)))"
   ]
  },
  {
   "cell_type": "markdown",
   "metadata": {
    "id": "3DVw3oJeR_9x"
   },
   "source": [
    "## Data cleansing"
   ]
  },
  {
   "cell_type": "markdown",
   "metadata": {
    "id": "q973DKg6uztf"
   },
   "source": [
    "### Titel"
   ]
  },
  {
   "cell_type": "code",
   "execution_count": null,
   "metadata": {
    "colab": {
     "base_uri": "https://localhost:8080/"
    },
    "id": "KBPP7ne7JMIg",
    "outputId": "7d83ea8a-edd4-4263-abd1-eaa22e035f21"
   },
   "outputs": [],
   "source": [
    "df['Titel'].unique()"
   ]
  },
  {
   "cell_type": "code",
   "execution_count": null,
   "metadata": {
    "id": "am0SgZJYkqwn"
   },
   "outputs": [],
   "source": [
    "df[['Titel Cleansed', 'Titel Comment']] = pd.DataFrame(df['Titel'].astype(str).apply(mail_cleansing).values.tolist(), columns=['titel_cleansed','comment'])"
   ]
  },
  {
   "cell_type": "code",
   "execution_count": null,
   "metadata": {
    "colab": {
     "base_uri": "https://localhost:8080/",
     "height": 1000
    },
    "id": "7yXdXjRhLtre",
    "outputId": "d556c168-7d6a-4a65-b7a6-0cc6ba0084ac"
   },
   "outputs": [],
   "source": [
    "df[df['Titel Comment'].str.contains('\\w', na=False)]"
   ]
  },
  {
   "cell_type": "markdown",
   "metadata": {
    "id": "QdvJBCUBxe9O"
   },
   "source": [
    "### Referentieorganisatie"
   ]
  },
  {
   "cell_type": "code",
   "execution_count": null,
   "metadata": {
    "colab": {
     "base_uri": "https://localhost:8080/"
    },
    "id": "faDxttP1JRGp",
    "outputId": "258d4476-c4ac-4d4f-f675-d8dce1be2ba1"
   },
   "outputs": [],
   "source": [
    "df['Referentieorganisatie'].unique()"
   ]
  },
  {
   "cell_type": "code",
   "execution_count": null,
   "metadata": {
    "colab": {
     "base_uri": "https://localhost:8080/",
     "height": 473
    },
    "id": "OOjRI_71g9aC",
    "outputId": "55791473-d4c8-45ab-84fc-a865d7b3e989"
   },
   "outputs": [],
   "source": [
    "df[df['Referentieorganisatie'].str.contains(r\"\\s\", na=False)]"
   ]
  },
  {
   "cell_type": "code",
   "execution_count": null,
   "metadata": {
    "colab": {
     "base_uri": "https://localhost:8080/",
     "height": 723
    },
    "id": "-QqXwnZwx_4q",
    "outputId": "f7aadb01-c4f5-42a2-9405-92706e29f5ee"
   },
   "outputs": [],
   "source": [
    "df[df['Referentieorganisatie'].isnull()]"
   ]
  },
  {
   "cell_type": "code",
   "execution_count": null,
   "metadata": {
    "id": "2BFc1u4s7t7V"
   },
   "outputs": [],
   "source": [
    "df[['Referentieorganisatie Cleansed']] = pd.DataFrame(df['Referentieorganisatie'].astype(str).apply(referentieorganisatie_cleansing).values.tolist())"
   ]
  },
  {
   "cell_type": "code",
   "execution_count": null,
   "metadata": {
    "colab": {
     "base_uri": "https://localhost:8080/",
     "height": 137
    },
    "id": "4XEM9_hZMCxf",
    "outputId": "a0cdddf5-4971-4eb3-db12-d9599c83496d"
   },
   "outputs": [],
   "source": [
    "df[df['Referentieorganisatie Cleansed'].str.contains(r\"\\s\", na=False)]"
   ]
  },
  {
   "cell_type": "code",
   "execution_count": null,
   "metadata": {
    "colab": {
     "base_uri": "https://localhost:8080/"
    },
    "id": "AdOdzsBxR2tx",
    "outputId": "6cec70a9-90dd-4ff5-afbe-7965f83eb38e"
   },
   "outputs": [],
   "source": [
    "df['Referentieorganisatie Cleansed'].unique()"
   ]
  },
  {
   "cell_type": "markdown",
   "metadata": {
    "id": "wRDhaT0ZzQSA"
   },
   "source": [
    "### Decretale functie"
   ]
  },
  {
   "cell_type": "code",
   "execution_count": null,
   "metadata": {
    "colab": {
     "base_uri": "https://localhost:8080/"
    },
    "id": "_OLij8kiJvc-",
    "outputId": "03bc7c91-38db-4937-8a0f-cfc3984220e0"
   },
   "outputs": [],
   "source": [
    "df['Decretale functie'].unique()"
   ]
  },
  {
   "cell_type": "code",
   "execution_count": null,
   "metadata": {
    "colab": {
     "base_uri": "https://localhost:8080/",
     "height": 1000
    },
    "id": "6Itg1PIFNdW1",
    "outputId": "8bfa8bc6-ccea-469e-cce2-c1566a7cb905"
   },
   "outputs": [],
   "source": [
    "df[df['Decretale functie'].isnull()]"
   ]
  },
  {
   "cell_type": "code",
   "execution_count": null,
   "metadata": {
    "id": "ze7cuh6EzTlt"
   },
   "outputs": [],
   "source": [
    "#df['Decretale functie Cleansed'] = df[df['Decretale functie'] != 'Griffier']['Decretale functie'].str.title().replace('Geen Of Onbekend', np.NAN)"
   ]
  },
  {
   "cell_type": "code",
   "execution_count": null,
   "metadata": {
    "colab": {
     "base_uri": "https://localhost:8080/"
    },
    "id": "8aRkVs0e6pMW",
    "outputId": "91fc58c7-6a08-4a27-b202-5ef8cacf0670"
   },
   "outputs": [],
   "source": [
    "df['Decretale functie Cleansed'].unique()"
   ]
  },
  {
   "cell_type": "code",
   "execution_count": null,
   "metadata": {
    "id": "JSQTrNjm1WO2"
   },
   "outputs": [],
   "source": [
    "df[['Decretale functie Cleansed', 'Functionaris status']] = pd.DataFrame(df[df['Decretale functie'] != 'Griffier']['Decretale functie'].astype(str).apply(decretale_functie_cleasing).values.tolist(), columns=['decretale cleansed','status'])"
   ]
  },
  {
   "cell_type": "code",
   "execution_count": null,
   "metadata": {
    "colab": {
     "base_uri": "https://localhost:8080/"
    },
    "id": "LGdW8ei4NazD",
    "outputId": "f3efec34-0dd3-4ea8-8e8d-5a378a0a26ef"
   },
   "outputs": [],
   "source": [
    "df['Decretale functie Cleansed'].unique()"
   ]
  },
  {
   "cell_type": "code",
   "execution_count": null,
   "metadata": {
    "colab": {
     "base_uri": "https://localhost:8080/"
    },
    "id": "WIWnjIeQNwzB",
    "outputId": "bc6e91cc-5e08-4916-8b98-3638e2b712dd"
   },
   "outputs": [],
   "source": [
    "df['Functionaris status'].unique()"
   ]
  },
  {
   "cell_type": "markdown",
   "metadata": {
    "id": "_nYF9CtE0akp"
   },
   "source": [
    "### Familienaam Contact"
   ]
  },
  {
   "cell_type": "code",
   "execution_count": null,
   "metadata": {
    "colab": {
     "base_uri": "https://localhost:8080/"
    },
    "id": "F_4bTtVxKZn1",
    "outputId": "c07f3b1b-1304-4a83-d501-74eabd5ad9d1"
   },
   "outputs": [],
   "source": [
    "df['Familienaam Contact'].unique()"
   ]
  },
  {
   "cell_type": "code",
   "execution_count": null,
   "metadata": {
    "colab": {
     "base_uri": "https://localhost:8080/",
     "height": 1000
    },
    "id": "_5_n2kXq0frs",
    "outputId": "5e6c45ee-a3ed-46a6-d05e-2f4bd50c45fa"
   },
   "outputs": [],
   "source": [
    "df[~df['Familienaam Contact'].str.contains('^[a-zA-ZàáâäãåąčćęèéêëėįìíîïłńòóôöõøùúûüųūÿýżźñçčšžÀÁÂÄÃÅĄĆČĖĘÈÉÊËÌÍÎÏĮŁŃÒÓÔÖÕØÙÚÛÜŲŪŸÝŻŹÑßÇŒÆČŠŽ∂ð \\'’-]+$', na=False)]"
   ]
  },
  {
   "cell_type": "code",
   "execution_count": null,
   "metadata": {
    "id": "3obQER1CAS4z"
   },
   "outputs": [],
   "source": [
    "df[['Familienaam Contact Cleansed', 'Familienaam Contact Comment']] = pd.DataFrame(df['Familienaam Contact'].astype(str).apply(naam_contact_cleansing).values.tolist(), columns=['naam_contact_cleansed','comment'])"
   ]
  },
  {
   "cell_type": "code",
   "execution_count": null,
   "metadata": {
    "colab": {
     "base_uri": "https://localhost:8080/",
     "height": 1000
    },
    "id": "jkX9eeWuNlJk",
    "outputId": "c89dbf90-df7e-456a-f7de-de6e20d37b00"
   },
   "outputs": [],
   "source": [
    "df[df['Familienaam Contact Comment'].str.contains(\"\\w\", na=False)]"
   ]
  },
  {
   "cell_type": "code",
   "execution_count": null,
   "metadata": {
    "colab": {
     "base_uri": "https://localhost:8080/"
    },
    "id": "T9KAduXaOG6L",
    "outputId": "26645fdb-4bab-45f2-a63e-271c41fb5e53"
   },
   "outputs": [],
   "source": [
    "df['Familienaam Contact Cleansed'].unique()"
   ]
  },
  {
   "cell_type": "markdown",
   "metadata": {
    "id": "LHiY1A4RGukP"
   },
   "source": [
    "### Voornaam Contact"
   ]
  },
  {
   "cell_type": "code",
   "execution_count": null,
   "metadata": {
    "colab": {
     "base_uri": "https://localhost:8080/"
    },
    "id": "3g5AgHbyJCyw",
    "outputId": "ab49b7a5-d2b5-46d4-a17e-7899da6ea8a7"
   },
   "outputs": [],
   "source": [
    "df['Voornaam Contact'].unique()"
   ]
  },
  {
   "cell_type": "code",
   "execution_count": null,
   "metadata": {
    "colab": {
     "base_uri": "https://localhost:8080/",
     "height": 1000
    },
    "id": "oV_BpUMTGtKG",
    "outputId": "1606a348-15ed-4955-a862-668632cc19f0"
   },
   "outputs": [],
   "source": [
    "df[~df['Voornaam Contact'].str.contains('^[a-zA-ZàáâäãåąčćęèéêëėįìíîïłńòóôöõøùúûüųūÿýżźñçčšžÀÁÂÄÃÅĄĆČĖĘÈÉÊËÌÍÎÏĮŁŃÒÓÔÖÕØÙÚÛÜŲŪŸÝŻŹÑßÇŒÆČŠŽ∂ð \\'’-]+$', na=False)]"
   ]
  },
  {
   "cell_type": "code",
   "execution_count": null,
   "metadata": {
    "id": "4Mc3pvSKBj9p"
   },
   "outputs": [],
   "source": [
    "df[['Voornaam Contact Cleansed', 'Voornaam Contact Comment']] = pd.DataFrame(df['Voornaam Contact'].astype(str).apply(naam_contact_cleansing).values.tolist(), columns=['naam_contact_cleansed','comment'])"
   ]
  },
  {
   "cell_type": "code",
   "execution_count": null,
   "metadata": {
    "colab": {
     "base_uri": "https://localhost:8080/",
     "height": 1000
    },
    "id": "UGkgVbrPNr8O",
    "outputId": "60020fa0-a272-468b-ab64-fb00ccb390ac"
   },
   "outputs": [],
   "source": [
    "df[df['Voornaam Contact Comment'].str.contains(\"\\w\", na=False)]"
   ]
  },
  {
   "cell_type": "code",
   "execution_count": null,
   "metadata": {
    "colab": {
     "base_uri": "https://localhost:8080/"
    },
    "id": "vuGItZArNyw1",
    "outputId": "c62e1c10-396f-4149-846b-73f155d81c82"
   },
   "outputs": [],
   "source": [
    "df['Voornaam Contact Cleansed'].unique()"
   ]
  },
  {
   "cell_type": "markdown",
   "metadata": {
    "id": "N9mrNOSJDq4O"
   },
   "source": [
    "### Telefoonnr Contact"
   ]
  },
  {
   "cell_type": "markdown",
   "metadata": {
    "id": "9iPA_MWlvl3G"
   },
   "source": [
    "**Not usual Format**\n",
    "\n",
    "* 0032-(0)25538594\n",
    "* +0032-(0)25527720\n",
    "* 013/612174\n",
    "* 016-267224\n",
    "* 02/3590703\t\n",
    "* 052399893//052469213\n",
    "* 056 73 70 19056/73 70 19 << duplicated\n",
    "* +3258429736 058/42.97.36 << duplicated"
   ]
  },
  {
   "cell_type": "code",
   "execution_count": null,
   "metadata": {
    "id": "H9KTMzn8CaEx"
   },
   "outputs": [],
   "source": [
    "df[['Telefoonnr Contact 1', 'Telefoonnr Contact 2', 'Telefoonnr Contact Comment']] = pd.DataFrame(df['Telefoonnr Contact'].astype(str).apply(telephone_number_cleansing).values.tolist(), columns=['telephone_number_1', 'telephone_number_2', 'comment'])"
   ]
  },
  {
   "cell_type": "code",
   "execution_count": null,
   "metadata": {
    "colab": {
     "base_uri": "https://localhost:8080/",
     "height": 1000
    },
    "id": "rgLELiVC3rZT",
    "outputId": "9a2b785d-c688-4c0a-9b2d-b644a2da33fc"
   },
   "outputs": [],
   "source": [
    "df[df['Telefoonnr Contact 1'].str.contains(r'\\d', na=False)]"
   ]
  },
  {
   "cell_type": "code",
   "execution_count": null,
   "metadata": {
    "colab": {
     "base_uri": "https://localhost:8080/",
     "height": 306
    },
    "id": "LJwphSAYvdOq",
    "outputId": "c4e0800a-c6b7-40b2-aa82-98619e066ee5"
   },
   "outputs": [],
   "source": [
    "df[df['Telefoonnr Contact 2'].str.contains(r'\\d', na=False)]"
   ]
  },
  {
   "cell_type": "code",
   "execution_count": null,
   "metadata": {
    "colab": {
     "base_uri": "https://localhost:8080/",
     "height": 1000
    },
    "id": "m158jdYRGUGn",
    "outputId": "34aa9d07-0ab6-4a55-ee53-2d353c508619"
   },
   "outputs": [],
   "source": [
    "df[df['Telefoonnr Contact Comment'].str.contains('\\w', na=False) & ~((df['Telefoonnr Contact'].str.contains('^0$', na=False)) | (df['Telefoonnr Contact'].isnull()))]"
   ]
  },
  {
   "cell_type": "code",
   "execution_count": null,
   "metadata": {
    "colab": {
     "base_uri": "https://localhost:8080/",
     "height": 1000
    },
    "id": "u2TRQefiXfat",
    "outputId": "3882d225-0c2d-46d4-cf01-cffcea759df0"
   },
   "outputs": [],
   "source": [
    "df[(df['Telefoonnr Contact'].str.contains('^0$', na=False)) | (df['Telefoonnr Contact'].isnull())]"
   ]
  },
  {
   "cell_type": "markdown",
   "metadata": {
    "id": "bki8Ok6j1jpb"
   },
   "source": [
    "### GSMnr Contact"
   ]
  },
  {
   "cell_type": "markdown",
   "metadata": {
    "id": "bQhfNWyMM62M"
   },
   "source": [
    "**Not usual Format**\n",
    "\n",
    "* (486)079517\n",
    "*  0488/981455 \t"
   ]
  },
  {
   "cell_type": "code",
   "execution_count": null,
   "metadata": {
    "id": "2xCKYANYXvXJ"
   },
   "outputs": [],
   "source": [
    "df[['GSMnr Contact Cleansed', 'GSMnr Contact 2', 'GSMnr Contact Comment']] = pd.DataFrame(df['GSMnr Contact'].astype(str).apply(telephone_number_cleansing).values.tolist(), columns=['telephone_number_1', 'telephone_number_2', 'comment'])"
   ]
  },
  {
   "cell_type": "code",
   "execution_count": null,
   "metadata": {
    "colab": {
     "base_uri": "https://localhost:8080/",
     "height": 507
    },
    "id": "JTWBZieBMG-w",
    "outputId": "7bb477b8-f584-49ac-be13-20574e34d56b"
   },
   "outputs": [],
   "source": [
    "df[~(df['GSMnr Contact Cleansed'].str.len() == 10) & (df['GSMnr Contact Cleansed'].notnull())]"
   ]
  },
  {
   "cell_type": "markdown",
   "metadata": {
    "id": "nF9oMUEJ55aV"
   },
   "source": [
    "### Functietitel"
   ]
  },
  {
   "cell_type": "code",
   "execution_count": null,
   "metadata": {
    "id": "29pKu4nH56rC"
   },
   "outputs": [],
   "source": [
    "df['Functietitel Cleansed'] = df['Functietitel'].str.strip().str.title()\n",
    "df['Functietitel Cleansed'] = df['Functietitel Cleansed'].replace('0', np.nan)"
   ]
  },
  {
   "cell_type": "code",
   "execution_count": null,
   "metadata": {
    "colab": {
     "base_uri": "https://localhost:8080/"
    },
    "id": "XYa4uDY6avSQ",
    "outputId": "a3f255a6-edd9-4745-d3a8-6db0e4f68bc2"
   },
   "outputs": [],
   "source": [
    "df['Functietitel Cleansed'].unique()"
   ]
  },
  {
   "cell_type": "code",
   "execution_count": null,
   "metadata": {
    "colab": {
     "base_uri": "https://localhost:8080/",
     "height": 1000
    },
    "id": "aFPXoR94SI-U",
    "outputId": "22e9f290-2778-4ccd-f4ad-65f251d002e5"
   },
   "outputs": [],
   "source": [
    "df[(df['Functietitel'].str.contains('^0$', na=False)) | (df['Functietitel'].isnull())]"
   ]
  },
  {
   "cell_type": "markdown",
   "metadata": {
    "id": "AVMBeTxt9FGn"
   },
   "source": [
    "### Secretaris"
   ]
  },
  {
   "cell_type": "code",
   "execution_count": null,
   "metadata": {
    "colab": {
     "base_uri": "https://localhost:8080/"
    },
    "id": "m80qCQkQ9JYr",
    "outputId": "750f9aa5-7e35-4b67-bc60-17ffec6a8d32"
   },
   "outputs": [],
   "source": [
    "df['Secretaris'].unique()"
   ]
  },
  {
   "cell_type": "code",
   "execution_count": null,
   "metadata": {
    "colab": {
     "base_uri": "https://localhost:8080/",
     "height": 139
    },
    "id": "20Bi87M0SVLq",
    "outputId": "efb14d86-fd4f-4467-84da-cee4d7af72aa"
   },
   "outputs": [],
   "source": [
    "df[df['Secretaris'].isnull()]"
   ]
  },
  {
   "cell_type": "markdown",
   "metadata": {
    "id": "z8SGqzlB9HZ8"
   },
   "source": [
    "### Griffier"
   ]
  },
  {
   "cell_type": "code",
   "execution_count": null,
   "metadata": {
    "colab": {
     "base_uri": "https://localhost:8080/"
    },
    "id": "rUBbL_Nb9SGz",
    "outputId": "ac0cd579-2ebf-4d30-cc04-5fec1f9eedde"
   },
   "outputs": [],
   "source": [
    "df['Griffier'].unique()"
   ]
  },
  {
   "cell_type": "code",
   "execution_count": null,
   "metadata": {
    "colab": {
     "base_uri": "https://localhost:8080/",
     "height": 139
    },
    "id": "TjEDrotuSrv-",
    "outputId": "589e6926-02c5-40ff-e4f1-eb9158be7f31"
   },
   "outputs": [],
   "source": [
    "df[df['Griffier'].isnull()]"
   ]
  },
  {
   "cell_type": "markdown",
   "metadata": {
    "id": "jAIyXyE-9b7Z"
   },
   "source": [
    "### Financieel Beheerder"
   ]
  },
  {
   "cell_type": "code",
   "execution_count": null,
   "metadata": {
    "colab": {
     "base_uri": "https://localhost:8080/"
    },
    "id": "d-dKL9hk9eFe",
    "outputId": "e7520859-6ced-4052-90bb-0ad5ac846983"
   },
   "outputs": [],
   "source": [
    "df['Financieel Beheerder'].unique()"
   ]
  },
  {
   "cell_type": "code",
   "execution_count": null,
   "metadata": {
    "colab": {
     "base_uri": "https://localhost:8080/",
     "height": 139
    },
    "id": "Effi3mI3Sup6",
    "outputId": "64af39fb-7002-4f4b-e329-6c8a1910e3f5"
   },
   "outputs": [],
   "source": [
    "df[df['Financieel Beheerder'].isnull()]"
   ]
  },
  {
   "cell_type": "markdown",
   "metadata": {
    "id": "ApIJUKY99gjg"
   },
   "source": [
    "### BBC Contact"
   ]
  },
  {
   "cell_type": "code",
   "execution_count": null,
   "metadata": {
    "colab": {
     "base_uri": "https://localhost:8080/"
    },
    "id": "RJH8vcoz9jmh",
    "outputId": "ce34a999-b6b1-4a89-9322-19cb87a25837"
   },
   "outputs": [],
   "source": [
    "df['BBC Contact'].unique()"
   ]
  },
  {
   "cell_type": "code",
   "execution_count": null,
   "metadata": {
    "colab": {
     "base_uri": "https://localhost:8080/",
     "height": 139
    },
    "id": "KkPyfxp6T79P",
    "outputId": "9f45e86b-43d4-48de-95c2-3c4b2b1efa85"
   },
   "outputs": [],
   "source": [
    "df[df['BBC Contact'].isnull()]"
   ]
  },
  {
   "cell_type": "markdown",
   "metadata": {
    "id": "w4xdSqa59oOC"
   },
   "source": [
    "### Banken Contact"
   ]
  },
  {
   "cell_type": "code",
   "execution_count": null,
   "metadata": {
    "colab": {
     "base_uri": "https://localhost:8080/"
    },
    "id": "ZjqzCdn390-k",
    "outputId": "86b21986-e3eb-4bbf-ef0f-9ff694a0673c"
   },
   "outputs": [],
   "source": [
    "df['Banken Contact'].unique()"
   ]
  },
  {
   "cell_type": "code",
   "execution_count": null,
   "metadata": {
    "colab": {
     "base_uri": "https://localhost:8080/",
     "height": 139
    },
    "id": "YRU1R5jRT-jx",
    "outputId": "16590e62-d590-4fec-f841-6166b17954bb"
   },
   "outputs": [],
   "source": [
    "df[df['Banken Contact'].isnull()]"
   ]
  },
  {
   "cell_type": "markdown",
   "metadata": {
    "id": "C1s62VQ498co"
   },
   "source": [
    "### ICT Contact  "
   ]
  },
  {
   "cell_type": "code",
   "execution_count": null,
   "metadata": {
    "colab": {
     "base_uri": "https://localhost:8080/"
    },
    "id": "kTB3YpVP93vv",
    "outputId": "9eaf40e8-e3bb-4967-e8e7-6ce313a21565"
   },
   "outputs": [],
   "source": [
    "df['ICT Contact'].unique()"
   ]
  },
  {
   "cell_type": "code",
   "execution_count": null,
   "metadata": {
    "colab": {
     "base_uri": "https://localhost:8080/",
     "height": 139
    },
    "id": "vDtM5LWuUIBn",
    "outputId": "a1f3b861-25c0-4d5b-8fc3-756460fd9e52"
   },
   "outputs": [],
   "source": [
    "df[df['ICT Contact'].isnull()]"
   ]
  },
  {
   "cell_type": "markdown",
   "metadata": {
    "id": "7ExHYea4-RXt"
   },
   "source": [
    "### Federaties Contact"
   ]
  },
  {
   "cell_type": "code",
   "execution_count": null,
   "metadata": {
    "colab": {
     "base_uri": "https://localhost:8080/"
    },
    "id": "ZrD0QvQg-TKu",
    "outputId": "07d953ac-bae0-4c4e-91be-d4337236c46d"
   },
   "outputs": [],
   "source": [
    "df['Federaties Contact'].unique()"
   ]
  },
  {
   "cell_type": "code",
   "execution_count": null,
   "metadata": {
    "colab": {
     "base_uri": "https://localhost:8080/",
     "height": 139
    },
    "id": "JevePUarUF1y",
    "outputId": "e6aa3292-fca6-47d9-e47c-a4aaafd82934"
   },
   "outputs": [],
   "source": [
    "df[df['Federaties Contact'].isnull()]"
   ]
  },
  {
   "cell_type": "markdown",
   "metadata": {
    "id": "DZijNX5X-k_j"
   },
   "source": [
    "### Werkt in:KBOnr"
   ]
  },
  {
   "cell_type": "code",
   "execution_count": null,
   "metadata": {
    "colab": {
     "base_uri": "https://localhost:8080/"
    },
    "id": "0oCDLi_l-ne1",
    "outputId": "eebf3e3e-663e-4f01-a01c-c4b8028e8bea"
   },
   "outputs": [],
   "source": [
    "df['Werkt in:KBOnr'].unique()"
   ]
  },
  {
   "cell_type": "code",
   "execution_count": null,
   "metadata": {
    "id": "kQ9MqwgUAFL_"
   },
   "outputs": [],
   "source": [
    "df['Werkt in:KBOnr Cleansed'] = df['Werkt in:KBOnr'].replace('Onbekend', np.nan)"
   ]
  },
  {
   "cell_type": "code",
   "execution_count": null,
   "metadata": {
    "id": "Df8OOJS4GBYH"
   },
   "outputs": [],
   "source": [
    "df['organisation_id'] = df['Werkt in:KBOnr Cleansed'].fillna(df['Referentieorganisatie'])"
   ]
  },
  {
   "cell_type": "code",
   "execution_count": null,
   "metadata": {
    "id": "SUhycIVuF7OX"
   },
   "outputs": [],
   "source": [
    "df[~(df['Werkt in:KBOnr'].str.len() == 10) & (df['Werkt in:KBOnr'].notnull())] #10 digit"
   ]
  },
  {
   "cell_type": "code",
   "execution_count": null,
   "metadata": {
    "colab": {
     "base_uri": "https://localhost:8080/",
     "height": 1000
    },
    "id": "zFUqdHOkVBai",
    "outputId": "04257e39-c92a-48cc-95f7-fa4d8c690b51"
   },
   "outputs": [],
   "source": [
    "df[df['Werkt in:KBOnr'].isnull()]"
   ]
  },
  {
   "cell_type": "markdown",
   "metadata": {
    "id": "zN7jciOKAJtY"
   },
   "source": [
    "### Werkt in:Straat"
   ]
  },
  {
   "cell_type": "code",
   "execution_count": null,
   "metadata": {
    "colab": {
     "base_uri": "https://localhost:8080/"
    },
    "id": "bJNrYmMuALtg",
    "outputId": "3c4945ce-505f-43c6-afec-4dae0d844521"
   },
   "outputs": [],
   "source": [
    "df['Werkt in:Straat'].unique()"
   ]
  },
  {
   "cell_type": "code",
   "execution_count": null,
   "metadata": {
    "colab": {
     "base_uri": "https://localhost:8080/",
     "height": 1000
    },
    "id": "YRbDY-gyVY0U",
    "outputId": "91c31fcf-b166-4164-fe0f-0e154f635edc"
   },
   "outputs": [],
   "source": [
    "df[df['Werkt in:Straat'].isnull()]"
   ]
  },
  {
   "cell_type": "markdown",
   "metadata": {
    "id": "-aIrkn2JA1oD"
   },
   "source": [
    "### Werkt in:Huisnr"
   ]
  },
  {
   "cell_type": "markdown",
   "metadata": {
    "id": "w52pbmgKlBMW"
   },
   "source": [
    "**Huis Nummer & Bus Nummer**\n",
    "\n",
    "* 29 bus 1\n",
    "* 5 - bus2\n",
    "* 141/2\n",
    "* 1 / bus 1\n",
    "* 4 -  bus2\n",
    "* 51/2\n",
    "\n",
    "**Huis Nummer**\n",
    "\n",
    "* 6-7\n",
    "* 4A\n"
   ]
  },
  {
   "cell_type": "markdown",
   "metadata": {
    "id": "tfyA5Bnmq_b1"
   },
   "source": [
    "**Special case**\n",
    "\n",
    "* 1/A000 >> bus nummer? | looks like it\n",
    "* 13, 4de verdieping >> ?? | 4th floor\n",
    "* '50, Cargovil', >> ?? | an industrial area? would ignore it\n",
    "* '24, gebouw A' >> ?? | building A\n",
    "* z/n"
   ]
  },
  {
   "cell_type": "code",
   "execution_count": null,
   "metadata": {
    "colab": {
     "base_uri": "https://localhost:8080/"
    },
    "id": "5SKEDLs-A00-",
    "outputId": "c79a6aa3-29e5-4cf2-d917-23584fa262e6"
   },
   "outputs": [],
   "source": [
    "df['Werkt in:Huisnr'].unique()"
   ]
  },
  {
   "cell_type": "code",
   "execution_count": null,
   "metadata": {
    "colab": {
     "base_uri": "https://localhost:8080/",
     "height": 1000
    },
    "id": "uUhNXwHVXVTD",
    "outputId": "0a07fc7f-651d-44ed-d0c2-a72c148f7399"
   },
   "outputs": [],
   "source": [
    "df[df['Werkt in:Huisnr'].isnull()]"
   ]
  },
  {
   "cell_type": "code",
   "execution_count": null,
   "metadata": {
    "colab": {
     "base_uri": "https://localhost:8080/",
     "height": 1000
    },
    "id": "sa-kkCC6yb5m",
    "outputId": "a10ac072-5141-4648-d06b-17f37842fef9"
   },
   "outputs": [],
   "source": [
    "df[['Huisnr', 'Busnr', 'Werkt in:Huisnr Comment']] = pd.DataFrame(df['Werkt in:Huisnr'].astype(str).apply(split_house_bus_number).values.tolist(), columns=['house_number', 'bus_number', 'comment'])\n",
    "df[df['Werkt in:Huisnr Comment'].str.contains('\\w', na=False)]"
   ]
  },
  {
   "cell_type": "code",
   "execution_count": null,
   "metadata": {
    "colab": {
     "base_uri": "https://localhost:8080/"
    },
    "id": "eoMBKG9SZSIh",
    "outputId": "f1b22fe1-de60-4058-ea15-edc7af38b29a"
   },
   "outputs": [],
   "source": [
    "df['Huisnr'].unique()"
   ]
  },
  {
   "cell_type": "code",
   "execution_count": null,
   "metadata": {
    "colab": {
     "base_uri": "https://localhost:8080/"
    },
    "id": "2gOoNqUUgDxu",
    "outputId": "6f7e7bcc-a197-4d6d-8f3f-45581fe75679"
   },
   "outputs": [],
   "source": [
    "df['Busnr'].unique()"
   ]
  },
  {
   "cell_type": "markdown",
   "metadata": {
    "id": "DekLAB5QBIzY"
   },
   "source": [
    "### Werkt in:Postcode van de organisatie"
   ]
  },
  {
   "cell_type": "code",
   "execution_count": null,
   "metadata": {
    "colab": {
     "base_uri": "https://localhost:8080/"
    },
    "id": "ox7LNpbtBKJt",
    "outputId": "7ff9d8bf-cc86-4f4a-ddb1-52d4b5ae7206"
   },
   "outputs": [],
   "source": [
    "df['Werkt in:Postcode van de organisatie'] = df['Werkt in:Postcode van de organisatie'].astype(str).str.replace('\\.0', '')\n",
    "df['Werkt in:Postcode van de organisatie'] = df['Werkt in:Postcode van de organisatie'].replace('nan', np.NaN)\n",
    "df['Werkt in:Postcode van de organisatie'].unique()"
   ]
  },
  {
   "cell_type": "code",
   "execution_count": null,
   "metadata": {
    "colab": {
     "base_uri": "https://localhost:8080/",
     "height": 139
    },
    "id": "SIK9Enn9XYOp",
    "outputId": "dcf6332d-0774-4ce1-c7eb-79a66a26fb02"
   },
   "outputs": [],
   "source": [
    "df[~(df['Werkt in:Postcode van de organisatie'].str.len() == 4) & (df['Werkt in:Postcode van de organisatie'].notnull())] #4 digit"
   ]
  },
  {
   "cell_type": "code",
   "execution_count": null,
   "metadata": {
    "colab": {
     "base_uri": "https://localhost:8080/",
     "height": 1000
    },
    "id": "qLQzKT8UZisR",
    "outputId": "793edccc-cf5e-4b8b-b22d-2e64f4479cf4"
   },
   "outputs": [],
   "source": [
    "df[df['Werkt in:Postcode van de organisatie'].isnull()]"
   ]
  },
  {
   "cell_type": "markdown",
   "metadata": {
    "id": "rA4HaI9qDtjh"
   },
   "source": [
    "### Werkt in:Gemeente van de organisatie"
   ]
  },
  {
   "cell_type": "code",
   "execution_count": null,
   "metadata": {
    "colab": {
     "base_uri": "https://localhost:8080/"
    },
    "id": "pLIXx1jfEKeF",
    "outputId": "efc96f80-e6f1-4045-8806-2c998a9af44f"
   },
   "outputs": [],
   "source": [
    "df['Werkt in:Gemeente van de organisatie'] = df['Werkt in:Gemeente van de organisatie'].str.title()\n",
    "df['Werkt in:Gemeente van de organisatie'].unique()"
   ]
  },
  {
   "cell_type": "markdown",
   "metadata": {
    "id": "8_iwQWZfEJvD"
   },
   "source": [
    "### Werkt in:Unieke Naam"
   ]
  },
  {
   "cell_type": "code",
   "execution_count": null,
   "metadata": {
    "colab": {
     "base_uri": "https://localhost:8080/",
     "height": 139
    },
    "id": "lXj7FlrUDt3s",
    "outputId": "3ce909dc-973f-4468-b04a-404c892e431a"
   },
   "outputs": [],
   "source": [
    "df[df['Werkt in:Unieke Naam'].str.strip().str.contains(\"/s\", na=False)]"
   ]
  },
  {
   "cell_type": "code",
   "execution_count": null,
   "metadata": {
    "colab": {
     "base_uri": "https://localhost:8080/",
     "height": 810
    },
    "id": "8nbtbPnladd0",
    "outputId": "54f5c449-2eac-4af9-fcdb-cdc7a2cb3f57"
   },
   "outputs": [],
   "source": [
    "df[df['Werkt in:Unieke Naam'].isnull()]"
   ]
  },
  {
   "cell_type": "markdown",
   "metadata": {
    "id": "Sl62n1yQEmYf"
   },
   "source": [
    "### Werkt in:TypeEntiteitCalc"
   ]
  },
  {
   "cell_type": "code",
   "execution_count": null,
   "metadata": {
    "colab": {
     "base_uri": "https://localhost:8080/"
    },
    "id": "Oud1DM-CEnDO",
    "outputId": "0fb118cc-10bf-4c25-f99a-76ae837238cd"
   },
   "outputs": [],
   "source": [
    "df['Werkt in:TypeEntiteitCalc'].unique()"
   ]
  },
  {
   "cell_type": "code",
   "execution_count": null,
   "metadata": {
    "colab": {
     "base_uri": "https://localhost:8080/",
     "height": 810
    },
    "id": "8N2PucxUbNEL",
    "outputId": "34457901-a160-45c5-e7c0-772784e1e780"
   },
   "outputs": [],
   "source": [
    "df[df['Werkt in:TypeEntiteitCalc'].isnull()]"
   ]
  },
  {
   "cell_type": "markdown",
   "metadata": {
    "id": "5xt3e6YXFIWQ"
   },
   "source": [
    "### Werkt in:Provincie van de organisatie calc"
   ]
  },
  {
   "cell_type": "code",
   "execution_count": null,
   "metadata": {
    "colab": {
     "base_uri": "https://localhost:8080/"
    },
    "id": "r3JMwkSnFZyN",
    "outputId": "cd95a8e6-3afd-438d-ffb2-58f4b7f53a42"
   },
   "outputs": [],
   "source": [
    "df['Werkt in:Provincie van de organisatie calc'].unique()"
   ]
  },
  {
   "cell_type": "code",
   "execution_count": null,
   "metadata": {
    "colab": {
     "base_uri": "https://localhost:8080/",
     "height": 1000
    },
    "id": "ODWmQqZqbUtZ",
    "outputId": "cf7d893a-3091-46a8-aafc-a85502078a46"
   },
   "outputs": [],
   "source": [
    "df[(df['Werkt in:Provincie van de organisatie calc'].str.contains('^0$', na=False)) | (df['Werkt in:Provincie van de organisatie calc'].isnull())]"
   ]
  },
  {
   "cell_type": "markdown",
   "metadata": {
    "id": "sblES6JpPv-9"
   },
   "source": [
    "### Mail nr2"
   ]
  },
  {
   "cell_type": "code",
   "execution_count": null,
   "metadata": {
    "colab": {
     "base_uri": "https://localhost:8080/"
    },
    "id": "mQBriNkOP2nM",
    "outputId": "302d9f9d-12a4-4a47-f111-37e0c26653a7"
   },
   "outputs": [],
   "source": [
    "df['Mail nr2'].unique()"
   ]
  },
  {
   "cell_type": "code",
   "execution_count": null,
   "metadata": {
    "id": "7FR-8Ar3a5Q9"
   },
   "outputs": [],
   "source": [
    "df[['Mail nr2 Cleansed', 'Mail nr2 Comment']] = pd.DataFrame(df['Mail nr2'].astype(str).apply(mail_cleansing).values.tolist(), columns=['mail_cleansed','comment'])"
   ]
  },
  {
   "cell_type": "code",
   "execution_count": null,
   "metadata": {
    "colab": {
     "base_uri": "https://localhost:8080/",
     "height": 306
    },
    "id": "8qRWDR-2bE-Z",
    "outputId": "ea957941-2074-4b5f-9ef6-02f629bc5f3e"
   },
   "outputs": [],
   "source": [
    "df[df['Mail nr2 Comment'].str.contains('\\w', na=False)]"
   ]
  },
  {
   "cell_type": "code",
   "execution_count": null,
   "metadata": {
    "colab": {
     "base_uri": "https://localhost:8080/",
     "height": 1000
    },
    "id": "amw71g94buCO",
    "outputId": "50f5d58e-69f4-4540-efa7-fe514066a41f"
   },
   "outputs": [],
   "source": [
    "df[df['Mail nr2'].isnull()]"
   ]
  },
  {
   "cell_type": "markdown",
   "metadata": {
    "id": "KBz0ZkjX6Htk"
   },
   "source": [
    "### Id"
   ]
  },
  {
   "cell_type": "code",
   "execution_count": null,
   "metadata": {
    "id": "N_A6OePr6Ili"
   },
   "outputs": [],
   "source": [
    "df['Id Cleansed'] = df['Id']"
   ]
  },
  {
   "cell_type": "code",
   "execution_count": null,
   "metadata": {
    "colab": {
     "base_uri": "https://localhost:8080/",
     "height": 139
    },
    "id": "qei8Feybb97g",
    "outputId": "d52f2ea1-715b-4d5a-960d-8102b8fc0592"
   },
   "outputs": [],
   "source": [
    "df[df['Id Cleansed'].isnull()]"
   ]
  },
  {
   "cell_type": "markdown",
   "metadata": {
    "id": "NYAmpWUV8Ody"
   },
   "source": [
    "### Contact Waarborgen"
   ]
  },
  {
   "cell_type": "code",
   "execution_count": null,
   "metadata": {
    "colab": {
     "base_uri": "https://localhost:8080/"
    },
    "id": "Gr1Gy08G8UsT",
    "outputId": "914fa3be-0bd3-48d4-9f08-8c7e385ce647"
   },
   "outputs": [],
   "source": [
    "df['Contact Waarborgen'].unique()"
   ]
  },
  {
   "cell_type": "code",
   "execution_count": null,
   "metadata": {
    "colab": {
     "base_uri": "https://localhost:8080/",
     "height": 1000
    },
    "id": "rIFQYtQ5cIM_",
    "outputId": "47d1b715-1440-432c-a212-22b036a8a273"
   },
   "outputs": [],
   "source": [
    "df[df['Contact Waarborgen'].isnull()]"
   ]
  },
  {
   "cell_type": "markdown",
   "metadata": {
    "id": "7EeGuaz78c0K"
   },
   "source": [
    "### Contact PPS"
   ]
  },
  {
   "cell_type": "code",
   "execution_count": null,
   "metadata": {
    "colab": {
     "base_uri": "https://localhost:8080/"
    },
    "id": "WGqeUS5W8ggF",
    "outputId": "1a32df4e-1f9a-4e9e-fa16-d9f75d1f9de9"
   },
   "outputs": [],
   "source": [
    "df['Contact PPS'].unique()"
   ]
  },
  {
   "cell_type": "code",
   "execution_count": null,
   "metadata": {
    "colab": {
     "base_uri": "https://localhost:8080/",
     "height": 1000
    },
    "id": "KHwZcLXNcMbD",
    "outputId": "02fdba1b-782f-41df-ebed-4e58897b2c70"
   },
   "outputs": [],
   "source": [
    "df[df['Contact PPS'].isnull()]"
   ]
  },
  {
   "cell_type": "markdown",
   "metadata": {
    "id": "gBWbJGTO8mJd"
   },
   "source": [
    "### Contact Deelnemingen"
   ]
  },
  {
   "cell_type": "code",
   "execution_count": null,
   "metadata": {
    "colab": {
     "base_uri": "https://localhost:8080/"
    },
    "id": "UyuC3bHT8o1s",
    "outputId": "3216cc76-11fc-48e6-baaa-5cf10a422148"
   },
   "outputs": [],
   "source": [
    "df['Contact Deelnemingen'].unique()"
   ]
  },
  {
   "cell_type": "code",
   "execution_count": null,
   "metadata": {
    "colab": {
     "base_uri": "https://localhost:8080/",
     "height": 1000
    },
    "id": "vXjQPoUFcPM6",
    "outputId": "d08f0b1d-0f81-4b57-8a9b-40ab07cfc446"
   },
   "outputs": [],
   "source": [
    "df[df['Contact Deelnemingen'].isnull()]"
   ]
  },
  {
   "cell_type": "markdown",
   "metadata": {
    "id": "wS6w09OD8sSb"
   },
   "source": [
    "### Contact Mandaten"
   ]
  },
  {
   "cell_type": "code",
   "execution_count": null,
   "metadata": {
    "colab": {
     "base_uri": "https://localhost:8080/"
    },
    "id": "T9PV54Ll8rUD",
    "outputId": "dbe49f28-3432-4dd0-9ed3-4035f08671f4"
   },
   "outputs": [],
   "source": [
    "df['Contact Mandaten'].unique()"
   ]
  },
  {
   "cell_type": "code",
   "execution_count": null,
   "metadata": {
    "colab": {
     "base_uri": "https://localhost:8080/",
     "height": 1000
    },
    "id": "lQGCo3wMcVp8",
    "outputId": "7a3b63e6-2490-43d5-a95f-d76f97794442"
   },
   "outputs": [],
   "source": [
    "df[df['Contact Mandaten'].isnull()]"
   ]
  },
  {
   "cell_type": "markdown",
   "metadata": {
    "id": "9ye1lzah8yuD"
   },
   "source": [
    "### Contact BBC-DR"
   ]
  },
  {
   "cell_type": "code",
   "execution_count": null,
   "metadata": {
    "colab": {
     "base_uri": "https://localhost:8080/"
    },
    "id": "2pQ3WnjQ9CM_",
    "outputId": "4989fceb-c093-4ceb-cb94-979e8657e142"
   },
   "outputs": [],
   "source": [
    "df['Contact BBC-DR'].unique()"
   ]
  },
  {
   "cell_type": "code",
   "execution_count": null,
   "metadata": {
    "colab": {
     "base_uri": "https://localhost:8080/",
     "height": 1000
    },
    "id": "ZMWurjB7cYqT",
    "outputId": "15b83bf0-868c-4f7b-d7f7-fdced96db24e"
   },
   "outputs": [],
   "source": [
    "df[df['Contact BBC-DR'].isnull()]"
   ]
  },
  {
   "cell_type": "markdown",
   "metadata": {
    "id": "J_fstuOR9PKU"
   },
   "source": [
    "### Status Contact Actief"
   ]
  },
  {
   "cell_type": "code",
   "execution_count": null,
   "metadata": {
    "colab": {
     "base_uri": "https://localhost:8080/"
    },
    "id": "a5vepwC89OkK",
    "outputId": "085a941a-e1fe-4651-bf77-b336c94e3fd6"
   },
   "outputs": [],
   "source": [
    "df['Status Contact Actief'].unique()"
   ]
  },
  {
   "cell_type": "code",
   "execution_count": null,
   "metadata": {
    "colab": {
     "base_uri": "https://localhost:8080/",
     "height": 139
    },
    "id": "OaxztwvUddE6",
    "outputId": "c62f26bf-21fa-4030-c8d1-bdb510f9f5cb"
   },
   "outputs": [],
   "source": [
    "df[df['Status Contact Actief'].isnull()]"
   ]
  },
  {
   "cell_type": "markdown",
   "metadata": {
    "id": "EkBXvf3b9Viy"
   },
   "source": [
    "### Referentieorganisatie:Organisatiestatus calc"
   ]
  },
  {
   "cell_type": "code",
   "execution_count": null,
   "metadata": {
    "colab": {
     "base_uri": "https://localhost:8080/"
    },
    "id": "G9sjWeS_9WMS",
    "outputId": "7482c89c-bc41-4693-e4a6-cd01bd0e6862"
   },
   "outputs": [],
   "source": [
    "df['Referentieorganisatie:Organisatiestatus calc'].unique()"
   ]
  },
  {
   "cell_type": "code",
   "execution_count": null,
   "metadata": {
    "colab": {
     "base_uri": "https://localhost:8080/",
     "height": 810
    },
    "id": "Y5CNdCJhdg8U",
    "outputId": "7ea5c0e0-1ef8-4eb7-d9c1-09989a7cbf01"
   },
   "outputs": [],
   "source": [
    "df[df['Referentieorganisatie:Organisatiestatus calc'].isnull()]"
   ]
  },
  {
   "cell_type": "markdown",
   "metadata": {
    "id": "ql7RKl279z32"
   },
   "source": [
    "### Itemtype"
   ]
  },
  {
   "cell_type": "code",
   "execution_count": null,
   "metadata": {
    "colab": {
     "base_uri": "https://localhost:8080/"
    },
    "id": "SaR2g2yK947Z",
    "outputId": "45ca4618-3b80-4803-9420-b443d581066e"
   },
   "outputs": [],
   "source": [
    "df['Itemtype'].unique()"
   ]
  },
  {
   "cell_type": "markdown",
   "metadata": {
    "id": "hTjzpdBA92fc"
   },
   "source": [
    "### Pad"
   ]
  },
  {
   "cell_type": "code",
   "execution_count": null,
   "metadata": {
    "colab": {
     "base_uri": "https://localhost:8080/"
    },
    "id": "Gv9bODBg9_Mt",
    "outputId": "8afc7eaf-ee8d-4a1c-a84d-b0730f98af8e"
   },
   "outputs": [],
   "source": [
    "df['Pad'].unique()"
   ]
  },
  {
   "cell_type": "markdown",
   "metadata": {
    "id": "9RkXcJauQSNq"
   },
   "source": [
    "# Export data"
   ]
  },
  {
   "cell_type": "code",
   "execution_count": null,
   "metadata": {
    "id": "_KUrQDqQQRiI"
   },
   "outputs": [],
   "source": [
    "df.to_excel('contacten.xlsx')"
   ]
  },
  {
   "cell_type": "markdown",
   "metadata": {
    "id": "z5aixPlGJ6yE"
   },
   "source": [
    "## Namespace"
   ]
  },
  {
   "cell_type": "code",
   "execution_count": null,
   "metadata": {
    "id": "W7wAe4BO2MUH"
   },
   "outputs": [],
   "source": [
    "org = Namespace('http://www.w3.org/ns/org#')\n",
    "locn = Namespace('http://www.w3.org/ns/locn#')\n",
    "dc_terms= Namespace('http://purl.org/dc/terms/')\n",
    "schema = Namespace('http://schema.org/')\n",
    "regorg = Namespace('http://www.w3.org/ns/regorg#')\n",
    "person = Namespace('http://www.w3.org/ns/person#')\n",
    "vcard = Namespace('http://www.w3.org/2006/vcard/ns#')\n",
    "dbpedia = Namespace('https://dbpedia.org/ontology/')\n",
    "\n",
    "organisatie = Namespace('https://data.vlaanderen.be/ns/organisatie')\n",
    "persoon = Namespace('https://data.vlaanderen.be/ns/persoon#')\n",
    "adres = Namespace('https://data.vlaanderen.be/ns/adres#')\n",
    "generiek = Namespace('https://data.vlaanderen.be/ns/generiek#')\n",
    "mandaat = Namespace('http://data.vlaanderen.be/ns/mandaat#')\n",
    "besluit = Namespace('http://data.vlaanderen.be/ns/besluit#')\n",
    "lblodlg = Namespace('http://data.lblod.info/vocabularies/leidinggevenden/')\n",
    "\n",
    "#lblod = Namespace('https://contacthub-dev.lblod.info/id/')\n",
    "lblod = Namespace('https://contacthub-qa.lblod.info/id/')\n",
    "os = Namespace('https://data.vlaanderen.be/id/concept/organisatiestatus/')\n",
    "oc = Namespace('https://data.vlaanderen.be/id/concept/OrganisatieClassificatie/')\n",
    "\n",
    "functionaris_status = {'Waarnemend': URIRef('https://data.vlaanderen.be/id/conceptscheme/MandatarisStatusCode/e1ca6edd-55e1-4288-92a5-53f4cf71946a'), \n",
    "                        'Effectief': URIRef('https://data.vlaanderen.be/id/concept/MandatarisStatusCode/21063a5b-912c-4241-841c-cc7fb3c73e75')}\n",
    "rol_concept = {'Algemeen Directeur': URIRef('https://data.vlaanderen.be/id/concept/BestuursfunctieCode/39e08271-68db-4282-897f-5cba88c71862'),\n",
    "               'Financieel Directeur': URIRef('https://data.vlaanderen.be/id/concept/BestuursfunctieCode/6d4cf4dd-2080-4752-8733-d02a036b2df0'),\n",
    "               'Adjunct Financieel Directeur': URIRef('https://data.vlaanderen.be/id/concept/BestuursfunctieCode/3200ffc1-bb72-4235-a81c-64aa578b0789'),\n",
    "               'Adjunct Algemeen Directeur': URIRef('https://data.vlaanderen.be/id/concept/BestuursfunctieCode/f7b4e17b-6f4e-48e7-a558-bce61669f59a')}\n",
    "\n",
    "# \n"
   ]
  },
  {
   "cell_type": "code",
   "execution_count": null,
   "metadata": {
    "id": "MB6YecMErOgp"
   },
   "outputs": [],
   "source": [
    "g = Graph()"
   ]
  },
  {
   "cell_type": "code",
   "execution_count": null,
   "metadata": {
    "colab": {
     "base_uri": "https://localhost:8080/"
    },
    "id": "ENxHzle9gq7r",
    "outputId": "e2db18f4-f317-44a2-9c61-bf725e6cc49b"
   },
   "outputs": [],
   "source": [
    "df.info()"
   ]
  },
  {
   "cell_type": "code",
   "execution_count": null,
   "metadata": {
    "id": "IIiMiH4BH373"
   },
   "outputs": [],
   "source": [
    "df_cleansed = df[df['Familienaam Contact Cleansed'].notnull()]"
   ]
  },
  {
   "cell_type": "markdown",
   "metadata": {
    "id": "kGk0k9moIBTW"
   },
   "source": [
    "## Mapping"
   ]
  },
  {
   "cell_type": "markdown",
   "metadata": {
    "id": "Pb5LqvoBuyGu"
   },
   "source": [
    "**To do:**\n",
    " \n",
    "Titel - OK\n",
    "\n",
    "Referentieorganisatie - OK\n",
    "\n",
    "Decretale functie - OK\n",
    "\n",
    "Familienaam Contact - OK\n",
    " \n",
    "Voornaam Contact - OK\n",
    "\n",
    "Telefoonnr Contact - OK\n",
    "\n",
    "GSMnr Contact Mobile phone? Don't have place for it. But put in new contact point\n",
    "\n",
    "Functietitel - OK\n",
    "\n",
    "Mail nr2 - OK\n",
    "\n",
    "Id - OK"
   ]
  },
  {
   "cell_type": "code",
   "execution_count": null,
   "metadata": {
    "id": "MtdteyNS3_Vk"
   },
   "outputs": [],
   "source": [
    "for index, row in df_cleansed.iterrows():\n",
    "  abb_id = concept_uri(lblod + 'persoon/', str(row['Voornaam Contact Cleansed']) + str(row['Familienaam Contact Cleansed']))\n",
    "\n",
    "  g.add((abb_id, RDF.type, person.Person))\n",
    "  addLiteral(abb_id, FOAF.familyName, str(row['Familienaam Contact Cleansed']), XSD.string)\n",
    "  addLiteral(abb_id, persoon.gebruikteVoornaam, str(row['Voornaam Contact Cleansed']), XSD.string)\n",
    "\n",
    "  if existsContact(row):\n",
    "    site_id = concept_uri(lblod + 'vesting/', str(row['Voornaam Contact Cleansed']) + str(row['Familienaam Contact Cleansed']))\n",
    "    g.add((site_id, RDF.type, org.Site))\n",
    "\n",
    "    contact_id = concept_uri(lblod + 'contactinfo/', str(row['Voornaam Contact Cleansed']) + str(row['Familienaam Contact Cleansed']) + '1')\n",
    "    g.add((contact_id, RDF.type, schema.ContactPoint))\n",
    "    addLiteral(contact_id, schema.email, str(row['Titel Cleansed']), XSD.string)\n",
    "    addLiteral(contact_id, schema.email, str(row['Mail nr2 Cleansed']), XSD.string)\n",
    "    addLiteral(contact_id, schema.telephone, str(row['Telefoonnr Contact 1']), XSD.string) \n",
    "    g.add((abb_id, schema.contactPoint, contact_id))\n",
    "\n",
    "    if str(row['Telefoonnr Contact 2']) != str(np.nan):\n",
    "      contact_id = concept_uri(lblod + 'contactinfo/', str(row['Voornaam Contact Cleansed']) + str(row['Familienaam Contact Cleansed']) + 'Telefoonnr Contact 2')\n",
    "      g.add((contact_id, RDF.type, schema.ContactPoint))\n",
    "      addLiteral(contact_id, schema.telephone, str(row['Telefoonnr Contact 2']), XSD.string) \n",
    "      g.add((abb_id, schema.contactPoint, contact_id))\n",
    "\n",
    "    if str(row['GSMnr Contact Cleansed']) != str(np.nan):\n",
    "      contact_id = concept_uri(lblod + 'contactinfo/', str(row['Voornaam Contact Cleansed']) + str(row['Familienaam Contact Cleansed']) + 'GSMnr Contact Cleansed')\n",
    "      g.add((contact_id, RDF.type, schema.ContactPoint))\n",
    "      addLiteral(contact_id, schema.telephone, str(row['GSMnr Contact Cleansed']), XSD.string) \n",
    "      g.add((abb_id, schema.contactPoint, contact_id))\n",
    "    \n",
    "  if str(row['Id']) != str(np.nan):\n",
    "    id = concept_uri(lblod + 'gestructureerdeIdentificator/', str(row['Voornaam Contact Cleansed']) + str(row['Familienaam Contact Cleansed']))\n",
    "    g.add((id, RDF.type, generiek.GestructureerdeIdentificator))\n",
    "    addLiteral(id, generiek.lokaleIdentificator, str(row['Id']), XSD.string)\n",
    "\n",
    "    g.add((abb_id, generiek.gestructureerdeIdentificator, id))\n",
    "\n",
    "  org_id = concept_uri(lblod + 'organisatie/', str(row['Werkt in:KBOnr Cleansed']))\n",
    "  if (str(row['Decretale functie Cleansed']) == str(np.nan)) and (str(row['Functietitel Cleansed']) != str(np.nan)):\n",
    "    position_id = concept_uri(lblod + 'hoedanigheid/', str(row['Functietitel Cleansed']))\n",
    "    g.add((position_id, RDF.type, organisatie.Hoedanigheid))\n",
    "\n",
    "    role_id = concept_uri(lblod + 'rol/', str(row['Functietitel Cleansed']))\n",
    "    g.add((role_id, RDF.type, org.Role))\n",
    "    addLiteral(role_id, RDFS.label, str(row['Functietitel Cleansed']))\n",
    "\n",
    "    g.add((position_id, org.role, role_id))\n",
    "\n",
    "    g.add((position_id, org.postIn, org_id))\n",
    "    g.add((org_id, org.hasPost, position_id))\n",
    "\n",
    "    g.add((abb_id, org.holds, position_id))\n",
    "    g.add((position_id, org.heldBy, abb_id))\n",
    "  elif str(row['Decretale functie Cleansed']) != str(np.nan):\n",
    "    # Bestuur temporary\n",
    "    bestuur_temporary = concept_uri(lblod + 'bestuursorgaan/', str(row['Werkt in:KBOnr Cleansed']) + str(datetime.datetime.now()))\n",
    "    g.add((bestuur_temporary, RDF.type, besluit.Bestuursorgaan))\n",
    "    g.add((bestuur_temporary, generiek.isTijdspecialisatieVan, org_id))\n",
    "\n",
    "    ## Functionaris\n",
    "    person_functionaris = concept_uri(lblod + 'functionaris/',  str(row['Voornaam Contact Cleansed']) + str(row['Familienaam Contact Cleansed']) + str(row['Werkt in:KBOnr Cleansed']) + str(row['Decretale functie Cleansed'].lower().replace(\" \", \"\")))\n",
    "    g.add((person_functionaris, RDF.type, lblodlg.Functionaris))\n",
    "    g.add((abb_id, mandaat.isAangesteldAls, person_functionaris))\n",
    "    g.add((person_functionaris, mandaat.isBestuurlijkeAliasVan, abb_id))\n",
    "    #start\n",
    "    #einde\n",
    "    #status ~ cf loket lokale besturen PoC https://poc-form-builder.relance.s.redpencil.io/codelijsten\n",
    "    # https://data.vlaanderen.be/id/conceptscheme/MandatarisStatusCode\n",
    "    g.add((person_functionaris, mandaat.status, functionaris_status[row['Functionaris status']]))\n",
    "\n",
    "    # https://data.vlaanderen.be/doc/conceptscheme/BestuursfunctieCode\n",
    "    person_bestuursfunctie = concept_uri(lblod + 'bestuursfunctie/', str(row['Voornaam Contact Cleansed']) + str(row['Familienaam Contact Cleansed']) + str(row['Werkt in:KBOnr Cleansed']))\n",
    "    g.add((person_bestuursfunctie, RDF.type, lblodlg.Bestuursfunctie))\n",
    "    \n",
    "    g.add((person_bestuursfunctie, org.role, rol_concept[row['Decretale functie Cleansed']]))\n",
    "    g.add((person_functionaris, org.holds, person_bestuursfunctie))\n",
    "\n",
    "    g.add((bestuur_temporary, org.hasPost, person_bestuursfunctie))"
   ]
  },
  {
   "cell_type": "code",
   "execution_count": null,
   "metadata": {
    "id": "qwgeE4fJtJ5c"
   },
   "outputs": [],
   "source": [
    "g.serialize('contact-qa.ttl',format='turtle')"
   ]
  }
 ],
 "metadata": {
  "colab": {
   "collapsed_sections": [],
   "name": "Contacten.ipynb",
   "provenance": [],
   "toc_visible": true
  },
  "kernelspec": {
   "display_name": "Python 3",
   "name": "python3"
  }
 },
 "nbformat": 4,
 "nbformat_minor": 0
}
