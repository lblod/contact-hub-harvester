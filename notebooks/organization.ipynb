{
 "cells": [
  {
   "cell_type": "code",
   "execution_count": null,
   "metadata": {
    "colab": {
     "base_uri": "https://localhost:8080/"
    },
    "id": "S38EL_qmzyKO",
    "outputId": "a1168ec7-9d7f-4895-e991-fa12f7927ae7"
   },
   "outputs": [],
   "source": [
    "pip install rdflib"
   ]
  },
  {
   "cell_type": "code",
   "execution_count": null,
   "metadata": {
    "id": "5HsREbXszjmM"
   },
   "outputs": [],
   "source": [
    "import pandas as pd\n",
    "import numpy as np\n",
    "pd.set_option('display.max_colwidth', None)\n",
    "from rdflib import Graph, Literal, RDF, URIRef, Namespace \n",
    "from rdflib.namespace import FOAF , XSD, DC, FOAF, SKOS, RDF, RDFS\n",
    "import urllib.parse \n",
    "from google.colab import files \n",
    "import io\n",
    "import re"
   ]
  },
  {
   "cell_type": "code",
   "execution_count": null,
   "metadata": {
    "colab": {
     "base_uri": "https://localhost:8080/",
     "height": 106,
     "resources": {
      "http://localhost:8080/nbextensions/google.colab/files.js": {
       "data": "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",
       "headers": [
        [
         "content-type",
         "application/javascript"
        ]
       ],
       "ok": true,
       "status": 200,
       "status_text": ""
      }
     }
    },
    "id": "MnHOEUpczvTu",
    "outputId": "0e6cf06f-3238-4110-bfa6-233b4ed81753"
   },
   "outputs": [],
   "source": [
    "uploaded = files.upload()"
   ]
  },
  {
   "cell_type": "code",
   "execution_count": null,
   "metadata": {
    "id": "I_5EawoKz9MV"
   },
   "outputs": [],
   "source": [
    "orgs = pd.read_excel('SP_DownloadLijst_LF_Organisaties_WIP_20210108.xlsx', sheet_name='DATA')"
   ]
  },
  {
   "cell_type": "code",
   "execution_count": null,
   "metadata": {
    "id": "1pFpS6DNe7xE"
   },
   "outputs": [],
   "source": [
    "gp = pd.read_excel('gemeente-provincie.xlsx', sheet_name='Feuil2')"
   ]
  },
  {
   "cell_type": "markdown",
   "metadata": {
    "id": "3DVw3oJeR_9x"
   },
   "source": [
    "# Data cleansing"
   ]
  },
  {
   "cell_type": "markdown",
   "metadata": {
    "id": "uPr8StnjLH0d"
   },
   "source": [
    "## KOB help function"
   ]
  },
  {
   "cell_type": "code",
   "execution_count": null,
   "metadata": {
    "id": "qe1yuCmDLG4H"
   },
   "outputs": [],
   "source": [
    "def kbo_cleansing(kbo):\n",
    "  kbo_cleansed = comment = np.nan\n",
    "\n",
    "  if kbo != 'nan':\n",
    "    kbo = re.sub(r'\\D', '', kbo)\n",
    "    if  re.match(r'\\d{10}', kbo):\n",
    "      kbo_cleansed = kbo\n",
    "    elif re.match(r'\\d{1,9}', kbo):\n",
    "      kbo_cleansed = kbo\n",
    "      comment = f'only {len(kbo)} digits.'\n",
    "    else: \n",
    "      comment = 'Wrong KBO format. Check it.'\n",
    "  else :\n",
    "    comment = 'No KBO nr found'\n",
    "\n",
    "  return [kbo_cleansed, comment]"
   ]
  },
  {
   "cell_type": "markdown",
   "metadata": {
    "id": "beWY4c7caatc"
   },
   "source": [
    "## KBO numbers"
   ]
  },
  {
   "cell_type": "code",
   "execution_count": null,
   "metadata": {
    "id": "_Xj5MqCWKT8D"
   },
   "outputs": [],
   "source": [
    "orgs[['KBOnr_cleansed', 'KBOnr_comment']] = pd.DataFrame(orgs['KBOnr'].astype(str).apply(kbo_cleansing).values.tolist(), columns=['kbo_cleansed','comment'])"
   ]
  },
  {
   "cell_type": "code",
   "execution_count": null,
   "metadata": {
    "id": "eNH_ONfe5WEg"
   },
   "outputs": [],
   "source": [
    "orgs['organisation_id'] = orgs['KBOnr_cleansed'].fillna(orgs['Unieke Naam'])"
   ]
  },
  {
   "cell_type": "markdown",
   "metadata": {
    "id": "1XYxcXSSY2uA"
   },
   "source": [
    "151 organisation whithout KBOnr and Unieke Naam"
   ]
  },
  {
   "cell_type": "code",
   "execution_count": null,
   "metadata": {
    "colab": {
     "base_uri": "https://localhost:8080/",
     "height": 694
    },
    "id": "5idfjaYCYAvU",
    "outputId": "c958912a-d47e-419b-e823-3e6b3d87697c"
   },
   "outputs": [],
   "source": [
    "orgs[(orgs['KBOnr_cleansed'].isnull()) & (orgs['Unieke Naam'].isnull())]"
   ]
  },
  {
   "cell_type": "code",
   "execution_count": null,
   "metadata": {
    "colab": {
     "base_uri": "https://localhost:8080/"
    },
    "id": "lys3pfAEZE1a",
    "outputId": "305112f4-56b7-4c2a-e3f2-0542a1d850a8"
   },
   "outputs": [],
   "source": [
    "len(orgs['organisation_id'].unique())"
   ]
  },
  {
   "cell_type": "markdown",
   "metadata": {
    "id": "oAVnUrlPdfKr"
   },
   "source": [
    "ORGS with wrong kbo entry (not 10 digits): **14 records**\n"
   ]
  },
  {
   "cell_type": "code",
   "execution_count": null,
   "metadata": {
    "colab": {
     "base_uri": "https://localhost:8080/",
     "height": 483
    },
    "id": "49K-rzOldeHR",
    "outputId": "83bc8bd9-7dcc-4186-8509-818145714290"
   },
   "outputs": [],
   "source": [
    "orgs[~(orgs['KBOnr_cleansed'].str.len() == 10) & (orgs['KBOnr_cleansed'].notnull())][['KBOnr_cleansed', 'KBOnr_comment']]"
   ]
  },
  {
   "cell_type": "code",
   "execution_count": null,
   "metadata": {
    "colab": {
     "base_uri": "https://localhost:8080/",
     "height": 1000
    },
    "id": "smnDHb0cbdJ4",
    "outputId": "fc76a476-eb22-4d3c-aa49-43874d753d37"
   },
   "outputs": [],
   "source": [
    "orgs[orgs['KBOnr_comment'] == 'Wrong KBO format. Check it.']"
   ]
  },
  {
   "cell_type": "markdown",
   "metadata": {
    "id": "0Uw4E9c4lRd8"
   },
   "source": [
    "## Website"
   ]
  },
  {
   "cell_type": "code",
   "execution_count": null,
   "metadata": {
    "id": "njG8XOk0lQvR"
   },
   "outputs": [],
   "source": [
    "def website_cleansing(website):\n",
    "  website_cleansed = comment = np.nan\n",
    "\n",
    "  if website != 'nan':\n",
    "    if  re.match(r'https?:\\/\\/(www\\.)?[-a-zA-Z0-9@:%._\\+~#=]{2,256}\\.[a-z]{2,4}\\b([-a-zA-Z0-9@:%_\\+.~#?&//=]*)', website):\n",
    "      website_cleansed = website\n",
    "    else: \n",
    "      comment = 'Wrong website format. Check it.'\n",
    "\n",
    "  return [website_cleansed, comment]\n",
    "\n"
   ]
  },
  {
   "cell_type": "code",
   "execution_count": null,
   "metadata": {
    "id": "M-J7L3BglrwS"
   },
   "outputs": [],
   "source": [
    "orgs[['Website Cleansed', 'Website Comment']] = pd.DataFrame(orgs['Website'].astype(str).apply(website_cleansing).values.tolist(), columns=['website_cleansed','comment'])"
   ]
  },
  {
   "cell_type": "markdown",
   "metadata": {
    "id": "3rxWn9KDuQ-S"
   },
   "source": [
    "## Unieke Naam van actieve organisaties"
   ]
  },
  {
   "cell_type": "code",
   "execution_count": null,
   "metadata": {
    "id": "AGPL6OD8uUkX"
   },
   "outputs": [],
   "source": [
    "orgs['Unieke Naam van actieve organisaties'] = orgs['Unieke Naam van actieve organisaties'].astype(str).str.replace('0', '').replace('nan', None)"
   ]
  },
  {
   "cell_type": "markdown",
   "metadata": {
    "id": "mBptc4vBJ9k7"
   },
   "source": [
    "## Province"
   ]
  },
  {
   "cell_type": "code",
   "execution_count": null,
   "metadata": {
    "colab": {
     "base_uri": "https://localhost:8080/"
    },
    "id": "JDUhXgjSipPs",
    "outputId": "436530aa-bbde-4963-d1d9-3146bfc17197"
   },
   "outputs": [],
   "source": [
    "orgs['Provincie van de organisatie']"
   ]
  },
  {
   "cell_type": "code",
   "execution_count": null,
   "metadata": {
    "colab": {
     "base_uri": "https://localhost:8080/"
    },
    "id": "qMqxz1kCqsun",
    "outputId": "0ce80cbc-b238-47f1-8225-9362635a2eef"
   },
   "outputs": [],
   "source": [
    "orgs['Provincie van de organisatie'].dropna().unique()"
   ]
  },
  {
   "cell_type": "code",
   "execution_count": null,
   "metadata": {
    "colab": {
     "base_uri": "https://localhost:8080/"
    },
    "id": "JCrrVYXsfJzJ",
    "outputId": "7961956b-26ae-48f8-9215-89b2a8e74042"
   },
   "outputs": [],
   "source": [
    "len(orgs['Gemeente van de organisatie'].dropna().unique())"
   ]
  },
  {
   "cell_type": "code",
   "execution_count": null,
   "metadata": {
    "colab": {
     "base_uri": "https://localhost:8080/",
     "height": 934
    },
    "id": "hVEJvBvmrbR5",
    "outputId": "ad5c5a2b-39ba-4a4a-ef55-022ea29e847b"
   },
   "outputs": [],
   "source": [
    "orgs[orgs['Gemeente van de organisatie'] == 'Brussel']"
   ]
  },
  {
   "cell_type": "code",
   "execution_count": null,
   "metadata": {
    "colab": {
     "base_uri": "https://localhost:8080/"
    },
    "id": "dihdXVm4t69K",
    "outputId": "325fd09b-d35e-4493-c2ac-ab11c36654a2"
   },
   "outputs": [],
   "source": [
    "orgs[orgs['Gemeente van de organisatie'] == 'Brussel']['Provincie van de organisatie']"
   ]
  },
  {
   "cell_type": "code",
   "execution_count": null,
   "metadata": {
    "id": "kNxU3o6WhGC6"
   },
   "outputs": [],
   "source": [
    "def find_city_provincie(city):\n",
    "  return gp[gp['Gemeente'].str.contains(city)]"
   ]
  },
  {
   "cell_type": "code",
   "execution_count": null,
   "metadata": {
    "id": "nnBd24C9ojrr"
   },
   "outputs": [],
   "source": [
    "orgs['Provincie van de organisatie_cleansed'] = None\n",
    "orgs['Provincie van de organisatie_comment'] = None"
   ]
  },
  {
   "cell_type": "code",
   "execution_count": null,
   "metadata": {
    "colab": {
     "base_uri": "https://localhost:8080/"
    },
    "id": "amLt9AbPecXD",
    "outputId": "885c4355-c19d-44b1-c020-4e3019867418"
   },
   "outputs": [],
   "source": [
    "for index, row in orgs.iterrows():\n",
    "  city = str(row['Gemeente van de organisatie']).strip().title()\n",
    "  result = find_city_provincie(city)\n",
    "  \n",
    "  if len(result) > 0:\n",
    "    if str(result.iloc[0]['Provincie']) != str(row['Provincie van de organisatie']):\n",
    "      orgs.at[index, 'Provincie van de organisatie_cleansed'] = result.iloc[0]['Provincie']\n",
    "      orgs.at[index, 'Provincie van de organisatie_comment'] = \"Different Provincie\"\n",
    "    else:\n",
    "      orgs.at[index, 'Provincie van de organisatie_cleansed'] = row['Provincie van de organisatie']\n",
    "  elif city != 'NaN':\n",
    "    orgs.at[index, 'Provincie van de organisatie_comment'] = \"Municipality Not Found\"\n",
    "    orgs.at[index, 'Provincie van de organisatie_cleansed'] = row['Provincie van de organisatie']"
   ]
  },
  {
   "cell_type": "code",
   "execution_count": null,
   "metadata": {
    "colab": {
     "base_uri": "https://localhost:8080/"
    },
    "id": "u0omVGSRnfFt",
    "outputId": "f3821f6c-b6ff-4953-f517-13bb8b07ccf6"
   },
   "outputs": [],
   "source": [
    "orgs.info()"
   ]
  },
  {
   "cell_type": "code",
   "execution_count": null,
   "metadata": {
    "id": "kGF7ogPeGZWC"
   },
   "outputs": [],
   "source": [
    "#orgs['Provincie van de organisatie_cleansed'] = np.where(orgs['Gemeente van de organisatie'] == 'Brussel', 'VLAAMS-BRABANT', orgs['Provincie van de organisatie'])\n",
    "#orgs['Provincie van de organisatie_comment'] = np.where(orgs['Provincie van de organisatie'] != 'VLAAMS-BRABAN', 'Wrong Provincie', '')"
   ]
  },
  {
   "cell_type": "code",
   "execution_count": null,
   "metadata": {
    "colab": {
     "base_uri": "https://localhost:8080/",
     "height": 419
    },
    "id": "eCQuruR9HC7y",
    "outputId": "d16dc2e6-0b3c-47a2-a337-a4525d63e628"
   },
   "outputs": [],
   "source": [
    "orgs[['Gemeente van de organisatie', 'Provincie van de organisatie', 'Provincie van de organisatie_cleansed', 'Provincie van de organisatie_comment']]"
   ]
  },
  {
   "cell_type": "markdown",
   "metadata": {
    "id": "Yn_2QmQ4iel-"
   },
   "source": [
    "Wrong Provincie"
   ]
  },
  {
   "cell_type": "code",
   "execution_count": null,
   "metadata": {
    "colab": {
     "base_uri": "https://localhost:8080/",
     "height": 886
    },
    "id": "RK9HKvN1vvAf",
    "outputId": "00e08ad7-a073-4522-d78e-41e49528939a"
   },
   "outputs": [],
   "source": [
    "orgs[orgs['Provincie van de organisatie_comment'] == 'Different Provincie'][['Gemeente van de organisatie', 'Provincie van de organisatie', 'Provincie van de organisatie_cleansed', 'Provincie van de organisatie_comment']]"
   ]
  },
  {
   "cell_type": "code",
   "execution_count": null,
   "metadata": {
    "id": "rXpy1ijbHyEp"
   },
   "outputs": [],
   "source": [
    "df = orgs[orgs['Provincie van de organisatie_comment'] == 'Different Provincie']"
   ]
  },
  {
   "cell_type": "code",
   "execution_count": null,
   "metadata": {
    "id": "nZZbjc96ISSn"
   },
   "outputs": [],
   "source": [
    "df.to_excel(\"different_provincies.xlsx\")  "
   ]
  },
  {
   "cell_type": "markdown",
   "metadata": {
    "id": "otTBVMeTimfX"
   },
   "source": [
    "City not found"
   ]
  },
  {
   "cell_type": "code",
   "execution_count": null,
   "metadata": {
    "colab": {
     "base_uri": "https://localhost:8080/",
     "height": 419
    },
    "id": "ikegHaiRwFjR",
    "outputId": "83682763-f6e2-42e7-8332-ea2d2dc1fa2d"
   },
   "outputs": [],
   "source": [
    "orgs[orgs['Provincie van de organisatie_comment'] == 'Municipality Not Found'][['Gemeente van de organisatie', 'Provincie van de organisatie', 'Provincie van de organisatie_cleansed', 'Provincie van de organisatie_comment']]"
   ]
  },
  {
   "cell_type": "code",
   "execution_count": null,
   "metadata": {
    "id": "WdbmWedtIciy"
   },
   "outputs": [],
   "source": [
    "df_municipalities = orgs[orgs['Provincie van de organisatie_comment'] == 'Municipality Not Found']"
   ]
  },
  {
   "cell_type": "code",
   "execution_count": null,
   "metadata": {
    "id": "fLauC3NxJFuI"
   },
   "outputs": [],
   "source": [
    "df_municipalities.to_excel(\"municipality_not_found.xlsx\")"
   ]
  },
  {
   "cell_type": "markdown",
   "metadata": {
    "id": "XXxTRs-r4XOS"
   },
   "source": [
    "Cities not found in the list **12**\n",
    "\n",
    "Borgerhout: Neighborhood in Antwerp. *Change it to Antwerp?*\n",
    "\n",
    "Hoboken: District in Antwerp. *Should it be  Antwerp (Hoboken)?*\n",
    "\n",
    "Kallo: District in Beveren. *Should it be  Beveren (Kallo)*\n",
    "\n",
    "Zellik: District in Asse. *Should it be Asse (Zellik)*\n",
    "\n",
    "Luik: Dutch version name for Liège?\n",
    "\n",
    "Westmeerbeek: District in Hulshout? *Should it be Hulshout (Westmeerbeek)?*\n",
    "\n",
    "Sint-Andries: Neighborhood in Brugge. *Change it to Brugge?*\n",
    "\n",
    "Berchem: District in Antwerp. *Should it be Antwerp (Berchem)?*\n",
    "\n",
    "Erembodegem (Aalst): *Should it be Aalst (Erembodegem)?\n",
    "\n",
    "Sint-Kruis (Brugge): *Should it be Brugge (Sint-Kruis)?\n",
    "\n",
    "Westende (Middelkerke): *Should it be Middelkerke (Westende)?\n",
    "\n",
    "Why is Gent (Ledeberg) not working ?\n"
   ]
  },
  {
   "cell_type": "code",
   "execution_count": null,
   "metadata": {
    "colab": {
     "base_uri": "https://localhost:8080/"
    },
    "id": "ypPTGOzNwX5u",
    "outputId": "6330b396-cb54-494e-d338-b2873daa2de0"
   },
   "outputs": [],
   "source": [
    "orgs[orgs['Provincie van de organisatie_comment'] == 'Municipality Not Found'][['Gemeente van de organisatie']].iloc[:,0].unique()\n"
   ]
  },
  {
   "cell_type": "markdown",
   "metadata": {
    "id": "93TbZM7Uddyo"
   },
   "source": [
    "## Adressen"
   ]
  },
  {
   "cell_type": "markdown",
   "metadata": {
    "id": "JmOs3d38n1bA"
   },
   "source": [
    "Split Huisnummer and busnummer"
   ]
  },
  {
   "cell_type": "code",
   "execution_count": null,
   "metadata": {
    "id": "PR7X8ipEn5Xi"
   },
   "outputs": [],
   "source": [
    "def split_house_bus_number(house_bus_number):\n",
    "  house_number = bus_number = np.nan\n",
    "  comment = []\n",
    "  house_bus_number = house_bus_number.replace(' ', '')\n",
    "\n",
    "  if ('z/n' not in house_bus_number and 'nan' not in house_bus_number) : \n",
    "    if (('bus' in house_bus_number or '/' in house_bus_number)) :\n",
    "      comment.append('Splitting. Check it.')\n",
    "      if ('bus' in house_bus_number) : \n",
    "        split = house_bus_number.split('bus')\n",
    "      else :\n",
    "        split = house_bus_number.split('/')\n",
    "      house_number = split[0]\n",
    "      bus_number = split[1]\n",
    "    else:\n",
    "        house_number = house_bus_number\n",
    "    house_number =  house_number.replace('/', '').replace('-', '').replace(',', '')\n",
    "      \n",
    "  return [house_number, bus_number, ' - '.join(comment)]"
   ]
  },
  {
   "cell_type": "code",
   "execution_count": null,
   "metadata": {
    "id": "wBcoQGAYoEBk"
   },
   "outputs": [],
   "source": [
    "orgs[['Huisnr_cleansed', 'Busnr_new', 'Huisnr_comment']] = pd.DataFrame(orgs['Huisnr'].astype(str).apply(split_house_bus_number).values.tolist(), columns=['house_number', 'bus_number', 'comment'])"
   ]
  },
  {
   "cell_type": "code",
   "execution_count": null,
   "metadata": {
    "colab": {
     "base_uri": "https://localhost:8080/",
     "height": 979
    },
    "id": "KQUbw_YQo1FX",
    "outputId": "8db86416-c8f0-420d-bad2-235cdd9a77d2"
   },
   "outputs": [],
   "source": [
    "orgs[orgs['Busnr_new'].notnull()][['Huisnr', 'Huisnr_cleansed', 'Busnr_new','Huisnr_comment']]"
   ]
  },
  {
   "cell_type": "markdown",
   "metadata": {
    "id": "itf2vHp3z9sz"
   },
   "source": [
    "Postcode"
   ]
  },
  {
   "cell_type": "code",
   "execution_count": null,
   "metadata": {
    "id": "y352fkWhzRE5"
   },
   "outputs": [],
   "source": [
    "orgs['Postcode van de organisatie_cleansed'] = orgs['Postcode van de organisatie'].astype(str).str.replace('\\.0', '').replace('nan', np.nan)"
   ]
  },
  {
   "cell_type": "code",
   "execution_count": null,
   "metadata": {
    "colab": {
     "base_uri": "https://localhost:8080/",
     "height": 419
    },
    "id": "41HAzFsk6gdO",
    "outputId": "2cd90e04-4c1a-405c-ce64-d3049c69db2e"
   },
   "outputs": [],
   "source": [
    "orgs[['Postcode van de organisatie', 'Postcode van de organisatie_cleansed']]"
   ]
  },
  {
   "cell_type": "markdown",
   "metadata": {
    "id": "JfCKey1Y8fzZ"
   },
   "source": [
    "NIScode"
   ]
  },
  {
   "cell_type": "code",
   "execution_count": null,
   "metadata": {
    "id": "3vLOJBW56vaL"
   },
   "outputs": [],
   "source": [
    "orgs['NIScode_cleansed'] = orgs['NIScode'].astype(str).str.replace('\\.0', '').replace('nan', np.nan)"
   ]
  },
  {
   "cell_type": "markdown",
   "metadata": {
    "id": "gVhMrM1ciwGS"
   },
   "source": [
    "KBOnr empty: **258**\n"
   ]
  },
  {
   "cell_type": "code",
   "execution_count": null,
   "metadata": {
    "colab": {
     "base_uri": "https://localhost:8080/",
     "height": 813
    },
    "id": "LhoWaphZi0_8",
    "outputId": "acbf41ec-3ba2-474e-ca65-e3aded9501a4"
   },
   "outputs": [],
   "source": [
    "orgs[orgs['KBOnr_cleansed'].isnull()]"
   ]
  },
  {
   "cell_type": "markdown",
   "metadata": {
    "id": "KxaayZd1EI7X"
   },
   "source": [
    "Unieke Naam empty: **166**"
   ]
  },
  {
   "cell_type": "code",
   "execution_count": null,
   "metadata": {
    "colab": {
     "base_uri": "https://localhost:8080/",
     "height": 813
    },
    "id": "1MFqz9ozDvk3",
    "outputId": "53e21b01-a68e-4d59-f67a-703d8f98a531"
   },
   "outputs": [],
   "source": [
    "orgs[orgs['Unieke Naam'].isnull()]"
   ]
  },
  {
   "cell_type": "markdown",
   "metadata": {
    "id": "dGNd5PVwZAp_"
   },
   "source": [
    "## Change Event"
   ]
  },
  {
   "cell_type": "code",
   "execution_count": null,
   "metadata": {
    "id": "iSSqm_KugDd9"
   },
   "outputs": [],
   "source": [
    "def find_resulting_organisation(name, type_entiteit):\n",
    "  if name == 'Puurs Sint-Amands':\n",
    "    return orgs[(orgs['Unieke Naam'].str.contains('PUURS_SINT_AMANDS', flags=re.IGNORECASE, regex=True, na=False)) & (orgs['Organisatiestatus'] == 'Actief') & (orgs['Type Entiteit'] == type_entiteit)]\n",
    "  elif type_entiteit == 'Gemeente':\n",
    "    return orgs[(orgs['Unieke Naam'].str.contains('G_' + name, flags=re.IGNORECASE, regex=True, na=False)) & (orgs['Organisatiestatus'] == 'Actief')]\n",
    "  else:\n",
    "    return orgs[(orgs['Unieke Naam'].str.contains('O_' + name, flags=re.IGNORECASE, regex=True, na=False)) & (orgs['Organisatiestatus'] == 'Actief')]"
   ]
  },
  {
   "cell_type": "code",
   "execution_count": null,
   "metadata": {
    "id": "m1xmD9bIjaq5"
   },
   "outputs": [],
   "source": [
    "orgs['Resulting organisation'] = None"
   ]
  },
  {
   "cell_type": "code",
   "execution_count": null,
   "metadata": {
    "id": "7chwiYTzf7Wz"
   },
   "outputs": [],
   "source": [
    "for index, row in orgs[orgs['Organisatiestatus'] == 'gefusioneerd'].iterrows():\n",
    "  if str(row['Opmerkingen ivm Organisatie']).startswith('Fusie'):\n",
    "    resulting_city = row['Opmerkingen ivm Organisatie'].split('tot')[-1].strip()\n",
    "    obj_resulting_org = find_resulting_organisation(resulting_city, row['Type Entiteit'])\n",
    "    orgs.at[index, 'Resulting organisation'] = str(obj_resulting_org.iloc[0]['KBOnr_cleansed'])"
   ]
  },
  {
   "cell_type": "code",
   "execution_count": null,
   "metadata": {
    "colab": {
     "base_uri": "https://localhost:8080/"
    },
    "id": "TWJWs4n4o_as",
    "outputId": "a5710c12-f2d2-439a-c8b3-88b27ad0e407"
   },
   "outputs": [],
   "source": [
    "orgs['Resulting organisation'].unique()"
   ]
  },
  {
   "cell_type": "markdown",
   "metadata": {
    "id": "1Fbg_3MdQAjK"
   },
   "source": [
    "## Status"
   ]
  },
  {
   "cell_type": "code",
   "execution_count": null,
   "metadata": {
    "colab": {
     "base_uri": "https://localhost:8080/"
    },
    "id": "rlVY7PKIZFlT",
    "outputId": "d662f719-5863-4bc0-e46f-d93172d3397d"
   },
   "outputs": [],
   "source": [
    "orgs['Organisatiestatus'].unique()"
   ]
  },
  {
   "cell_type": "code",
   "execution_count": null,
   "metadata": {
    "id": "-MUi7e8zY9oY"
   },
   "outputs": [],
   "source": [
    "orgs['Organisatiestatus'] = orgs['Organisatiestatus'].str.replace('gefusioneerd', 'Gefusioneerd')"
   ]
  },
  {
   "cell_type": "markdown",
   "metadata": {
    "id": "2qAjUefJs_CQ"
   },
   "source": [
    "## Finish"
   ]
  },
  {
   "cell_type": "code",
   "execution_count": null,
   "metadata": {
    "id": "aeedqEy9CgS1"
   },
   "outputs": [],
   "source": [
    "orgs_cleased = orgs[~orgs['organisation_id'].isnull()]"
   ]
  },
  {
   "cell_type": "code",
   "execution_count": null,
   "metadata": {
    "colab": {
     "base_uri": "https://localhost:8080/"
    },
    "id": "-A1Z6zsOlRO3",
    "outputId": "c3bf7033-6cbd-4a44-ab18-bf349276b446"
   },
   "outputs": [],
   "source": [
    "orgs_cleased.info()"
   ]
  },
  {
   "cell_type": "markdown",
   "metadata": {
    "id": "QPjYdYrHFKF9"
   },
   "source": [
    "# Helper functions"
   ]
  },
  {
   "cell_type": "code",
   "execution_count": null,
   "metadata": {
    "id": "EslLU5uDFIPn"
   },
   "outputs": [],
   "source": [
    "import hashlib\n",
    "import uuid\n",
    "\n",
    "def concept_uri(base_uri, input):\n",
    "  m = hashlib.md5()\n",
    "  m.update(input.encode('utf-8'))\n",
    "\n",
    "  return URIRef(base_uri + m.hexdigest())\n",
    "\n",
    "def addLiteral(subject, predicate, object_value, datatype=None):\n",
    "  if object_value != str(np.nan):\n",
    "    if datatype == None:\n",
    "      g.add((subject, predicate, Literal(object_value, lang='nl')))\n",
    "    else:\n",
    "      g.add((subject, predicate, Literal(object_value, datatype=datatype)))"
   ]
  },
  {
   "cell_type": "code",
   "execution_count": null,
   "metadata": {
    "id": "dfyBZt4ydabS"
   },
   "outputs": [],
   "source": [
    "def existsContact(row):\n",
    "  return ((str(row['Website Cleansed']) != str(np.nan)) or (str(row['Algemeen telefoonnr']) != str(np.nan)) or (str(row['Algemeen mailadres']) != str(np.nan)))\n",
    "\n",
    "def existsAddress(row):\n",
    "  return ((str(row['Straat']) != str(np.nan)) or (str(row['Huisnr_cleansed']) != str(np.nan)) or (str(row['Busnr_new']) != str(np.nan)) or\n",
    "          (str(row['Postcode van de organisatie_cleansed']) != str(np.nan)) or (str(row['Gemeente van de organisatie']) != str(np.nan)) or\n",
    "          (str(row['Provincie van de organisatie_cleansed']) != str(np.nan)))\n",
    "  \n",
    "def existsSite(row):\n",
    "  return (existsAddress(row) or existsContact(row))"
   ]
  },
  {
   "cell_type": "markdown",
   "metadata": {
    "id": "xPIfMwVHTg38"
   },
   "source": [
    "# Init graph"
   ]
  },
  {
   "cell_type": "code",
   "execution_count": null,
   "metadata": {
    "id": "W7wAe4BO2MUH"
   },
   "outputs": [],
   "source": [
    "#namspaces\n",
    "org = Namespace('http://www.w3.org/ns/org#')\n",
    "locn = Namespace('http://www.w3.org/ns/locn#')\n",
    "dc_terms= Namespace('http://purl.org/dc/terms/')\n",
    "schema = Namespace('http://schema.org/')\n",
    "regorg = Namespace('http://www.w3.org/ns/regorg#')\n",
    "person = Namespace('http://www.w3.org/ns/person#')\n",
    "vcard = Namespace('http://www.w3.org/2006/vcard/ns#')\n",
    "dbpedia = Namespace('https://dbpedia.org/ontology/')\n",
    "\n",
    "organisatie = Namespace('https://data.vlaanderen.be/ns/organisatie#')\n",
    "persoon = Namespace('https://data.vlaanderen.be/ns/persoon#')\n",
    "adres = Namespace('https://data.vlaanderen.be/ns/adres#')\n",
    "generiek = Namespace('https://data.vlaanderen.be/ns/generiek#')\n",
    "\n",
    "#lblod = Namespace('https://contacthub-dev.lblod.info/id/')\n",
    "lblod = Namespace('https://contacthub-qa.lblod.info/id/')\n",
    "os = Namespace('https://data.vlaanderen.be/id/concept/organisatiestatus/')\n",
    "oc = Namespace('https://data.vlaanderen.be/id/concept/OrganisatieClassificatie/')\n",
    "\n"
   ]
  },
  {
   "cell_type": "code",
   "execution_count": null,
   "metadata": {
    "id": "83WSfogB2E0i"
   },
   "outputs": [],
   "source": [
    "g = Graph()"
   ]
  },
  {
   "cell_type": "code",
   "execution_count": null,
   "metadata": {
    "id": "yLmHIwMJ_LXv"
   },
   "outputs": [],
   "source": [
    "#for status in orgs_cleased['Organisatiestatus'].dropna().unique():\n",
    "#    subject = concept_uri(os, status)\n",
    "#    g.add((subject, RDF.type, SKOS.Concept))\n",
    "#    g.add((subject, SKOS.prefLabel, Literal(status, lang='nl')))\n",
    " "
   ]
  },
  {
   "cell_type": "code",
   "execution_count": null,
   "metadata": {
    "id": "NEdjhh5O17h2"
   },
   "outputs": [],
   "source": [
    "for status in orgs_cleased['Organisatiestatus'].dropna().unique():\n",
    "  subject = concept_uri(os, status)\n",
    "  g.add((subject, RDF.type, SKOS.Concept))\n",
    "  g.add((subject, SKOS.prefLabel, Literal(status, lang='nl')))\n",
    "  if status.startswith('Actief') or status.startswith('Valt Niet Meer'):\n",
    "    g.add((subject, SKOS.broader, os.actief))\n",
    "  else:\n",
    "    g.add((subject, SKOS.broader, os.nietactief))"
   ]
  },
  {
   "cell_type": "code",
   "execution_count": null,
   "metadata": {
    "id": "dZx1dU-4Hp5v"
   },
   "outputs": [],
   "source": [
    "for category in orgs_cleased['Type Entiteit'].dropna().unique():\n",
    "  category = concept_uri(oc, category)\n",
    "  g.add((category, RDF.type, SKOS.Concept))\n",
    "  g.add((category, SKOS.prefLabel, Literal(category, lang='nl')))"
   ]
  },
  {
   "cell_type": "markdown",
   "metadata": {
    "id": "vJIbvCAz_MYD"
   },
   "source": [
    "# Mapping"
   ]
  },
  {
   "cell_type": "code",
   "execution_count": null,
   "metadata": {
    "id": "MtdteyNS3_Vk"
   },
   "outputs": [],
   "source": [
    "for index, row in orgs_cleased.iterrows():\n",
    "  abb_id = concept_uri(lblod + 'organisatie/', str(row['organisation_id']))\n",
    "  g.add((abb_id, RDF.type, org.Organization))\n",
    "\n",
    "  if str(row['KBOnr_cleansed']) != str(np.nan):\n",
    "    kbo_id = concept_uri(lblod + 'gestructureerdeIdentificator/', str(row['organisation_id']) + str(row['KBOnr_cleansed']))\n",
    "    g.add((kbo_id, RDF.type, generiek.GestructureerdeIdentificator))\n",
    "    addLiteral(kbo_id, generiek.lokaleIdentificator, str(row['KBOnr_cleansed']), XSD.string)\n",
    "\n",
    "    g.add((abb_id, generiek.gestructureerdeIdentificator, kbo_id))\n",
    "\n",
    "  g.add((abb_id, org.classification, concept_uri(oc, row['Type Entiteit'])))\n",
    "  \n",
    "  if str(row['Unieke Naam']) != str(np.nan):\n",
    "    unieke_naam_id = concept_uri(lblod + 'gestructureerdeIdentificator/', str(row['organisation_id']) + str(row['Unieke Naam']) + '1')\n",
    "    g.add((unieke_naam_id, RDF.type, generiek.GestructureerdeIdentificator))\n",
    "    addLiteral(unieke_naam_id, generiek.lokaleIdentificator, str(row['Unieke Naam']), XSD.string)\n",
    "\n",
    "    g.add((abb_id, generiek.gestructureerdeIdentificator, unieke_naam_id))\n",
    "\n",
    "  if str(row['Unieke Naam van actieve organisaties']) != str(np.nan):\n",
    "    unieke_naam_active_id = concept_uri(lblod + 'gestructureerdeIdentificator/', str(row['organisation_id']) + str(row['Unieke Naam van actieve organisaties']) + '2')\n",
    "    g.add((unieke_naam_id, RDF.type, generiek.GestructureerdeIdentificator))\n",
    "    addLiteral(unieke_naam_id, generiek.lokaleIdentificator, str(row['Unieke Naam van actieve organisaties']), XSD.string)\n",
    "\n",
    "    g.add((abb_id, generiek.gestructureerdeIdentificator, unieke_naam_id))\n",
    "\n",
    "  if existsSite(row):\n",
    "    site_id = concept_uri(lblod + 'vesting/', str(row['organisation_id']))\n",
    "    g.add((site_id, RDF.type, org.Site))\n",
    "\n",
    "    if existsContact(row):\n",
    "      contact_id = concept_uri(lblod + 'contactinfo/', str(row['organisation_id']))\n",
    "      g.add((contact_id, RDF.type, schema.ContactPoint))\n",
    "      \n",
    "      addLiteral(contact_id, FOAF.page, str(row['Website Cleansed']), XSD.anyURI)\n",
    "      addLiteral(contact_id, schema.telephone, str(row['Algemeen telefoonnr']), XSD.string)\n",
    "      addLiteral(contact_id, schema.email, str(row['Algemeen mailadres']), XSD.string)\n",
    "\n",
    "      g.add((site_id, schema.siteAddress, contact_id))\n",
    "\n",
    "    if existsAddress(row):\n",
    "      address_id = concept_uri(lblod + 'adresvoorstelling/', str(row['organisation_id']))\n",
    "      g.add((address_id, RDF.type, locn.Address))\n",
    "      addLiteral(address_id, locn.thoroughfare, str(row['Straat']))\n",
    "      addLiteral(address_id, adres['Adresvoorstelling.huisnummer'], str(row['Huisnr_cleansed']), XSD.string)\n",
    "      addLiteral(address_id, adres['Adresvoorstelling.busnummer'], str(row['Busnr_new']), XSD.string)\n",
    "      addLiteral(address_id, locn.postCode, str(row['Postcode van de organisatie_cleansed']), XSD.string)\n",
    "      addLiteral(address_id, adres.gemeentenaam, str(row['Gemeente van de organisatie']))\n",
    "      addLiteral(address_id, locn.adminUnitL2, str(row['Provincie van de organisatie_cleansed']))\n",
    "      g.add((address_id, adres.land, Literal('België', lang='nl')))\n",
    "\n",
    "      g.add((site_id, organisatie.bestaatUit, address_id))\n",
    "    \n",
    "    g.add((abb_id, org.hasPrimarySite, site_id))\n",
    "\n",
    "  if row['Unieke Naam'] != row['Moederentiteit']:\n",
    "    find_moeder_kboid = orgs[orgs['Unieke Naam'] == row['Moederentiteit']]\n",
    "    if len(find_moeder_kboid) > 0:\n",
    "      g.add((abb_id, org.linkedTo, concept_uri(lblod + 'organisatie/', str(find_moeder_kboid.iloc[0]['organisation_id']))))\n",
    "\n",
    "  g.add((abb_id, regorg.orgStatus, concept_uri(os, str(row['Organisatiestatus']))))\n",
    "\n",
    "  addLiteral(abb_id, dbpedia.nisCode, str(row['NIScode_cleansed']), XSD.string)\n",
    "  \n",
    "  addLiteral(abb_id, regorg.legalName, str(row['Maatschappelijke Naam']))\n",
    "  addLiteral(abb_id, SKOS.prefLabel, str(row['Titel']))\n",
    "\n",
    "  if pd.notna(row['Actief vanaf']):\n",
    "    change_event_open_id = concept_uri(lblod + 'veranderingsgebeurtenis/', str(row['organisation_id']) + str(row['Actief vanaf']))\n",
    "    g.add((change_event_open_id, RDF.type, organisatie.Oprichting))\n",
    "    addLiteral(change_event_open_id, DC.date, str(row['Actief vanaf']), XSD.date)\n",
    "    g.add((abb_id, org.resultedFrom, change_event_open_id))\n",
    "\n",
    "  if row['Organisatiestatus'] == 'Valt niet meer onder Vlaams toezicht':\n",
    "    change_event_not_flemish_id = concept_uri(lblod + 'veranderingsgebeurtenis/', str(row['organisation_id']) + str(row['Actief tot']) + str(row['Actief tot']))\n",
    "    g.add((change_event_not_flemish_id, RDF.type, organisatie.Vervanging))\n",
    "    g.add((abb_id, org.resultedFrom, change_event_not_flemish_id))\n",
    "\n",
    "  elif row['Organisatiestatus'] == 'Gefusioneerd':\n",
    "    change_event_merged_id = concept_uri(lblod + 'veranderingsgebeurtenis/', str(row['organisation_id']) + str(row['Actief tot']))\n",
    "    g.add((change_event_merged_id, RDF.type, organisatie.Fusie))\n",
    "    if pd.notna(row['Actief tot']):\n",
    "      addLiteral(change_event_merged_id, DC.date, str(row['Actief tot']), XSD.date)\n",
    "    # addLiteral(change_event_merged_id, NEED PROPERTY, 'Opmerkingen ivm Organisatie')\n",
    "  \n",
    "    merged_abb_id = concept_uri(lblod + 'organisatie/', str(row['Resulting organisation']))\n",
    "    g.add((change_event_merged_id, org.originalOrganization, abb_id))\n",
    "    g.add((change_event_merged_id, org.resultingOrganization, merged_abb_id))\n",
    "    g.add((abb_id, org.changedBy, change_event_merged_id))\n",
    "  elif pd.notna(row['Actief tot']):\n",
    "    change_event_close_id = concept_uri(lblod + 'veranderingsgebeurtenis/', str(row['organisation_id']) + str(row['Actief tot']))\n",
    "    g.add((change_event_close_id, RDF.type, organisatie.Stopzetting))\n",
    "    addLiteral(change_event_close_id, DC.date, str(row['Actief tot']), XSD.date)\n",
    "    g.add((abb_id, org.changedBy, change_event_close_id))\n"
   ]
  },
  {
   "cell_type": "code",
   "execution_count": null,
   "metadata": {
    "id": "8mfp7lx7491V"
   },
   "outputs": [],
   "source": [
    "g.serialize('organisatie-qa.ttl',format='turtle')"
   ]
  }
 ],
 "metadata": {
  "colab": {
   "collapsed_sections": [],
   "name": "organization.ipynb",
   "provenance": [],
   "toc_visible": true
  },
  "kernelspec": {
   "display_name": "Python 3",
   "name": "python3"
  }
 },
 "nbformat": 4,
 "nbformat_minor": 0
}
