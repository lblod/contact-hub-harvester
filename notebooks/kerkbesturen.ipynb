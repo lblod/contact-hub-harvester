{
 "cells": [
  {
   "cell_type": "code",
   "execution_count": null,
   "metadata": {
    "colab": {
     "base_uri": "https://localhost:8080/"
    },
    "id": "S38EL_qmzyKO",
    "outputId": "08bc192a-2772-4705-a69c-07d2f77aeb53"
   },
   "outputs": [],
   "source": [
    "pip install rdflib"
   ]
  },
  {
   "cell_type": "code",
   "execution_count": null,
   "metadata": {
    "colab": {
     "base_uri": "https://localhost:8080/"
    },
    "id": "cL2a2ewuv2sX",
    "outputId": "8507ff1a-d0f8-46c5-9799-400e5f92b519"
   },
   "outputs": [],
   "source": [
    "pip install dateparser"
   ]
  },
  {
   "cell_type": "code",
   "execution_count": null,
   "metadata": {
    "id": "5HsREbXszjmM"
   },
   "outputs": [],
   "source": [
    "import pandas as pd\n",
    "import numpy as np\n",
    "pd.set_option('display.max_colwidth', None)\n",
    "import pandas as pd #read xslx\n",
    "from rdflib import Graph, Literal, RDF, URIRef, Namespace , BNode\n",
    "from rdflib.namespace import FOAF , XSD, DC, FOAF, SKOS, RDF, RDFS\n",
    "import urllib.parse \n",
    "from google.colab import files \n",
    "import io\n",
    "from datetime import datetime\n",
    "import dateparser\n",
    "from dateparser.search import search_dates\n"
   ]
  },
  {
   "cell_type": "markdown",
   "metadata": {
    "id": "OsG4WYBefrvn"
   },
   "source": [
    "# Input files"
   ]
  },
  {
   "cell_type": "code",
   "execution_count": null,
   "metadata": {
    "colab": {
     "base_uri": "https://localhost:8080/",
     "height": 39,
     "resources": {
      "http://localhost:8080/nbextensions/google.colab/files.js": {
       "data": "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",
       "headers": [
        [
         "content-type",
         "application/javascript"
        ]
       ],
       "ok": true,
       "status": 200,
       "status_text": ""
      }
     }
    },
    "id": "MnHOEUpczvTu",
    "outputId": "0fa21fe3-23d6-4599-c5d6-a1fca1678852"
   },
   "outputs": [],
   "source": [
    "uploaded = files.upload()"
   ]
  },
  {
   "cell_type": "markdown",
   "metadata": {
    "id": "QPjYdYrHFKF9"
   },
   "source": [
    "# Helper functions"
   ]
  },
  {
   "cell_type": "code",
   "execution_count": null,
   "metadata": {
    "colab": {
     "base_uri": "https://localhost:8080/",
     "height": 387
    },
    "id": "EslLU5uDFIPn",
    "outputId": "53926fbc-3fa2-4a6d-ed09-ad27e8ba8ddf"
   },
   "outputs": [],
   "source": [
    "import hashlib\n",
    "import uuid\n",
    "\n",
    "def concept_uri(base_uri, input):\n",
    "  m = hashlib.md5()\n",
    "  m.update(input.encode('utf-8'))\n",
    "\n",
    "  return URIRef(base_uri + m.hexdigest())\n",
    "\n",
    "def addLiteral(subject, predicate, objectColumn, datatype=None):\n",
    "  if pd.notna(row[objectColumn]):\n",
    "    if datatype == None:\n",
    "      g.add((subject, predicate, Literal(str(row[objectColumn]), lang='nl')))\n",
    "    else:\n",
    "      g.add((subject, predicate, Literal(str(row[objectColumn]), datatype=datatype)))\n",
    "\n",
    "# using statbel firstnames of newborns (heuristic)\n",
    "m = pd.read_excel('Voornamen_Jongens_1995-2017_0.xls', sheet_name='1995-2019')\n",
    "male_names = (m['Unnamed: 1'].append(m['Unnamed: 4']).append(m['Unnamed: 7']).append(m['Unnamed: 10'])).unique()\n",
    "f = pd.read_excel('Voornamen_meisjes_1995-2017.xls', sheet_name='1995-2019')\n",
    "female_names = (f['Unnamed: 1'].append(f['Unnamed: 4']).append(f['Unnamed: 7']).append(f['Unnamed: 10'])).unique()\n",
    "\n",
    "manual_entries = ['Friedo', 'Renilde', 'Jozef', 'Maria-André', 'Gedo', 'Yvo', 'Marie-Cecile', 'Fonny', 'Luciaan', 'Willy', 'Fredy']\n",
    "likely_last_names = ['Vos', 'Matthijs', 'Stevens', 'Maere', 'Rubens', 'Beer', 'Duran', 'Roos', 'Broos', 'Thijs', 'Perre', 'Joris', 'Winter', 'Claus', 'Thys', 'Massa', 'Roy']\n",
    "\n",
    "first_names = np.concatenate([male_names,female_names, manual_entries])\n",
    "\n",
    "first_names = np.delete(first_names, np.where(first_names == 'Van'))\n",
    "first_names = np.delete(first_names, np.where(first_names == 'Blomme'))\n",
    "\n",
    "\n",
    "def is_known_first_name(potential_name):\n",
    "  return potential_name in first_names\n",
    "\n",
    "\n",
    "def splitname(full_name):\n",
    "  full_name.str.split(' ')\n"
   ]
  },
  {
   "cell_type": "code",
   "execution_count": null,
   "metadata": {
    "id": "CUOipJdsg6DP"
   },
   "outputs": [],
   "source": [
    "import re\n",
    "\n",
    "mv = re.compile('(mevr|dhr)[\\.]?[\\s]?', re.IGNORECASE)\n",
    "\n",
    "def remove_title(full_name):\n",
    "  return mv.sub('', full_name)\n",
    "\n",
    "\n",
    "def splitname(full_name):\n",
    "  first = last = ''\n",
    "  comment = []\n",
    "\n",
    "  split = remove_title(full_name).split(' ')\n",
    "\n",
    "  if len(split) == 1 : comment.append('Cannot split name')\n",
    "\n",
    "  potential_first_last = is_known_first_name(split[0])\n",
    "  potential_last_first = is_known_first_name(split[-1])\n",
    "\n",
    "  if potential_first_last and potential_last_first:\n",
    "    if split[-1] in likely_last_names:\n",
    "      first = split[0]\n",
    "      last = ' '.join(split[1:])\n",
    "    elif split[0] in likely_last_names:\n",
    "      first = split[-1]\n",
    "      last = ' '.join(split[0:-1])\n",
    "    comment.append('Ambiguous: two possible first names - {}'.format(full_name))\n",
    "  elif potential_first_last:\n",
    "    first = split[0]\n",
    "    last = ' '.join(split[1:])\n",
    "  elif potential_last_first:\n",
    "    first = split[-1]\n",
    "    last = ' '.join(split[0:-1])\n",
    "  else:\n",
    "    comment.append('No potential first name found - {}'.format(full_name))\n",
    "    # print([full_name])\n",
    "  return [first, last, ' - '.join(comment)]"
   ]
  },
  {
   "cell_type": "markdown",
   "metadata": {
    "id": "1UuYFPgGzO_3"
   },
   "source": [
    "## split_house_bus_number"
   ]
  },
  {
   "cell_type": "code",
   "execution_count": null,
   "metadata": {
    "id": "wML3bdD2zNE_"
   },
   "outputs": [],
   "source": [
    "def split_house_bus_number(house_bus_number):\n",
    "  house_number = bus_number = np.NaN\n",
    "  comment = []\n",
    "  house_bus_number = house_bus_number.replace(' ', '')\n",
    "\n",
    "  if ('z/n' not in house_bus_number and 'nan' not in house_bus_number) : \n",
    "    if (('bus' in house_bus_number or '/' in house_bus_number)) :\n",
    "      comment.append('Splitting. Check it.')\n",
    "      if ('bus' in house_bus_number) : \n",
    "        split = house_bus_number.split('bus')\n",
    "      else :\n",
    "        split = house_bus_number.split('/')\n",
    "      house_number = split[0]\n",
    "      bus_number = split[1]\n",
    "    else:\n",
    "        house_number = house_bus_number\n",
    "    house_number =  house_number.replace('/', '').replace('-', '').replace(',', '')\n",
    "  else :\n",
    "    comment.append('No house nr found')\n",
    "      \n",
    "  return [house_number, bus_number, ' - '.join(comment)]"
   ]
  },
  {
   "cell_type": "markdown",
   "metadata": {
    "id": "F75gm0hu5i6A"
   },
   "source": [
    "### kbo_cleansing"
   ]
  },
  {
   "cell_type": "code",
   "execution_count": null,
   "metadata": {
    "id": "kOHzHh3g5h6v"
   },
   "outputs": [],
   "source": [
    "def kbo_cleansing(kbo):\n",
    "  kbo_cleansed = comment = np.NaN\n",
    "\n",
    "  if kbo != 'nan':\n",
    "    kbo = re.sub(r'\\D', '', kbo)\n",
    "    if  re.match(r'\\d{10}', kbo):\n",
    "      kbo_cleansed = kbo\n",
    "    elif re.match(r'\\d{9}', kbo):\n",
    "      kbo_cleansed = kbo\n",
    "      comment = 'only 9 digits. Missing first 0?'\n",
    "    else: \n",
    "      comment = 'Wrong KBO format. Check it.'\n",
    "  else :\n",
    "    comment = 'No KBO nr found'\n",
    "\n",
    "  return [kbo_cleansed, comment]"
   ]
  },
  {
   "cell_type": "markdown",
   "metadata": {
    "id": "S955N-P8ijrp"
   },
   "source": [
    "## mail_cleansing"
   ]
  },
  {
   "cell_type": "code",
   "execution_count": null,
   "metadata": {
    "id": "Kb2_o5TxinWp"
   },
   "outputs": [],
   "source": [
    "def mail_cleansing(mail):\n",
    "  mail_cleansed = comment = np.NaN\n",
    "\n",
    "  if mail != 'nan':\n",
    "    if  re.match(r'[\\w\\.-]+@[\\w\\.-]+(\\.[\\w]+)+', mail):\n",
    "      mail_cleansed = mail\n",
    "    else: \n",
    "      comment = 'Wrong mail format. Check it.'\n",
    "  else:\n",
    "    comment = 'No mail found'\n",
    "\n",
    "  return [mail_cleansed, comment]\n",
    "\n",
    "def find_all_mails(input):\n",
    "  mails = input.findall(r'[\\w\\.-]+@[\\w\\.-]+')\n",
    "\n"
   ]
  },
  {
   "cell_type": "markdown",
   "metadata": {
    "id": "f47Kqg9d9ub-"
   },
   "source": [
    "##telephone_number_cleansing"
   ]
  },
  {
   "cell_type": "code",
   "execution_count": null,
   "metadata": {
    "id": "bGnErDVH9yi4"
   },
   "outputs": [],
   "source": [
    "def telephone_number_cleansing(telephone_number):\n",
    "  telephone_number = re.sub(r'\\s', '', telephone_number)\n",
    "\n",
    "  telephone_number = re.sub(r'tel:', '', telephone_number)\n",
    "  telephone_number = re.sub(r'tel', '', telephone_number)\n",
    "  telephone_number = re.sub(r'<br>', '', telephone_number)\n",
    "\n",
    "  telephone_number = re.sub(r'^\\+32-\\(0\\)', '0', telephone_number)\n",
    "  telephone_number = re.sub(r'^\\+32', '0', telephone_number)\n",
    "  telephone_number = re.sub(r'^32', '0', telephone_number)\n",
    "\n",
    "  telephone_number = re.sub(r'^\\+0032-\\(0\\)', '0', telephone_number)\n",
    "  telephone_number = re.sub(r'^0032-\\(0\\)', '0', telephone_number)\n",
    "  telephone_number = re.sub(r'^0032', '0', telephone_number)\n",
    "\n",
    "  telephone_number = re.sub(r'^\\(\\d\\d\\d\\)', '0', telephone_number)\n",
    "  telephone_number = re.sub(r'^0\\(\\d\\d\\d\\)', '0', telephone_number)\n",
    "\n",
    "  telephone_number =  re.sub(r'[\\.a-zA-Z]', '', telephone_number)\n",
    "\n",
    "  return split_telephone_number(telephone_number)\n",
    "\n",
    "def split_telephone_number(telephone_number):\n",
    "  telephone_number_1 = telephone_number_2 = np.NaN\n",
    "  comment = []\n",
    "\n",
    "  split = [telephone_number]\n",
    "  if '//' in telephone_number:\n",
    "    split = telephone_number.split('//')\n",
    "  elif '-' in telephone_number:\n",
    "    split = telephone_number.split('-')\n",
    "  elif ';' in telephone_number:\n",
    "    split = telephone_number.split(';')\n",
    "  elif 'enGSM:' in telephone_number:\n",
    "    split = telephone_number.split('enGSM:')\n",
    "\n",
    "\n",
    "  split[0] = split[0].replace('/', '')\n",
    "  if check_telephone_number_lenght(split[0]):\n",
    "    telephone_number_1 = split[0]\n",
    "  else:\n",
    "    comment.append('Wrong telephone number lenght. Check it. ' + split[0])\n",
    "\n",
    "  if len(split) == 2 :\n",
    "    comment.append('Splitting. Check it.')\n",
    "    split[1] = split[1].replace('/', '')\n",
    "    if check_telephone_number_lenght(split[1]):\n",
    "      telephone_number_2 = split[1]\n",
    "    else:\n",
    "      comment.append('Wrong telephone 2 number lenght. Check it.')\n",
    "\n",
    "  return [telephone_number_1, telephone_number_2, ' - '.join(comment)]\n",
    "\n",
    "def check_telephone_number_lenght(telephone_number):\n",
    "  if len(telephone_number) < 9 or len(telephone_number) > 10:\n",
    "    return False\n",
    "  else :\n",
    "    return True"
   ]
  },
  {
   "cell_type": "markdown",
   "metadata": {
    "id": "MGC7V834vese"
   },
   "source": [
    "### date_cleansing"
   ]
  },
  {
   "cell_type": "code",
   "execution_count": null,
   "metadata": {
    "id": "z3blJ01nvipI"
   },
   "outputs": [],
   "source": [
    "def date_cleansing(date):\n",
    "    dates_parsed = []\n",
    "\n",
    "    if date != \"nan\":\n",
    "      print(\">> \" + date)\n",
    "      \n",
    "      match = re.findall(r'\\d{1,2}.\\d{1,2}.\\d{2,4}', date)\n",
    "      if match:\n",
    "        for m in match:\n",
    "          date_parsed_match = dateparser.parse(m, settings={'DATE_ORDER': 'DMY'})\n",
    "          dates_parsed.append(date_parsed_match)\n",
    "\n",
    "      match = re.findall(r'\\d{1,2} \\w* \\d{2,4}', date)\n",
    "      if match:\n",
    "        for m in match:\n",
    "          date_parsed_match = dateparser.parse(m, settings={'DATE_ORDER': 'DMY'})\n",
    "          dates_parsed.append(date_parsed_match)\n",
    "\n",
    "      for item in dates_parsed:\n",
    "          print(\"...\" + str(item))\n",
    "\n",
    "    return dates_parsed"
   ]
  },
  {
   "cell_type": "markdown",
   "metadata": {
    "id": "xPIfMwVHTg38"
   },
   "source": [
    "# Init graph"
   ]
  },
  {
   "cell_type": "code",
   "execution_count": null,
   "metadata": {
    "id": "83WSfogB2E0i"
   },
   "outputs": [],
   "source": [
    "g = Graph();"
   ]
  },
  {
   "cell_type": "code",
   "execution_count": null,
   "metadata": {
    "id": "W7wAe4BO2MUH"
   },
   "outputs": [],
   "source": [
    "#namspaces\n",
    "\n",
    "#lblod = Namespace('https://contacthub-dev.lblod.info/id/')\n",
    "lblod = Namespace('https://contacthub-qa.lblod.info/id/')\n",
    "\n",
    "adms = Namespace('http://www.w3.org/ns/adms#')\n",
    "adres = Namespace('https://data.vlaanderen.be/ns/adres#')\n",
    "besluit = Namespace('http://data.vlaanderen.be/ns/besluit#')\n",
    "foaf = Namespace('http://xmlns.com/foaf/0.1/')\n",
    "generiek = Namespace('https://data.vlaanderen.be/ns/generiek#')\n",
    "locn = Namespace('http://www.w3.org/ns/locn#')\n",
    "mandaat = Namespace('http://data.vlaanderen.be/ns/mandaat#')\n",
    "organisatie = Namespace('https://data.vlaanderen.be/ns/organisatie#')\n",
    "org = Namespace('http://www.w3.org/ns/org#')\n",
    "os = Namespace('https://data.vlaanderen.be/id/concept/organisatiestatus/')\n",
    "person = Namespace('http://www.w3.org/ns/person#')\n",
    "persoon = Namespace('https://data.vlaanderen.be/ns/persoon#')\n",
    "rov = Namespace('http://www.w3.org/ns/regorg#')\n",
    "schema = Namespace('http://schema.org/')\n",
    "\n",
    "\n",
    "# Predefined concepts:\n",
    "centraal_bestuur_van_de_eredienst = URIRef(\"http://data.vlaanderen.be/id/concept/BestuurseenheidClassificatieCode/f9cac08a-13c1-49da-9bcb-f650b0604054\")\n",
    "bestuur_van_de_eredienst = URIRef(\"http://data.vlaanderen.be/id/concept/BestuurseenheidClassificatieCode/66ec74fd-8cfc-4e16-99c6-350b35012e86\")\n",
    "\n",
    "# No code found for secretaris and voorzitter? https://data.vlaanderen.be/doc/conceptscheme/BestuursfunctieCode\n",
    "# TODO: do not use hoedanigheid\n",
    "# -- \n",
    "\n",
    "#voorzitter_concept = URIRef(\"https://data.vlaanderen.be/doc/concept/hoedanigheid/e4c26f11-c267-46e7-b783-afa5ffdcf3f7\")\n",
    "# aka budgethouder? \n",
    "# FIXME: WRONG - budgethouder == penningmeester\n",
    "#secretaris_concept = URIRef(\"https://data.vlaanderen.be/id/concept/hoedanigheid/fc5d6eaa-175c-4fad-a174-e3cfb3d9c064\")"
   ]
  },
  {
   "cell_type": "code",
   "execution_count": null,
   "metadata": {
    "id": "I_5EawoKz9MV"
   },
   "outputs": [],
   "source": [
    "ckb = pd.read_excel('SP_DownloadLijst_CentraleKerkbesturen_20210110.xlsx', sheet_name='DATA')"
   ]
  },
  {
   "cell_type": "code",
   "execution_count": null,
   "metadata": {
    "id": "eTEQt1Y81IyW"
   },
   "outputs": [],
   "source": [
    "ckb[['Opmerkingen_CKB', 'Verkiezingen17','Verkiezingen17_Opmerkingen','Verkiezingen2020','Verkiezingen2020_Opmerkingen']]"
   ]
  },
  {
   "cell_type": "markdown",
   "metadata": {
    "id": "3DVw3oJeR_9x"
   },
   "source": [
    "# Data cleansing"
   ]
  },
  {
   "cell_type": "markdown",
   "metadata": {
    "id": "PM1SV5FSaSgc"
   },
   "source": [
    "Statusses: map strings to canonical form\n",
    "\n",
    "'Niet actief - niet van toepassing' and 'Niet actief - Niet van toepassing' --> 'Niet actief - Niet van toepassing'"
   ]
  },
  {
   "cell_type": "code",
   "execution_count": null,
   "metadata": {
    "id": "citCYbBCSn5g"
   },
   "outputs": [],
   "source": [
    "ckb['Status_CKB_cleansed'] = ckb['Status_CKB'].replace(to_replace='Niet actief - niet van toepassing', value='Niet actief - Niet van toepassing')"
   ]
  },
  {
   "cell_type": "markdown",
   "metadata": {
    "id": "beWY4c7caatc"
   },
   "source": [
    "## KBO numbers"
   ]
  },
  {
   "cell_type": "code",
   "execution_count": null,
   "metadata": {
    "id": "-2vUXA_zcisO"
   },
   "outputs": [],
   "source": [
    "ckb['KBO_CKB_cleansed'] = ckb['KBO_CKB'].str.replace(r'\\D', '')"
   ]
  },
  {
   "cell_type": "code",
   "execution_count": null,
   "metadata": {
    "id": "so52t4V46EYd"
   },
   "outputs": [],
   "source": [
    "ckb[['KBO_CKB_cleansed', 'KBO_CKB_comment']] = pd.DataFrame(ckb['KBO_CKB'].astype(str).apply(kbo_cleansing).values.tolist(), columns=['kbo_cleansed','comment'])"
   ]
  },
  {
   "cell_type": "code",
   "execution_count": null,
   "metadata": {
    "id": "w9f28lSWc8Ot"
   },
   "outputs": [],
   "source": [
    "ckb['KBO_CKB_comment'].value_counts()"
   ]
  },
  {
   "cell_type": "markdown",
   "metadata": {
    "id": "Pc8eGDk6dU4w"
   },
   "source": [
    "CKB without KBO entry: **109 records**\n",
    "\n",
    "1.   List item\n",
    "2.   List item\n",
    "\n"
   ]
  },
  {
   "cell_type": "code",
   "execution_count": null,
   "metadata": {
    "id": "qcmz1dRSddV3"
   },
   "outputs": [],
   "source": [
    "ckb[ckb['KBO_CKB_cleansed'].isnull()]"
   ]
  },
  {
   "cell_type": "markdown",
   "metadata": {
    "id": "9Y7QLvdq6rnf"
   },
   "source": []
  },
  {
   "cell_type": "markdown",
   "metadata": {
    "id": "oAVnUrlPdfKr"
   },
   "source": [
    "CKB with wrong? kbo entry (not 10 digits): **13 records**"
   ]
  },
  {
   "cell_type": "code",
   "execution_count": null,
   "metadata": {
    "id": "49K-rzOldeHR"
   },
   "outputs": [],
   "source": [
    "ckb[~(ckb['KBO_CKB_cleansed'].str.len() == 10) & (ckb['KBO_CKB_cleansed'].notnull())][['KBO_CKB_cleansed', 'KBO_CKB_comment']]"
   ]
  },
  {
   "cell_type": "markdown",
   "metadata": {
    "id": "kFDioHazb7Ku"
   },
   "source": [
    "Base organization ID on KBO nr, if missing (e.g. de facto organization), use Titel"
   ]
  },
  {
   "cell_type": "code",
   "execution_count": null,
   "metadata": {
    "id": "ZLtHrf0ibaTy"
   },
   "outputs": [],
   "source": [
    "ckb['organization_id'] = ckb['KBO_CKB_cleansed'].fillna(ckb['Titel'])"
   ]
  },
  {
   "cell_type": "code",
   "execution_count": null,
   "metadata": {
    "id": "5mtOPg3fb1kH"
   },
   "outputs": [],
   "source": [
    "ckb['organization_id']"
   ]
  },
  {
   "cell_type": "markdown",
   "metadata": {
    "id": "5Yf68Dv4Z1ap"
   },
   "source": [
    "# *Conclusie*: kbo nrs toevoegen. @boris bezorg lijst\n",
    "# Lijst ontbrekende straten\n"
   ]
  },
  {
   "cell_type": "markdown",
   "metadata": {
    "id": "93TbZM7Uddyo"
   },
   "source": [
    "## Adressen"
   ]
  },
  {
   "cell_type": "markdown",
   "metadata": {
    "id": "IqgfhMhkkfJG"
   },
   "source": [
    "Provincies lijken correct"
   ]
  },
  {
   "cell_type": "code",
   "execution_count": null,
   "metadata": {
    "id": "RaNNRfpNkkVC"
   },
   "outputs": [],
   "source": [
    "ckb['Provincie_CKB'].unique()"
   ]
  },
  {
   "cell_type": "markdown",
   "metadata": {
    "id": "RvNYTpz7fprE"
   },
   "source": [
    "Geen straat: **15 records** - ook bij operationele ckb"
   ]
  },
  {
   "cell_type": "code",
   "execution_count": null,
   "metadata": {
    "id": "MpQu2FrifroO"
   },
   "outputs": [],
   "source": [
    "ckb[ckb['Straat_CKB'].isnull()]"
   ]
  },
  {
   "cell_type": "markdown",
   "metadata": {
    "id": "HrM6ztAKg-vF"
   },
   "source": [
    "### Huisnr + busnr"
   ]
  },
  {
   "cell_type": "code",
   "execution_count": null,
   "metadata": {
    "id": "o0NjA8mC7vGp"
   },
   "outputs": [],
   "source": [
    "ckb[['Huisnr_CKB_Cleansed', 'Busnummer_CKB_Cleansed', 'Huisnr_CKB_Comment']] = pd.DataFrame(ckb['Huisnr_CKB'].astype(str).apply(split_house_bus_number).values.tolist(), columns=['house_number', 'bus_number', 'comment'])\n",
    "ckb[ckb['Huisnr_CKB_Comment'].astype(bool)][['Huisnr_CKB','Huisnr_CKB_Cleansed', 'Busnummer_CKB_Cleansed', 'Huisnr_CKB_Comment']]"
   ]
  },
  {
   "cell_type": "markdown",
   "metadata": {
    "id": "buw8kEGm1jIA"
   },
   "source": [
    "### Zonder huisnr"
   ]
  },
  {
   "cell_type": "markdown",
   "metadata": {
    "id": "6WS_4UlQfuTM"
   },
   "source": [
    "## Namen"
   ]
  },
  {
   "cell_type": "code",
   "execution_count": null,
   "metadata": {
    "id": "iOXtbI8Df2Ff"
   },
   "outputs": [],
   "source": [
    "ckb['Naam_Voorzitter_CKB_cleansed'] = ckb['Naam_Voorzitter_CKB'].str.replace('<br>', '').str.strip()\n",
    "ckb['Naam_secretaris_CKB_cleansed'] = ckb['Naam_secretaris_CKB'].str.replace('<br>', '').str.strip()"
   ]
  },
  {
   "cell_type": "code",
   "execution_count": null,
   "metadata": {
    "id": "-Z3QaUROgFFg"
   },
   "outputs": [],
   "source": [
    "ckb[['Naam_Voorzitter_CKB_first', 'Naam_Voorzitter_CKB_last', 'Naam_Voorzitter_CKB_comment']] = pd.DataFrame(ckb['Naam_Voorzitter_CKB_cleansed'].astype(str).apply(splitname).values.tolist(), columns=['first', 'last', 'comment'])"
   ]
  },
  {
   "cell_type": "code",
   "execution_count": null,
   "metadata": {
    "id": "tUDn3M450TmN"
   },
   "outputs": [],
   "source": [
    "ckb[['Naam_secretaris_CKB_first', 'Naam_secretaris_CKB_last', 'Naam_secretaris_CKB_comment']] = pd.DataFrame(ckb['Naam_secretaris_CKB_cleansed'].astype(str).apply(splitname).values.tolist(), columns=['first', 'last', 'comment'])"
   ]
  },
  {
   "cell_type": "code",
   "execution_count": null,
   "metadata": {
    "id": "LpRQvWc4vCif"
   },
   "outputs": [],
   "source": [
    "ckb[['Naam_Voorzitter_CKB_first', 'Naam_Voorzitter_CKB_last', 'Naam_Voorzitter_CKB_comment']] = pd.DataFrame(ckb['Naam_Voorzitter_CKB_cleansed'].astype(str).apply(splitname).values.tolist(), columns=['first', 'last', 'comment'])"
   ]
  },
  {
   "cell_type": "code",
   "execution_count": null,
   "metadata": {
    "id": "eznUibNejgl9"
   },
   "outputs": [],
   "source": [
    "ckb[['Naam_Voorzitter_CKB', 'Naam_Voorzitter_CKB_first', 'Naam_Voorzitter_CKB_last', 'Naam_Voorzitter_CKB_comment', 'Naam_secretaris_CKB', 'Naam_secretaris_CKB_first', 'Naam_secretaris_CKB_last', 'Naam_secretaris_CKB_comment']]"
   ]
  },
  {
   "cell_type": "markdown",
   "metadata": {
    "id": "dGymfd42KZju"
   },
   "source": [
    "Exceptions when parsing Voorzitter names"
   ]
  },
  {
   "cell_type": "code",
   "execution_count": null,
   "metadata": {
    "id": "s1DrOZHGI1TD"
   },
   "outputs": [],
   "source": [
    "ckb[ckb['Naam_Voorzitter_CKB_comment'].astype(bool)][['Naam_Voorzitter_CKB', 'Naam_Voorzitter_CKB_first', 'Naam_Voorzitter_CKB_last', 'Naam_Voorzitter_CKB_comment']]"
   ]
  },
  {
   "cell_type": "markdown",
   "metadata": {
    "id": "-3YcEXEsKmNy"
   },
   "source": [
    "Exceptions when parsing secretaris names"
   ]
  },
  {
   "cell_type": "code",
   "execution_count": null,
   "metadata": {
    "id": "3gYyecQzKsjh"
   },
   "outputs": [],
   "source": [
    "ckb[ckb['Naam_secretaris_CKB_comment'].astype(bool)][['Naam_secretaris_CKB', 'Naam_secretaris_CKB_first', 'Naam_secretaris_CKB_last', 'Naam_secretaris_CKB_comment']]"
   ]
  },
  {
   "cell_type": "markdown",
   "metadata": {
    "id": "OAoFiFcpi9om"
   },
   "source": [
    "## Mails"
   ]
  },
  {
   "cell_type": "code",
   "execution_count": null,
   "metadata": {
    "id": "fmDTDZ-mjBuC"
   },
   "outputs": [],
   "source": [
    "ckb['Mail_CKB']"
   ]
  },
  {
   "cell_type": "code",
   "execution_count": null,
   "metadata": {
    "id": "sPY8U5YIjSx4"
   },
   "outputs": [],
   "source": [
    "ckb[['Mail_CKB_Cleansed', 'Mail_CKB_Comment']] = pd.DataFrame(ckb['Mail_CKB'].astype(str).apply(mail_cleansing).values.tolist(), columns=['mail_cleansed','comment'])"
   ]
  },
  {
   "cell_type": "code",
   "execution_count": null,
   "metadata": {
    "id": "IfS0WEO2jlgV"
   },
   "outputs": [],
   "source": [
    "#ckb['Mail_CKB'].str.findall(r'[\\w\\.-]+@[\\w\\.-]+').head(30)\n",
    "ckb['Mail_CKB'].head(50)"
   ]
  },
  {
   "cell_type": "markdown",
   "metadata": {
    "id": "-VZYhfZJFr8w"
   },
   "source": [
    "## Phone numbers\n",
    "\n",
    "Formats:\n",
    "\n",
    "*   Voorzitter: xxxxx Secretaris: xxxxx\n",
    "*   V: xxxxx S: xxxx\n",
    "*   xxxx (voorzitter) xxxxx (secretaris)\n",
    "*   xxxx (lastname) xxxx (lastname)\n",
    "\n"
   ]
  },
  {
   "cell_type": "markdown",
   "metadata": {
    "id": "26mqQPOEGPxE"
   },
   "source": [
    "### Heuristic\n",
    "For both voorzitter and secretaris\n",
    "\n",
    "Try find phone number in the following order:\n",
    "\n",
    "1.   `xxx (voorzitter/secretaris)`\n",
    "2.   `Voorzitter/Secretaris: xxx`\n",
    "3.   `V/S: xxx`\n",
    "2.   Any phone number: `xxx`\n",
    "\n",
    "Caveat: Only first match is kept! (currently)\n"
   ]
  },
  {
   "cell_type": "code",
   "execution_count": null,
   "metadata": {
    "id": "mi02KFtixs8I"
   },
   "outputs": [],
   "source": [
    "ckb['Tel_CKB_voorzitter'] = ckb['Tel_CKB'].str.extract(r'([\\d/ ]*)\\s*\\(\\s*voorzitter\\s*\\)', flags=re.IGNORECASE) \\\n",
    "  .fillna(ckb['Tel_CKB'].str.extract(r'Voorzitter\\s*:\\s*([\\d/ ]*)', flags=re.IGNORECASE)) \\\n",
    "  .fillna(ckb['Tel_CKB'].str.extract(r'V\\s*:\\s*([\\d/ ]*)', flags=re.IGNORECASE)) \\\n",
    "  .fillna(ckb['Tel_CKB'].str.extract(r'([\\d/ ]*)', flags=re.IGNORECASE))"
   ]
  },
  {
   "cell_type": "code",
   "execution_count": null,
   "metadata": {
    "id": "dri9qgjA0-lv"
   },
   "outputs": [],
   "source": [
    "ckb['Tel_CKB_secretaris'] = ckb['Tel_CKB'].str.extract(r'([\\d/ ]*)\\s*\\(\\s*secretaris\\s*\\)', flags=re.IGNORECASE) \\\n",
    "  .fillna(ckb['Tel_CKB'].str.extract(r'Secretaris\\s*:\\s*([\\d/ ]*)', flags=re.IGNORECASE)) \\\n",
    "  .fillna(ckb['Tel_CKB'].str.extract(r'S\\s*:\\s*([\\d/ ]*)', flags=re.IGNORECASE)) \\\n",
    "  .fillna(ckb['Tel_CKB'].str.extract(r'([\\d/ ]*)', flags=re.IGNORECASE))"
   ]
  },
  {
   "cell_type": "code",
   "execution_count": null,
   "metadata": {
    "id": "KWEly73Lt8FB"
   },
   "outputs": [],
   "source": [
    "ckb[['Tel_CKB_voorzitter', 'Tel_CKB_secretaris', 'Tel_CKB']].head(30)"
   ]
  },
  {
   "cell_type": "markdown",
   "metadata": {
    "id": "dMlVULrE99t9"
   },
   "source": [
    "### Voorzitter"
   ]
  },
  {
   "cell_type": "code",
   "execution_count": null,
   "metadata": {
    "id": "xxdyvxLb-DJs"
   },
   "outputs": [],
   "source": [
    "ckb[['Tel_CKB_voorzitter_1', 'Tel_CKB_voorzitter_2', 'Tel_CKB_voorzitter_Comment']] = pd.DataFrame(ckb['Tel_CKB_voorzitter'].astype(str).apply(telephone_number_cleansing).values.tolist(), columns=['telephone_number_1', 'telephone_number_2', 'comment'])"
   ]
  },
  {
   "cell_type": "markdown",
   "metadata": {
    "id": "BTSw27Zo_LV2"
   },
   "source": [
    "Secretaris"
   ]
  },
  {
   "cell_type": "code",
   "execution_count": null,
   "metadata": {
    "id": "ejU_FSWz_K-R"
   },
   "outputs": [],
   "source": [
    "ckb[['Tel_CKB_secretaris_1', 'Tel_CKB_secretaris_2', 'Tel_CKB_secretaris_Comment']] = pd.DataFrame(ckb['Tel_CKB_secretaris'].astype(str).apply(telephone_number_cleansing).values.tolist(), columns=['telephone_number_1', 'telephone_number_2', 'comment'])"
   ]
  },
  {
   "cell_type": "code",
   "execution_count": null,
   "metadata": {
    "id": "18N9Fm-V_bvX"
   },
   "outputs": [],
   "source": [
    "ckb[(ckb['Tel_CKB_secretaris_Comment'] != '') & (ckb['Tel_CKB_secretaris'].notnull())][['Tel_CKB_secretaris', 'Tel_CKB_secretaris_1', 'Tel_CKB_secretaris_2', 'Tel_CKB_secretaris_Comment']].head(50)"
   ]
  },
  {
   "cell_type": "code",
   "execution_count": null,
   "metadata": {
    "id": "qSWhBtXo-hkY"
   },
   "outputs": [],
   "source": [
    "ckb[['Tel_CKB', 'Tel_CKB_voorzitter_1', 'Tel_CKB_voorzitter_2', 'Tel_CKB_voorzitter_Comment','Tel_CKB_secretaris_1', 'Tel_CKB_secretaris_2', 'Tel_CKB_secretaris_Comment']]"
   ]
  },
  {
   "cell_type": "markdown",
   "metadata": {
    "id": "gjIjglO0_HuK"
   },
   "source": [
    "# Statusses\n",
    "\n",
    "Skos concepts"
   ]
  },
  {
   "cell_type": "code",
   "execution_count": null,
   "metadata": {
    "id": "yLmHIwMJ_LXv"
   },
   "outputs": [],
   "source": [
    "for status in ckb['Status_CKB'].unique():\n",
    "  subject = concept_uri(os, status)\n",
    "  g.add((subject, RDF.type, SKOS.Concept))\n",
    "  g.add((subject, SKOS.prefLabel, Literal(status, lang='nl')))\n",
    "  g.add((subject, SKOS.definition, Literal(status, lang='nl')))\n",
    "  if(status.startswith('Operationeel') or status.startswith('Actief')) :\n",
    "    g.add((subject, SKOS.broader, os.actief))\n",
    "  else:\n",
    "    g.add((subject, SKOS.broader, os.nietactief))\n",
    " "
   ]
  },
  {
   "cell_type": "code",
   "execution_count": null,
   "metadata": {
    "id": "9pLZ9lxAdJ8z"
   },
   "outputs": [],
   "source": [
    "os.nietactief"
   ]
  },
  {
   "cell_type": "code",
   "execution_count": null,
   "metadata": {
    "id": "WF3PKReUc35U"
   },
   "outputs": [],
   "source": [
    "ckb['Status_CKB'].unique()"
   ]
  },
  {
   "cell_type": "markdown",
   "metadata": {
    "id": "Fm4zfSyEspYl"
   },
   "source": [
    "Bestuursfunctiecodes: Voorzitter, secretaris"
   ]
  },
  {
   "cell_type": "code",
   "execution_count": null,
   "metadata": {
    "id": "ZfbrCBhPsoIS"
   },
   "outputs": [],
   "source": [
    "voorzitter_concept = concept_uri(lblod + 'concept/BestuursFunctieCode/', 'voorzitter')\n",
    "  \n",
    "g.add((voorzitter_concept, RDF.type, SKOS.Concept))\n",
    "g.add((voorzitter_concept, SKOS.prefLabel, Literal('voorzitter', lang='nl')))\n",
    "g.add((voorzitter_concept, SKOS.definition, Literal('voorzitter', lang='nl')))\n",
    "g.add((voorzitter_concept, SKOS.inScheme, URIRef('http://data.vlaanderen.be/id/conceptscheme/BestuursfunctieCode')))\n",
    "\n",
    "secretaris_concept = concept_uri(lblod + 'concept/BestuursFunctieCode/', 'secretaris')\n",
    "\n",
    "g.add((secretaris_concept, RDF.type, SKOS.Concept))\n",
    "g.add((secretaris_concept, SKOS.prefLabel, Literal('secretaris', lang='nl')))\n",
    "g.add((secretaris_concept, SKOS.definition, Literal('secretaris', lang='nl')))\n",
    "g.add((secretaris_concept, SKOS.inScheme, URIRef('http://data.vlaanderen.be/id/conceptscheme/BestuursfunctieCode')))\n",
    "\n",
    "\n",
    "penning_meester_concept = concept_uri(lblod + 'concept/BestuursFunctieCode/', 'penningmeester')\n",
    "\n",
    "g.add((penning_meester_concept, RDF.type, SKOS.Concept))\n",
    "g.add((penning_meester_concept, SKOS.prefLabel, Literal('penningmeester', lang='nl')))\n",
    "g.add((penning_meester_concept, SKOS.definition, Literal('penningmeester', lang='nl')))\n",
    "g.add((penning_meester_concept, SKOS.inScheme, URIRef('http://data.vlaanderen.be/id/conceptscheme/BestuursfunctieCode')))\n"
   ]
  },
  {
   "cell_type": "markdown",
   "metadata": {
    "id": "9LdZTj6gewiT"
   },
   "source": [
    "# Uniformiseren cf eredienstbesturen"
   ]
  },
  {
   "cell_type": "markdown",
   "metadata": {
    "id": "T3VENXfJeUHy"
   },
   "source": [
    "## Verkiezingen"
   ]
  },
  {
   "cell_type": "code",
   "execution_count": null,
   "metadata": {
    "id": "_Sqh9m1oeS69"
   },
   "outputs": [],
   "source": [
    "ckb[['Verkiezingen17', 'Verkiezingen17_Opmerkingen', 'Verkiezingen2020', 'Verkiezingen2020_Opmerkingen' ]]"
   ]
  },
  {
   "cell_type": "code",
   "execution_count": null,
   "metadata": {
    "id": "FGcx9UPEnqOE"
   },
   "outputs": [],
   "source": [
    "ckb['Verkiezingen17'].dropna().unique()"
   ]
  },
  {
   "cell_type": "code",
   "execution_count": null,
   "metadata": {
    "id": "5krjZRIRpRmQ"
   },
   "outputs": [],
   "source": [
    "ckb['Verkiezingen17_Opmerkingen'].dropna().unique()"
   ]
  },
  {
   "cell_type": "code",
   "execution_count": null,
   "metadata": {
    "id": "csjAqq0BwtjY"
   },
   "outputs": [],
   "source": [
    "  for index, row in ckb.iterrows():\n",
    "    date = str(row['Verkiezingen17_Opmerkingen'])\n",
    "\n",
    "    if date != 'nan':\n",
    "      dates_parsed = date_cleansing(date)\n",
    "\n",
    "      if dates_parsed :\n",
    "        ckb.at[index, 'Verkiezingen17_Opmerkingen Cleansed'] = dates_parsed[0]\n",
    "        if len(dates_parsed) > 1:\n",
    "          comment = []\n",
    "          for i in range(1, len(dates_parsed)):\n",
    "            comment.append(str(dates_parsed[i]))\n",
    "            ckb.at[index, 'Verkiezingen17_Opmerkingen Comment'] = ' - '.join(comment)\n",
    "        else:\n",
    "          ckb.at[index, 'Verkiezingen17_Opmerkingen Comment'] = np.NaN\n",
    "      else:\n",
    "        ckb.at[index, 'Verkiezingen17_Opmerkingen Cleansed'] = np.NaN\n",
    "\n",
    "        ckb['Verkiezingen17_Opmerkingen Comment'] = ckb['Verkiezingen17_Opmerkingen Comment'].astype(object)\n",
    "        ckb.at[index, 'Verkiezingen17_Opmerkingen Comment'] = 'Wrong date format. Check it.'\n"
   ]
  },
  {
   "cell_type": "code",
   "execution_count": null,
   "metadata": {
    "id": "1k_Q8g8_rAiR"
   },
   "outputs": [],
   "source": [
    "ckb['Verkiezingen17_Opmerkingen Comment'].dropna().unique()"
   ]
  },
  {
   "cell_type": "code",
   "execution_count": null,
   "metadata": {
    "id": "jmPI0VbDLYcG"
   },
   "outputs": [],
   "source": [
    "ckb['Verkiezingen17_Opmerkingen Cleansed'].dropna().unique()"
   ]
  },
  {
   "cell_type": "code",
   "execution_count": null,
   "metadata": {
    "id": "ojZ_G9J2isqZ"
   },
   "outputs": [],
   "source": [
    "ckb[ckb['Verkiezingen17_Opmerkingen Comment'].str.contains('\\w', na=False)]"
   ]
  },
  {
   "cell_type": "code",
   "execution_count": null,
   "metadata": {
    "id": "ypY_ikcFwUbA"
   },
   "outputs": [],
   "source": [
    "ckb['Verkiezingen2020_Opmerkingen'].dropna().unique()"
   ]
  },
  {
   "cell_type": "code",
   "execution_count": null,
   "metadata": {
    "id": "0zEvCDKPwUbL"
   },
   "outputs": [],
   "source": [
    "  for index, row in ckb.iterrows():\n",
    "    date = str(row['Verkiezingen2020_Opmerkingen'])\n",
    "\n",
    "    if date != \"nan\":\n",
    "      dates_parsed = date_cleansing(date)\n",
    "      if dates_parsed :\n",
    "        ckb.at[index, 'Verkiezingen2020_Opmerkingen Cleansed'] = dates_parsed[0]\n",
    "        if len(dates_parsed) > 1:\n",
    "          comment = []\n",
    "          for i in range(1, len(dates_parsed)):\n",
    "            comment.append(str(dates_parsed[i]))\n",
    "            ckb.at[index, 'Verkiezingen2020_Opmerkingen Comment'] = ' - '.join(comment)\n",
    "        else:\n",
    "          ckb.at[index, 'Verkiezingen2020_Opmerkingen Comment'] = np.NaN\n",
    "      else:\n",
    "        ckb.at[index, 'Verkiezingen2020_Opmerkingen Cleansed'] = np.NaN\n",
    "\n",
    "        ckb['Verkiezingen2020_Opmerkingen Comment'] = ckb['Verkiezingen2020_Opmerkingen Comment'].astype(object)\n",
    "        ckb.at[index, 'Verkiezingen2020_Opmerkingen Comment'] = 'Wrong date format. Check it.'\n"
   ]
  },
  {
   "cell_type": "code",
   "execution_count": null,
   "metadata": {
    "id": "Zjd2VBqMwUbP"
   },
   "outputs": [],
   "source": [
    "ckb['Verkiezingen2020_Opmerkingen Comment'].dropna().unique()"
   ]
  },
  {
   "cell_type": "code",
   "execution_count": null,
   "metadata": {
    "id": "EhOYH2o-wUbT"
   },
   "outputs": [],
   "source": [
    "ckb['Verkiezingen2020_Opmerkingen Cleansed'].dropna().unique()"
   ]
  },
  {
   "cell_type": "markdown",
   "metadata": {
    "id": "vJIbvCAz_MYD"
   },
   "source": [
    "#Mapping"
   ]
  },
  {
   "cell_type": "code",
   "execution_count": null,
   "metadata": {
    "id": "YCI2YPchirp3"
   },
   "outputs": [],
   "source": [
    "ckb.info()"
   ]
  },
  {
   "cell_type": "code",
   "execution_count": null,
   "metadata": {
    "id": "MtdteyNS3_Vk"
   },
   "outputs": [],
   "source": [
    "# TODO: correct uri generation (more random)\n",
    "for index, row in ckb.iterrows():\n",
    "  identifier = row['organization_id'] # Should become KBO! \n",
    "  # ABB_URI\n",
    "  s = concept_uri(lblod + 'organisatie/', str(row['organization_id']))\n",
    "  g.add((s, RDF.type, org.Organization))\n",
    "\n",
    "  addLiteral(s, SKOS.prefLabel, 'Naam_CKB', datatype=XSD.string)\n",
    "  addLiteral(s, rov.legalName, 'Naam_CKB', datatype=XSD.string)\n",
    "\n",
    "  kbo_uri = concept_uri(lblod + 'gestructureerdeIdentificator/', str(row['KBO_CKB_cleansed']))\n",
    "  g.add((kbo_uri, RDF.type, generiek.GestructureerdeIdentificator))\n",
    "  addLiteral(kbo_uri, generiek.lokaleIdentificator, 'KBO_CKB_cleansed', XSD.string)\n",
    "\n",
    "  naam_uri = concept_uri(lblod + 'gestructureerdeIdentificator/', str(row['Titel']))\n",
    "  g.add((naam_uri, RDF.type, generiek.GestructureerdeIdentificator))\n",
    "  addLiteral(naam_uri, generiek.lokaleIdentificator, 'Titel', XSD.string)\n",
    "\n",
    "  g.add((s, rov.orgStatus, concept_uri(os, status)))\n",
    "  g.add((s, org.classification, centraal_bestuur_van_de_eredienst))\n",
    "\n",
    "  #Vestiging\n",
    "  vestiging_uri = concept_uri(lblod + 'vestiging/', str(identifier))\n",
    "  g.add((vestiging_uri, RDF.type, org.Site))\n",
    "  g.add((s, org.hasPrimarySite, vestiging_uri))\n",
    "\n",
    "  address_uri = concept_uri(lblod + 'adresvoorstelling/', identifier)\n",
    "  g.add((address_uri, RDF.type, locn.Address))\n",
    "  g.add((vestiging_uri, organisatie.bestaatUit, address_uri))\n",
    "  \n",
    "\n",
    "  #TODO ADDRESS\n",
    "\n",
    "  #mail\n",
    "  contact_uri = concept_uri(lblod + 'contactinfo/', str(identifier))\n",
    "  g.add((contact_uri, RDF.type, schema.ContactPoint))\n",
    "  g.add((vestiging_uri, organisatie.contactinfo, contact_uri))\n",
    "\n",
    "\n",
    "  # all mails - no differentiation between secretaris and voorzitter in data --> added as general contact\n",
    "  for mail in re.findall(r'[\\w\\.-]+@[\\w\\.-]+', str(row['Mail_CKB'])):\n",
    "    g.add((contact_uri, schema.email, Literal(mail, datatype=XSD.string)))\n",
    "  \n",
    "  #TODO: cleansing\n",
    "  addLiteral(address_uri, locn.thoroughfare, 'Straat_CKB')\n",
    "  addLiteral(address_uri, adres['Adresvoorstelling.huisnummer'], 'Huisnr_CKB_Cleansed', datatype=XSD.string)\n",
    "  addLiteral(address_uri, adres['Adresvoorstelling.busnummer'], 'Busnummer_CKB_Cleansed', datatype=XSD.string)\n",
    "  addLiteral(address_uri, locn.postCode, 'Postcode_CKB', datatype=XSD.string)\n",
    "  addLiteral(address_uri, adres.gemeentenaam, 'Gemeente_CKB')\n",
    "  addLiteral(address_uri, locn.adminUnitL2, 'Provincie_CKB')\n",
    "  g.add((address_uri, adres.land, Literal('België', lang='nl')))\n",
    "\n",
    "  #Bestuur\n",
    "  bestuur = concept_uri(lblod + 'bestuursorgaan/', row['organization_id'])\n",
    "  g.add((bestuur, RDF.type, besluit.Bestuursorgaan))\n",
    "  g.add((bestuur, besluit.bestuurt, s))\n",
    "\n",
    "  bestuur_temporary = concept_uri(lblod + 'bestuursorgaan/', (row['organization_id'] + str(datetime.datetime.now().year)))\n",
    "  g.add((bestuur_temporary, RDF.type, besluit.Bestuursorgaan))\n",
    "  g.add((bestuur_temporary, generiek.isTijdspecialisatieVan, bestuur))\n",
    "\n",
    "  # Voorzitter\n",
    "  voorzitter = concept_uri(lblod + 'persoon/', (row['Naam_Voorzitter_CKB_first'] + row['Naam_Voorzitter_CKB_last']))\n",
    "  g.add((voorzitter, RDF.type, person.Person))\n",
    "  addLiteral(voorzitter, persoon.gebruikteVoornaam, 'Naam_Voorzitter_CKB_first', datatype=XSD.string)\n",
    "  addLiteral(voorzitter, foaf.familyName, 'Naam_Voorzitter_CKB_last', datatype=XSD.string)\n",
    "\n",
    "  ## Tel voorzitter - Correct properties??? \n",
    "  voorzitter_vestiging_uri = concept_uri(lblod + 'vestiging/', (str(identifier) + (row['Naam_Voorzitter_CKB_first'] + row['Naam_Voorzitter_CKB_last'])))\n",
    "  g.add((voorzitter_vestiging_uri, RDF.type, org.Site))\n",
    "  g.add((voorzitter, org.basedAt, voorzitter_vestiging_uri))\n",
    "\n",
    "  voorzitter_contact_uri = concept_uri(lblod + 'contactinfo/', str(identifier+ (row['Naam_Voorzitter_CKB_first'] + row['Naam_Voorzitter_CKB_last'])))\n",
    "  g.add((voorzitter_contact_uri, RDF.type, schema.ContactPoint))\n",
    "  g.add((voorzitter_vestiging_uri, organisatie.contactinfo, voorzitter_contact_uri))\n",
    "  addLiteral(voorzitter_contact_uri, schema.telephone, 'Tel_CKB_voorzitter_1', datatype=XSD.string)\n",
    "  addLiteral(voorzitter_contact_uri, schema.telephone, 'Tel_CKB_voorzitter_2', datatype=XSD.string)\n",
    "\n",
    "\n",
    "  ## Mandataris\n",
    "  voorzitter_mandataris = concept_uri(lblod + 'mandataris/', (row['Naam_Voorzitter_CKB_first'] + row['Naam_Voorzitter_CKB_last'] + row['organization_id'] + 'voorzitter'))\n",
    "  g.add((voorzitter_mandataris, RDF.type, mandaat.Mandataris))\n",
    "  g.add((voorzitter, mandaat.isAangesteldAls, voorzitter_mandataris))\n",
    "  g.add((voorzitter_mandataris, mandaat.isBestuurlijkeAliasVan, voorzitter))\n",
    "  #start\n",
    "  #einde\n",
    "  #status ~ cf loket lokale besturen PoC https://poc-form-builder.relance.s.redpencil.io/codelijsten\n",
    "  voorzitter_mandaat = concept_uri(lblod + 'mandaat/', (row['Naam_Voorzitter_CKB_first'] + row['Naam_Voorzitter_CKB_last'] + row['organization_id']))\n",
    "  g.add((voorzitter_mandaat, RDF.type, mandaat.Mandaat))\n",
    "  g.add((voorzitter_mandataris, org.holds, voorzitter_mandaat))\n",
    "  g.add((voorzitter_mandaat, org.role, voorzitter_concept))\n",
    "\n",
    "\n",
    "  g.add((bestuur_temporary, org.hasPost, voorzitter_mandaat))\n",
    "  g.add((voorzitter_mandaat, org.holds, bestuur_temporary))\n",
    "  \n",
    "  #Secretaris\n",
    "  secretaris =  concept_uri(lblod + 'persoon/', (row['Naam_secretaris_CKB_first'] + row['Naam_secretaris_CKB_last']))\n",
    "  g.add((secretaris, RDF.type, person.Person))\n",
    "  addLiteral(secretaris, persoon.gebruikteVoornaam, 'Naam_secretaris_CKB_first', datatype=XSD.string)\n",
    "  addLiteral(secretaris, foaf.familyName, 'Naam_secretaris_CKB_last', datatype=XSD.string)\n",
    "  ## Tel secretaris\n",
    "  secretaris_vestiging_uri = concept_uri(lblod + 'vestiging/', (str(identifier) + (row['Naam_secretaris_CKB_first'] + row['Naam_secretaris_CKB_last'])))\n",
    "  g.add((secretaris_vestiging_uri, RDF.type, org.Site))\n",
    "  g.add((secretaris, org.basedAt, secretaris_vestiging_uri))\n",
    "\n",
    "  secretaris_contact_uri = concept_uri(lblod + 'contactinfo/', str(identifier+ (row['Naam_secretaris_CKB_first'] + row['Naam_secretaris_CKB_last'])))\n",
    "  g.add((secretaris_contact_uri, RDF.type, schema.ContactPoint))\n",
    "  g.add((secretaris_vestiging_uri, organisatie.contactinfo, secretaris_contact_uri))\n",
    "  addLiteral(secretaris_contact_uri, schema.telephone, 'Tel_CKB_secretaris_1', datatype=XSD.string)\n",
    "  addLiteral(secretaris_contact_uri, schema.telephone, 'Tel_CKB_secretaris_2', datatype=XSD.string)\n",
    "\n",
    "  #Mandataris\n",
    "  secretaris_mandataris = concept_uri(lblod + 'mandataris/', (row['Naam_secretaris_CKB_first'] + row['Naam_secretaris_CKB_last'] + row['organization_id'] + 'secretaris'))\n",
    "  g.add((secretaris_mandataris, RDF.type, mandaat.Mandataris))\n",
    "  g.add((secretaris, mandaat.isAangesteldAls, secretaris_mandataris))\n",
    "  g.add((secretaris_mandataris, mandaat.isBestuurlijkeAliasVan, secretaris))\n",
    "  #start\n",
    "  #einde\n",
    "  #status\n",
    "  secretaris_mandaat = concept_uri(lblod + 'mandaat/', (row['Naam_secretaris_CKB_first'] + row['Naam_secretaris_CKB_last'] + row['organization_id']))\n",
    "  g.add((secretaris_mandaat, RDF.type, mandaat.Mandaat))\n",
    "  g.add((secretaris_mandataris, org.holds, secretaris_mandaat))\n",
    "  g.add((secretaris_mandaat, org.role, secretaris_concept))\n",
    "\n",
    "  g.add((bestuur_temporary, org.hasPost, secretaris_mandaat))\n",
    "  g.add((secretaris_mandaat, org.holds, bestuur_temporary))\n",
    "\n",
    "\n"
   ]
  },
  {
   "cell_type": "code",
   "execution_count": null,
   "metadata": {
    "id": "xaFUz7cE4KXG"
   },
   "outputs": [],
   "source": [
    "#print(g.serialize(format='turtle').decode('UTF-8'))"
   ]
  },
  {
   "cell_type": "code",
   "execution_count": null,
   "metadata": {
    "id": "8mfp7lx7491V"
   },
   "outputs": [],
   "source": [
    "g.serialize('ckb-qa.ttl',format='turtle')"
   ]
  },
  {
   "cell_type": "code",
   "execution_count": null,
   "metadata": {
    "id": "3lrC238ghKv8"
   },
   "outputs": [],
   "source": [
    "ckb.to_excel('centrale_kerkbesturen_feedback.xlsx')"
   ]
  },
  {
   "cell_type": "markdown",
   "metadata": {
    "id": "Z3UnS1jS715R"
   },
   "source": [
    "# Checks/tests"
   ]
  },
  {
   "cell_type": "code",
   "execution_count": null,
   "metadata": {
    "id": "NQ99C9hHJZHt"
   },
   "outputs": [],
   "source": [
    "f = Graph();\n",
    "for index, row in ckb.iterrows():\n",
    " f.add((URIRef('http://ad.hoc/s'), URIRef('http://ad.hoc/p'),Literal(row['Tel_CKB_voorzitter_1'])))"
   ]
  },
  {
   "cell_type": "code",
   "execution_count": null,
   "metadata": {
    "id": "C8WsfiTmLCYv"
   },
   "outputs": [],
   "source": [
    "print(f.serialize(format='turtle').decode('UTF-8'))"
   ]
  },
  {
   "cell_type": "code",
   "execution_count": null,
   "metadata": {
    "id": "0dR7djDc77Rn"
   },
   "outputs": [],
   "source": [
    "ckb['Status_CKB'].unique()"
   ]
  },
  {
   "cell_type": "code",
   "execution_count": null,
   "metadata": {
    "id": "Y__UnQ128Cnf"
   },
   "outputs": [],
   "source": [
    "hash('a')"
   ]
  },
  {
   "cell_type": "code",
   "execution_count": null,
   "metadata": {
    "id": "tAjUeYIUC7gT"
   },
   "outputs": [],
   "source": [
    "import random"
   ]
  },
  {
   "cell_type": "code",
   "execution_count": null,
   "metadata": {
    "id": "xAhtSqJoDqc-"
   },
   "outputs": [],
   "source": [
    "rd = random.Random()"
   ]
  },
  {
   "cell_type": "code",
   "execution_count": null,
   "metadata": {
    "id": "cG1IxTQzDyTR"
   },
   "outputs": [],
   "source": [
    "rd.getrandbits(128)"
   ]
  },
  {
   "cell_type": "code",
   "execution_count": null,
   "metadata": {
    "id": "dqOGKyR5D2rP"
   },
   "outputs": [],
   "source": [
    "import hashlib\n",
    "import uuid\n",
    "\n",
    "m = hashlib.md5()\n",
    "m.update(\"aaa\".encode('utf-8'))\n",
    "new_uuid = uuid.UUID(m.hexdigest())\n"
   ]
  },
  {
   "cell_type": "code",
   "execution_count": null,
   "metadata": {
    "id": "X4CIAlFaddh4"
   },
   "outputs": [],
   "source": []
  },
  {
   "cell_type": "markdown",
   "metadata": {
    "id": "JmuAdZZ8GOyT"
   },
   "source": [
    "# Oslo"
   ]
  },
  {
   "cell_type": "code",
   "execution_count": null,
   "metadata": {
    "id": "uIS_DngOGSxX"
   },
   "outputs": [],
   "source": [
    "#oslo = pd.read_excel('OSLO_Mapping_20210322.xlsx', sheet_name='vocabulary_CH-core_FORMAT-Nordi')"
   ]
  },
  {
   "cell_type": "code",
   "execution_count": null,
   "metadata": {
    "id": "RlzJUCNyGiaM"
   },
   "outputs": [],
   "source": [
    "oslo "
   ]
  },
  {
   "cell_type": "code",
   "execution_count": null,
   "metadata": {
    "id": "oQeVWnmIG4dA"
   },
   "outputs": [],
   "source": [
    "o = Graph();\n",
    "\n",
    "oslo['Uri'] = oslo['Uri'].str.replace('org:', 'http://www.w3.org/ns/org#')\n",
    "\n",
    "for index, row in oslo.dropna(subset=['Uri']).iterrows():\n",
    "  s = URIRef(row['Uri'])\n",
    "  o.add((s, RDF.type, URIRef('http://www.w3.org/2002/07/owl#ObjectProperty')))\n",
    "  o.add((s, RDFS.comment, Literal(row['comment'], lang='nl')))\n",
    "  o.add((s, RDFS.label, Literal(row['label'], lang='nl')))\n",
    "  \n",
    "print(o.serialize(format='turtle').decode('UTF-8'))"
   ]
  },
  {
   "cell_type": "code",
   "execution_count": null,
   "metadata": {
    "id": "oO518SMfJ9d7"
   },
   "outputs": [],
   "source": [
    "o.serialize('oslo.ttl',format='turtle')"
   ]
  },
  {
   "cell_type": "markdown",
   "metadata": {
    "id": "Ip-0Azxd3pRf"
   },
   "source": [
    "# Open issues/questions\n",
    "\n",
    "\n",
    "*   identifier: not every entity has a (valid) KBO number. cf cleansinig. Uri's are currently based on internal identifier\n",
    "*   heeftvesitiging ipv adres? https://data.vlaanderen.be/ns/organisatie (hasSite)\n",
    "*   Base uri's\n",
    "*   Mandaat --> Positie?\n",
    "*   Begin/einde?\n",
    "*   Secretaris ~ hoedanigheid bugdethouder?? <> penningmeester\n",
    "*   Concept codes to be defined?:\n",
    "**  Functionaris status \n",
    "\n",
    "\n",
    "\n"
   ]
  },
  {
   "cell_type": "code",
   "execution_count": null,
   "metadata": {
    "id": "QYTlWoZ_Bzyx"
   },
   "outputs": [],
   "source": [
    "from google.colab import output\n",
    "output.clear()"
   ]
  },
  {
   "cell_type": "code",
   "execution_count": null,
   "metadata": {
    "id": "Q3EI1JD2hZP7"
   },
   "outputs": [],
   "source": []
  }
 ],
 "metadata": {
  "colab": {
   "collapsed_sections": [],
   "name": "kerkbesturen.ipynb",
   "provenance": [],
   "toc_visible": true
  },
  "kernelspec": {
   "display_name": "Python 3",
   "name": "python3"
  }
 },
 "nbformat": 4,
 "nbformat_minor": 0
}
