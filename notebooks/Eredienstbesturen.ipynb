{
 "cells": [
  {
   "cell_type": "code",
   "execution_count": null,
   "metadata": {
    "colab": {
     "base_uri": "https://localhost:8080/"
    },
    "id": "S38EL_qmzyKO",
    "outputId": "83cd86ac-56a8-434e-890c-0df180f3e0c7"
   },
   "outputs": [],
   "source": [
    "pip install rdflib"
   ]
  },
  {
   "cell_type": "code",
   "execution_count": null,
   "metadata": {
    "colab": {
     "base_uri": "https://localhost:8080/"
    },
    "id": "yINdOMRHMIop",
    "outputId": "989ce7aa-d8db-4ae2-b190-b78bbdab89b1"
   },
   "outputs": [],
   "source": [
    "pip install dateparser"
   ]
  },
  {
   "cell_type": "code",
   "execution_count": null,
   "metadata": {
    "id": "5HsREbXszjmM"
   },
   "outputs": [],
   "source": [
    "import pandas as pd\n",
    "import numpy as np\n",
    "pd.set_option('display.max_colwidth', None)\n",
    "from rdflib import Graph, Literal, RDF, URIRef, Namespace \n",
    "from rdflib.namespace import FOAF , XSD, DC, FOAF, SKOS, RDF, RDFS\n",
    "import urllib.parse \n",
    "from google.colab import files \n",
    "import io\n",
    "import regex as re\n",
    "from datetime import datetime\n",
    "import dateparser\n",
    "from dateparser.search import search_dates"
   ]
  },
  {
   "cell_type": "markdown",
   "metadata": {
    "id": "oouwdHvFCbuF"
   },
   "source": [
    "## Input file"
   ]
  },
  {
   "cell_type": "code",
   "execution_count": null,
   "metadata": {
    "colab": {
     "base_uri": "https://localhost:8080/",
     "height": 187,
     "resources": {
      "http://localhost:8080/nbextensions/google.colab/files.js": {
       "data": "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",
       "headers": [
        [
         "content-type",
         "application/javascript"
        ]
       ],
       "ok": true,
       "status": 200,
       "status_text": "OK"
      }
     }
    },
    "id": "fiBLowuVelIE",
    "outputId": "05378a06-feb8-4a95-9f58-6ef725034455"
   },
   "outputs": [],
   "source": [
    "uploaded = files.upload()"
   ]
  },
  {
   "cell_type": "code",
   "execution_count": null,
   "metadata": {
    "id": "TE0XqorSCZRZ"
   },
   "outputs": [],
   "source": [
    "eb = pd.read_excel('SP_DownloadLijst_Eredienstbesturen_20210108.xlsx', sheet_name='DATA')"
   ]
  },
  {
   "cell_type": "code",
   "execution_count": null,
   "metadata": {
    "id": "1pFpS6DNe7xE"
   },
   "outputs": [],
   "source": [
    "gp = pd.read_excel('gemeente-provincie.xlsx', sheet_name='Feuil2')"
   ]
  },
  {
   "cell_type": "code",
   "execution_count": null,
   "metadata": {
    "colab": {
     "base_uri": "https://localhost:8080/"
    },
    "id": "vSX0rI27Ctaq",
    "outputId": "1485dfff-8c14-4171-d8d1-6e2bc662fb0a"
   },
   "outputs": [],
   "source": [
    "eb.info()"
   ]
  },
  {
   "cell_type": "code",
   "execution_count": null,
   "metadata": {
    "colab": {
     "base_uri": "https://localhost:8080/",
     "height": 1000
    },
    "id": "V4P8LcCgfnIz",
    "outputId": "cac2d0d1-53c5-4615-b4f6-afb731383258"
   },
   "outputs": [],
   "source": [
    "eb"
   ]
  },
  {
   "cell_type": "markdown",
   "metadata": {
    "id": "QPjYdYrHFKF9"
   },
   "source": [
    "## Helper functions"
   ]
  },
  {
   "cell_type": "markdown",
   "metadata": {
    "id": "wEKVvoGEX21P"
   },
   "source": [
    "### space_cleansing"
   ]
  },
  {
   "cell_type": "code",
   "execution_count": null,
   "metadata": {
    "id": "2ImFuQDTXhjT"
   },
   "outputs": [],
   "source": [
    "def space_cleansing(space):\n",
    "  return re.sub(r'\\s', '', space)"
   ]
  },
  {
   "cell_type": "markdown",
   "metadata": {
    "id": "ipgJoztMzIWL"
   },
   "source": [
    "### split_house_bus_number"
   ]
  },
  {
   "cell_type": "code",
   "execution_count": null,
   "metadata": {
    "id": "lP39ZrkRuwI9"
   },
   "outputs": [],
   "source": [
    "def split_house_bus_number(house_bus_number):\n",
    "  house_number = bus_number = np.NaN\n",
    "  comment = []\n",
    "  house_bus_number = house_bus_number.replace(' ', '')\n",
    "\n",
    "  if ('z/n' not in house_bus_number and 'nan' not in house_bus_number) : \n",
    "    if (('bus' in house_bus_number or '/' in house_bus_number)) :\n",
    "      comment.append('Splitting. Check it.')\n",
    "      if ('bus' in house_bus_number) : \n",
    "        split = house_bus_number.split('bus')\n",
    "      else :\n",
    "        split = house_bus_number.split('/')\n",
    "      house_number = split[0]\n",
    "      bus_number = split[1]\n",
    "    else:\n",
    "        house_number = house_bus_number\n",
    "    house_number =  house_number.replace('/', '').replace('-', '').replace(',', '')\n",
    "      \n",
    "  return [house_number, bus_number, ' - '.join(comment)]"
   ]
  },
  {
   "cell_type": "markdown",
   "metadata": {
    "id": "r8L5Hx5pjKFw"
   },
   "source": [
    "### kbo_cleansing"
   ]
  },
  {
   "cell_type": "code",
   "execution_count": null,
   "metadata": {
    "id": "dhQgG_wKjUPT"
   },
   "outputs": [],
   "source": [
    "def kbo_cleansing(kbo):\n",
    "  kbo_cleansed = comment = np.NaN\n",
    "\n",
    "  if kbo != 'nan':\n",
    "    kbo = re.sub(r'\\D', '', kbo)\n",
    "    if  re.match(r'\\d{10}', kbo):\n",
    "      kbo_cleansed = kbo\n",
    "    elif re.match(r'\\d{9}', kbo):\n",
    "      kbo_cleansed = kbo\n",
    "      comment = 'only 9 digits. Missing first 0?'\n",
    "    else: \n",
    "      comment = 'Wrong KBO format. Check it.'\n",
    "  else :\n",
    "    comment = 'No KBO nr found'\n",
    "\n",
    "  return [kbo_cleansed, comment]"
   ]
  },
  {
   "cell_type": "markdown",
   "metadata": {
    "id": "XNL9QBl3o0ze"
   },
   "source": [
    "### mail_cleansing"
   ]
  },
  {
   "cell_type": "code",
   "execution_count": null,
   "metadata": {
    "id": "yQMLEwPlo1hy"
   },
   "outputs": [],
   "source": [
    "def mail_cleansing(mail):\n",
    "  mail_cleansed = comment = np.NaN\n",
    "\n",
    "  if mail != 'nan':\n",
    "    if  re.match(r'[\\w\\.-]+@[\\w\\.-]+(\\.[\\w]+)+', mail):\n",
    "      mail_cleansed = mail\n",
    "    else: \n",
    "      comment = 'Wrong mail format. Check it.'\n",
    "\n",
    "  return [mail_cleansed, comment]"
   ]
  },
  {
   "cell_type": "markdown",
   "metadata": {
    "id": "DsqwYrW9y5_a"
   },
   "source": [
    "### telephone_number_cleansing"
   ]
  },
  {
   "cell_type": "code",
   "execution_count": null,
   "metadata": {
    "id": "Jq3aqxcQhAd0"
   },
   "outputs": [],
   "source": [
    "def telephone_number_cleansing(telephone_number):\n",
    "  telephone_number = re.sub(r'\\s', '', telephone_number)\n",
    "\n",
    "  telephone_number = re.sub(r'tel:', '', telephone_number)\n",
    "  telephone_number = re.sub(r'tel', '', telephone_number)\n",
    "  telephone_number = re.sub(r'<br>', '', telephone_number)\n",
    "\n",
    "  telephone_number = re.sub(r'^\\+32-\\(0\\)', '0', telephone_number)\n",
    "  telephone_number = re.sub(r'^\\+32', '0', telephone_number)\n",
    "  telephone_number = re.sub(r'^32', '0', telephone_number)\n",
    "\n",
    "  telephone_number = re.sub(r'^\\+0032-\\(0\\)', '0', telephone_number)\n",
    "  telephone_number = re.sub(r'^0032-\\(0\\)', '0', telephone_number)\n",
    "  telephone_number = re.sub(r'^0032', '0', telephone_number)\n",
    "\n",
    "  telephone_number = re.sub(r'^\\(\\d\\d\\d\\)', '0', telephone_number)\n",
    "  telephone_number = re.sub(r'^0\\(\\d\\d\\d\\)', '0', telephone_number)\n",
    "\n",
    "  telephone_number =  re.sub(r'[\\.a-zA-Z]', '', telephone_number)\n",
    "\n",
    "  return split_telephone_number(telephone_number)\n",
    "\n",
    "def split_telephone_number(telephone_number):\n",
    "  telephone_number_1 = telephone_number_2 = np.NaN\n",
    "  comment = []\n",
    "\n",
    "  split = [telephone_number]\n",
    "  if '//' in telephone_number:\n",
    "    split = telephone_number.split('//')\n",
    "  elif '-' in telephone_number:\n",
    "    split = telephone_number.split('-')\n",
    "  elif ';' in telephone_number:\n",
    "    split = telephone_number.split(';')\n",
    "  elif 'enGSM:' in telephone_number:\n",
    "    split = telephone_number.split('enGSM:')\n",
    "\n",
    "  split[0] = split[0].replace('/', '')\n",
    "\n",
    "  if telephone_number != '' :\n",
    "    if check_telephone_number_lenght(split[0]):\n",
    "      telephone_number_1 = split[0]\n",
    "    else:\n",
    "      comment.append('Wrong telephone number lenght. Check it.')\n",
    "\n",
    "    if len(split) == 2 :\n",
    "      comment.append('Splitting. Check it.')\n",
    "      split[1] = split[1].replace('/', '')\n",
    "      if check_telephone_number_lenght(split[1]):\n",
    "        telephone_number_2 = split[1]\n",
    "      else:\n",
    "        comment.append('Wrong telephone 2 number lenght. Check it.')\n",
    "\n",
    "  return [telephone_number_1, telephone_number_2, ' - '.join(comment)]\n",
    "\n",
    "def check_telephone_number_lenght(telephone_number):\n",
    "  if  (len(telephone_number) < 9 or len(telephone_number) > 10):\n",
    "    return False\n",
    "  else :\n",
    "    return True"
   ]
  },
  {
   "cell_type": "markdown",
   "metadata": {
    "id": "ik5-2Fr4C0Qz"
   },
   "source": [
    "### postcode_cleansing"
   ]
  },
  {
   "cell_type": "code",
   "execution_count": null,
   "metadata": {
    "id": "ccf4ESCnC0lo"
   },
   "outputs": [],
   "source": [
    "def postcode_cleansing(postcode):\n",
    "  postcode_cleansed = comment = np.NaN\n",
    "\n",
    "  if postcode != 'nan':\n",
    "    postcode = re.sub(r'\\D', '', postcode)\n",
    "    if  re.match(r'\\d{4}', postcode):\n",
    "      postcode_cleansed = postcode\n",
    "    else: \n",
    "      comment = 'Wrong postcode format. Check it.'\n",
    "\n",
    "  return [postcode_cleansed, comment]"
   ]
  },
  {
   "cell_type": "markdown",
   "metadata": {
    "id": "MGC7V834vese"
   },
   "source": [
    "### date_cleansing"
   ]
  },
  {
   "cell_type": "code",
   "execution_count": null,
   "metadata": {
    "id": "z3blJ01nvipI"
   },
   "outputs": [],
   "source": [
    "def date_cleansing(date):\n",
    "    dates_parsed = []\n",
    "\n",
    "    if date != \"nan\":\n",
    "      print(\">> \" + date)\n",
    "      \n",
    "      match = re.findall(r'\\d{1,2}.\\d{1,2}.\\d{2,4}', date)\n",
    "      if match:\n",
    "        for m in match:\n",
    "          date_parsed_match = dateparser.parse(m, settings={'DATE_ORDER': 'DMY'})\n",
    "          dates_parsed.append(date_parsed_match)\n",
    "\n",
    "      match = re.findall(r'\\d{1,2} \\w* \\d{2,4}', date)\n",
    "      if match:\n",
    "        for m in match:\n",
    "          date_parsed_match = dateparser.parse(m, settings={'DATE_ORDER': 'DMY'})\n",
    "          dates_parsed.append(date_parsed_match)\n",
    "\n",
    "      for item in dates_parsed:\n",
    "          print(\"...\" + str(item))\n",
    "\n",
    "    return dates_parsed"
   ]
  },
  {
   "cell_type": "code",
   "execution_count": null,
   "metadata": {
    "id": "EslLU5uDFIPn"
   },
   "outputs": [],
   "source": [
    "import hashlib\n",
    "import uuid\n",
    "\n",
    "def concept_uri(base_uri, input):\n",
    "  m = hashlib.md5()\n",
    "  m.update(input.encode('utf-8'))\n",
    "\n",
    "  return URIRef(base_uri + m.hexdigest())\n",
    "\n",
    "def addLiteral(subject, predicate, objectColumn, datatype=None):\n",
    "  if pd.notna(row[objectColumn]):\n",
    "    if datatype == None:\n",
    "      g.add((subject, predicate, Literal(str(row[objectColumn]), lang='nl')))\n",
    "    else:\n",
    "      g.add((subject, predicate, Literal(str(row[objectColumn]), datatype=datatype)))\n",
    "\n",
    "# using statbel firstnames of newborns (heuristic)\n",
    "m = pd.read_excel('Voornamen_Jongens_1995-2017_0.xls', sheet_name='1995-2019')\n",
    "male_names = (m['Unnamed: 1'].append(m['Unnamed: 4']).append(m['Unnamed: 7']).append(m['Unnamed: 10'])).unique()\n",
    "f = pd.read_excel('Voornamen_meisjes_1995-2017.xls', sheet_name='1995-2019')\n",
    "female_names = (f['Unnamed: 1'].append(f['Unnamed: 4']).append(f['Unnamed: 7']).append(f['Unnamed: 10'])).unique()\n",
    "\n",
    "manual_entries = ['Friedo', 'Renilde', 'Jozef', 'Maria-André', 'Gedo', 'Yvo', 'Marie-Cecile', 'Fonny', 'Luciaan', 'Willy', 'Fredy']\n",
    "likely_last_names = ['Vos', 'Matthijs', 'Stevens', 'Maere', 'Rubens', 'Beer', 'Duran', 'Roos', 'Broos', 'Thijs', 'Perre', 'Joris', 'Winter', 'Claus', 'Thys', 'Massa', 'Roy']\n",
    "\n",
    "first_names = np.concatenate([male_names,female_names, manual_entries])\n",
    "\n",
    "first_names = np.delete(first_names, np.where(first_names == 'Van'))\n",
    "first_names = np.delete(first_names, np.where(first_names == 'Blomme'))\n",
    "\n",
    "\n",
    "def is_known_first_name(potential_name):\n",
    "  return potential_name in first_names\n",
    "\n",
    "\n",
    "def splitname(full_name):\n",
    "  full_name.str.split(' ')\n"
   ]
  },
  {
   "cell_type": "code",
   "execution_count": null,
   "metadata": {
    "id": "CUOipJdsg6DP"
   },
   "outputs": [],
   "source": [
    "import re\n",
    "\n",
    "mv = re.compile('(mevr|dhr)[\\.]?[\\s]?', re.IGNORECASE)\n",
    "\n",
    "def remove_title(full_name):\n",
    "  return mv.sub('', full_name)\n",
    "\n",
    "\n",
    "def splitname(full_name):\n",
    "  first = last = np.NaN\n",
    "  comment = []\n",
    "\n",
    "  split = remove_title(full_name).split(' ')\n",
    "\n",
    "  if len(split) == 1 : comment.append('Cannot split name')\n",
    "\n",
    "  potential_first_last = is_known_first_name(split[0])\n",
    "  potential_last_first = is_known_first_name(split[-1])\n",
    "\n",
    "  if potential_first_last and potential_last_first:\n",
    "    if split[-1] in likely_last_names:\n",
    "      first = split[0]\n",
    "      last = ' '.join(split[1:])\n",
    "    elif split[0] in likely_last_names:\n",
    "      first = split[-1]\n",
    "      last = ' '.join(split[0:-1])\n",
    "    comment.append('Ambiguous: two possible first names - {}'.format(full_name))\n",
    "  elif potential_first_last:\n",
    "    first = split[0]\n",
    "    last = ' '.join(split[1:])\n",
    "  elif potential_last_first:\n",
    "    first = split[-1]\n",
    "    last = ' '.join(split[0:-1])\n",
    "  else:\n",
    "    comment.append('No potential first name found - {}'.format(full_name))\n",
    "    # print([full_name])\n",
    "  return [first, last, ' - '.join(comment)]"
   ]
  },
  {
   "cell_type": "markdown",
   "metadata": {
    "id": "3DVw3oJeR_9x"
   },
   "source": [
    "## Data cleansing"
   ]
  },
  {
   "cell_type": "markdown",
   "metadata": {
    "id": "3soVwzZMEsp3"
   },
   "source": [
    "### Titel"
   ]
  },
  {
   "cell_type": "code",
   "execution_count": null,
   "metadata": {
    "colab": {
     "base_uri": "https://localhost:8080/"
    },
    "id": "UfVr0UvOWlpO",
    "outputId": "6e79bde3-f044-458c-a98f-5375d56395d1"
   },
   "outputs": [],
   "source": [
    "eb['Titel'].dropna().unique()"
   ]
  },
  {
   "cell_type": "code",
   "execution_count": null,
   "metadata": {
    "id": "pmXL6cqrXWhs"
   },
   "outputs": [],
   "source": [
    "eb[['Titel Cleansed']] = pd.DataFrame(eb['Titel'].astype(str).apply(space_cleansing).values.tolist())"
   ]
  },
  {
   "cell_type": "code",
   "execution_count": null,
   "metadata": {
    "colab": {
     "base_uri": "https://localhost:8080/",
     "height": 139
    },
    "id": "6hI0s82tZvAO",
    "outputId": "ad999d22-8161-4d6a-dd34-babab46add7e"
   },
   "outputs": [],
   "source": [
    "eb[eb['Titel Cleansed'].str.contains(r\"\\s\", na=False)]"
   ]
  },
  {
   "cell_type": "markdown",
   "metadata": {
    "id": "0pcuGwoDEytE"
   },
   "source": [
    "### Status_EB"
   ]
  },
  {
   "cell_type": "code",
   "execution_count": null,
   "metadata": {
    "colab": {
     "base_uri": "https://localhost:8080/"
    },
    "id": "J_HG_wb5JU9b",
    "outputId": "9b259694-ae2a-44ce-d1d8-4da6d3989ef5"
   },
   "outputs": [],
   "source": [
    "eb['Status_EB'].dropna().unique()"
   ]
  },
  {
   "cell_type": "code",
   "execution_count": null,
   "metadata": {
    "id": "6BUDiFOcaYw6"
   },
   "outputs": [],
   "source": [
    "eb['Status_EB Cleansed'] = eb['Status_EB']"
   ]
  },
  {
   "cell_type": "markdown",
   "metadata": {
    "id": "3YSxkK3FH09f"
   },
   "source": [
    "### Gemeente_EB"
   ]
  },
  {
   "cell_type": "code",
   "execution_count": null,
   "metadata": {
    "colab": {
     "base_uri": "https://localhost:8080/"
    },
    "id": "Xl_To0MtIsRb",
    "outputId": "77d305b8-4eec-4fe5-849b-6fb046609369"
   },
   "outputs": [],
   "source": [
    "eb['Gemeente_EB'].dropna().unique()"
   ]
  },
  {
   "cell_type": "code",
   "execution_count": null,
   "metadata": {
    "id": "1m1s6bWse6IC"
   },
   "outputs": [],
   "source": [
    "eb['Gemeente_EB Cleansed'] = eb['Gemeente_EB'].str.strip().str.title().replace('Antwerpen (Deurne', 'Antwerpen (Deurne)')"
   ]
  },
  {
   "cell_type": "code",
   "execution_count": null,
   "metadata": {
    "colab": {
     "base_uri": "https://localhost:8080/"
    },
    "id": "vmFm8iwvfVBe",
    "outputId": "1def3773-132f-44c8-da2c-7d7fae34a20b"
   },
   "outputs": [],
   "source": [
    "eb['Gemeente_EB Cleansed'].dropna().unique()"
   ]
  },
  {
   "cell_type": "markdown",
   "metadata": {
    "id": "coMDlZXEE5sA"
   },
   "source": [
    "### Provincie_EB"
   ]
  },
  {
   "cell_type": "code",
   "execution_count": null,
   "metadata": {
    "colab": {
     "base_uri": "https://localhost:8080/"
    },
    "id": "kDdDU5Ssaiuc",
    "outputId": "6838875f-d35d-4d93-94bb-c55cd7ee265e"
   },
   "outputs": [],
   "source": [
    "eb['Provincie_EB'].dropna().unique()"
   ]
  },
  {
   "cell_type": "code",
   "execution_count": null,
   "metadata": {
    "id": "OLW-fl3La4sp"
   },
   "outputs": [],
   "source": [
    "#eb['Provincie_EB Cleansed'] = eb['Provincie_EB']"
   ]
  },
  {
   "cell_type": "code",
   "execution_count": null,
   "metadata": {
    "colab": {
     "base_uri": "https://localhost:8080/"
    },
    "id": "C4Quc9mFj97F",
    "outputId": "976e6328-33e8-4fd3-fe96-55732b521b40"
   },
   "outputs": [],
   "source": [
    "gp['Gemeente'].dropna().unique()"
   ]
  },
  {
   "cell_type": "code",
   "execution_count": null,
   "metadata": {
    "id": "kNxU3o6WhGC6"
   },
   "outputs": [],
   "source": [
    "def find_city_provincie(city):\n",
    "  return gp[gp['Gemeente'].str.contains(city)]"
   ]
  },
  {
   "cell_type": "code",
   "execution_count": null,
   "metadata": {
    "id": "nnBd24C9ojrr"
   },
   "outputs": [],
   "source": [
    "eb['Provincie_EB Cleansed'] = None\n",
    "eb['Provincie_EB Comment'] = None"
   ]
  },
  {
   "cell_type": "code",
   "execution_count": null,
   "metadata": {
    "colab": {
     "base_uri": "https://localhost:8080/"
    },
    "id": "amLt9AbPecXD",
    "outputId": "826f9456-987b-49da-ac14-a95b334be5f4"
   },
   "outputs": [],
   "source": [
    "for index, row in eb.iterrows():\n",
    "  city = str(row['Gemeente_EB Cleansed'])\n",
    "  result = find_city_provincie(city)\n",
    "  \n",
    "  if len(result) > 0:\n",
    "    if str(result.iloc[0]['Provincie']) != str(row['Provincie_EB']):\n",
    "      eb.at[index, 'Provincie_EB Cleansed'] = result.iloc[0]['Provincie'].strip().title()\n",
    "      eb.at[index, 'Provincie_EB Comment'] = \"Different Provincie\"\n",
    "    else:\n",
    "      eb.at[index, 'Provincie_EB Cleansed'] = str(row['Provincie_EB'])\n",
    "  elif city != 'NaN':\n",
    "    eb.at[index, 'Provincie_EB Comment'] = \"Municipality Not Found\"\n",
    "    eb.at[index, 'Provincie_EB Cleansed'] = str(row['Provincie_EB'])"
   ]
  },
  {
   "cell_type": "code",
   "execution_count": null,
   "metadata": {
    "colab": {
     "base_uri": "https://localhost:8080/"
    },
    "id": "f05lLxJCGvtm",
    "outputId": "0787287e-263a-4301-82ac-b406e71529ca"
   },
   "outputs": [],
   "source": [
    "eb['Provincie_EB Cleansed'] = eb['Provincie_EB Cleansed'].replace('nan', np.NaN)\n",
    "eb['Provincie_EB Cleansed'].dropna().unique()"
   ]
  },
  {
   "cell_type": "code",
   "execution_count": null,
   "metadata": {
    "colab": {
     "base_uri": "https://localhost:8080/"
    },
    "id": "jYjaCmTCGyQe",
    "outputId": "c4f0d2eb-dd68-4de3-c5b2-f599552fa8cc"
   },
   "outputs": [],
   "source": [
    "eb['Provincie_EB Comment'].dropna().unique()"
   ]
  },
  {
   "cell_type": "code",
   "execution_count": null,
   "metadata": {
    "colab": {
     "base_uri": "https://localhost:8080/",
     "height": 424
    },
    "id": "ReSpdBUWar82",
    "outputId": "071d1175-b62f-4903-da87-c1ba73aa15d9"
   },
   "outputs": [],
   "source": [
    "eb[eb['Provincie_EB Comment'] == 'Different Provincie'][['Gemeente_EB Cleansed', 'Provincie_EB', 'Provincie_EB Cleansed', 'Provincie_EB Comment']]"
   ]
  },
  {
   "cell_type": "markdown",
   "metadata": {
    "id": "9k80cKr6E_58"
   },
   "source": [
    "### Straat_EB >> simplified"
   ]
  },
  {
   "cell_type": "code",
   "execution_count": null,
   "metadata": {
    "colab": {
     "base_uri": "https://localhost:8080/"
    },
    "id": "zbfRMl2Ma9jO",
    "outputId": "9c46f8fb-260d-42f8-ec88-500b20de6509"
   },
   "outputs": [],
   "source": [
    "eb['Straat_EB'].dropna().unique()"
   ]
  },
  {
   "cell_type": "code",
   "execution_count": null,
   "metadata": {
    "colab": {
     "base_uri": "https://localhost:8080/",
     "height": 807
    },
    "id": "aSCrI6eXbC7E",
    "outputId": "2a8f69e9-5bc1-4a23-b9b7-bad1783898b9"
   },
   "outputs": [],
   "source": [
    "eb[eb['Straat_EB'].str.contains(r\"\\d\", na=False)]"
   ]
  },
  {
   "cell_type": "code",
   "execution_count": null,
   "metadata": {
    "id": "rmw7fu3swr1o"
   },
   "outputs": [],
   "source": [
    "eb['Straat_EB Cleansed'] = eb['Straat_EB'].str.strip()"
   ]
  },
  {
   "cell_type": "markdown",
   "metadata": {
    "id": "U2PSsxbIFDWg"
   },
   "source": [
    "### Huisnr_EB / Busnummer_EB"
   ]
  },
  {
   "cell_type": "code",
   "execution_count": null,
   "metadata": {
    "colab": {
     "base_uri": "https://localhost:8080/"
    },
    "id": "ZT3Q6Z9Ubogn",
    "outputId": "95f8b6b3-875d-491b-9527-fd1288ccddc8"
   },
   "outputs": [],
   "source": [
    "eb['Huisnr_EB'].dropna().unique()"
   ]
  },
  {
   "cell_type": "code",
   "execution_count": null,
   "metadata": {
    "colab": {
     "base_uri": "https://localhost:8080/",
     "height": 1000
    },
    "id": "1g17B0H7bwkR",
    "outputId": "1ae2eec6-4cd3-4c49-88b9-13932a2be33d"
   },
   "outputs": [],
   "source": [
    "eb[['Huisnr_EB Cleansed', 'Busnummer_EB Cleansed', 'Huisnr_EB Comment']] = pd.DataFrame(eb['Huisnr_EB'].astype(str).apply(split_house_bus_number).values.tolist(), columns=['house_number', 'bus_number', 'comment'])\n",
    "eb[eb['Huisnr_EB Comment'].str.contains('\\w', na=False)]"
   ]
  },
  {
   "cell_type": "code",
   "execution_count": null,
   "metadata": {
    "colab": {
     "base_uri": "https://localhost:8080/"
    },
    "id": "YG5P6hSRcn6e",
    "outputId": "409b8a64-d082-4f0a-b231-4fb856b2737d"
   },
   "outputs": [],
   "source": [
    "eb['Huisnr_EB Cleansed'].dropna().unique()"
   ]
  },
  {
   "cell_type": "code",
   "execution_count": null,
   "metadata": {
    "colab": {
     "base_uri": "https://localhost:8080/"
    },
    "id": "7QR_oC6YcpRr",
    "outputId": "f48a8a06-bef6-4a59-f2dd-101577e272bb"
   },
   "outputs": [],
   "source": [
    "eb['Busnummer_EB Cleansed'].dropna().unique()"
   ]
  },
  {
   "cell_type": "markdown",
   "metadata": {
    "id": "Lnb2ZTfhHvmQ"
   },
   "source": [
    "### Postcode_EB"
   ]
  },
  {
   "cell_type": "code",
   "execution_count": null,
   "metadata": {
    "colab": {
     "base_uri": "https://localhost:8080/"
    },
    "id": "SdNEmqazCWVo",
    "outputId": "49a03844-8ffc-4da2-b752-a6547ddafb7f"
   },
   "outputs": [],
   "source": [
    "eb['Postcode_EB'].unique()"
   ]
  },
  {
   "cell_type": "code",
   "execution_count": null,
   "metadata": {
    "id": "TwrCZIINDSlQ"
   },
   "outputs": [],
   "source": [
    "eb[['Postcode_EB Cleansed', 'Postcode_EB Comment']] = pd.DataFrame(eb['Postcode_EB'].astype(str).apply(postcode_cleansing).values.tolist(), columns=['postcode_cleansed','comment'])"
   ]
  },
  {
   "cell_type": "code",
   "execution_count": null,
   "metadata": {
    "colab": {
     "base_uri": "https://localhost:8080/"
    },
    "id": "pEy9pv6_DSlT",
    "outputId": "7bcb6665-58a7-45d1-f729-a50df20c218f"
   },
   "outputs": [],
   "source": [
    "eb['Postcode_EB Cleansed'].unique()"
   ]
  },
  {
   "cell_type": "markdown",
   "metadata": {
    "id": "A7oGyZNRH5zv"
   },
   "source": [
    "### Naam_EB"
   ]
  },
  {
   "cell_type": "code",
   "execution_count": null,
   "metadata": {
    "colab": {
     "base_uri": "https://localhost:8080/"
    },
    "id": "s_y1Cn1UgNhM",
    "outputId": "112df540-52d5-4d22-f62a-b078c7e98a2c"
   },
   "outputs": [],
   "source": [
    "eb['Naam_EB'].dropna().unique()"
   ]
  },
  {
   "cell_type": "code",
   "execution_count": null,
   "metadata": {
    "colab": {
     "base_uri": "https://localhost:8080/",
     "height": 441
    },
    "id": "zsCYtyFkhCFW",
    "outputId": "fe97b269-4bd3-4b27-cf91-64ba939fb05c"
   },
   "outputs": [],
   "source": [
    "eb[eb['Naam_EB'].str.contains(r\"\\d\", na=False)]"
   ]
  },
  {
   "cell_type": "code",
   "execution_count": null,
   "metadata": {
    "id": "zdsmNzpYmdMQ"
   },
   "outputs": [],
   "source": [
    "eb['Naam_EB Cleansed'] = eb['Naam_EB']"
   ]
  },
  {
   "cell_type": "markdown",
   "metadata": {
    "id": "beWY4c7caatc"
   },
   "source": [
    "### KBO_EB"
   ]
  },
  {
   "cell_type": "code",
   "execution_count": null,
   "metadata": {
    "colab": {
     "base_uri": "https://localhost:8080/"
    },
    "id": "PoWtBNSjhTWM",
    "outputId": "99ac4dc2-fed6-4e49-9b0d-5eb5fcc719b9"
   },
   "outputs": [],
   "source": [
    "eb['KBO_EB'].dropna().unique()"
   ]
  },
  {
   "cell_type": "code",
   "execution_count": null,
   "metadata": {
    "colab": {
     "base_uri": "https://localhost:8080/",
     "height": 1000
    },
    "id": "Sonw_fh1fk8P",
    "outputId": "8e7cf937-abbf-4a6b-ef60-5d0a40480169"
   },
   "outputs": [],
   "source": [
    "eb[eb['KBO_EB'].str.contains(r'\\D', na=False)]"
   ]
  },
  {
   "cell_type": "code",
   "execution_count": null,
   "metadata": {
    "id": "39XiEfAkibQX"
   },
   "outputs": [],
   "source": [
    "eb[['KBO_EB Cleansed', 'KBO_EB Comment']] = pd.DataFrame(eb['KBO_EB'].astype(str).apply(kbo_cleansing).values.tolist(), columns=['kbo_cleansed','comment'])"
   ]
  },
  {
   "cell_type": "code",
   "execution_count": null,
   "metadata": {
    "colab": {
     "base_uri": "https://localhost:8080/",
     "height": 1000
    },
    "id": "2zLvtldzlOD6",
    "outputId": "bbd7fc96-174e-4d2e-b6e3-1a6593eb6848"
   },
   "outputs": [],
   "source": [
    "eb[eb['KBO_EB Comment'].str.contains('\\w', na=False)]"
   ]
  },
  {
   "cell_type": "code",
   "execution_count": null,
   "metadata": {
    "id": "4Faj-C66eEMG"
   },
   "outputs": [],
   "source": [
    "eb['organization_id'] = eb['KBO_EB Cleansed'].fillna(eb['Titel'])"
   ]
  },
  {
   "cell_type": "markdown",
   "metadata": {
    "id": "kJvE8L6UIVPS"
   },
   "source": [
    "### Voorzitter_EB"
   ]
  },
  {
   "cell_type": "markdown",
   "metadata": {
    "id": "96M0Uko0fnBj"
   },
   "source": [
    "#### Naam_voorzitter_EB"
   ]
  },
  {
   "cell_type": "code",
   "execution_count": null,
   "metadata": {
    "colab": {
     "base_uri": "https://localhost:8080/"
    },
    "id": "aot3UAEhmp-D",
    "outputId": "0e47d788-e126-45b0-e441-61fd572ad00f"
   },
   "outputs": [],
   "source": [
    "eb['Naam_voorzitter_EB'].dropna().unique()"
   ]
  },
  {
   "cell_type": "code",
   "execution_count": null,
   "metadata": {
    "id": "oRo-tXHtfjod"
   },
   "outputs": [],
   "source": [
    "eb['Naam_voorzitter_EB Cleansed'] = eb['Naam_voorzitter_EB'].str.replace('<br>', '').str.strip()\n",
    "eb[['Naam_voorzitter_EB First', 'Naam_voorzitter_EB Last', 'Naam_voorzitter_EB Comment']] = pd.DataFrame(eb['Naam_voorzitter_EB Cleansed'].astype(str).apply(splitname).values.tolist(), columns=['first', 'last', 'comment'])"
   ]
  },
  {
   "cell_type": "code",
   "execution_count": null,
   "metadata": {
    "colab": {
     "base_uri": "https://localhost:8080/"
    },
    "id": "7cpMZSKvnJj8",
    "outputId": "864d757c-35f6-4de3-da9c-cc2ffca45b89"
   },
   "outputs": [],
   "source": [
    "eb['Naam_voorzitter_EB First'].dropna().unique()"
   ]
  },
  {
   "cell_type": "code",
   "execution_count": null,
   "metadata": {
    "colab": {
     "base_uri": "https://localhost:8080/"
    },
    "id": "10wcCr3VnMcZ",
    "outputId": "e3e656ab-a036-441a-995b-b6bde855effd"
   },
   "outputs": [],
   "source": [
    "eb['Naam_voorzitter_EB Last'].dropna().unique()"
   ]
  },
  {
   "cell_type": "markdown",
   "metadata": {
    "id": "8RickH9OfOg8"
   },
   "source": [
    "#### Adres_voorzitter_EB >> simplified"
   ]
  },
  {
   "cell_type": "code",
   "execution_count": null,
   "metadata": {
    "colab": {
     "base_uri": "https://localhost:8080/"
    },
    "id": "lKBzxj8BoMu5",
    "outputId": "5230f1f7-65ee-47ef-8cbe-e5b12b2934a2"
   },
   "outputs": [],
   "source": [
    "eb['Adres_voorzitter_EB'].dropna().unique()"
   ]
  },
  {
   "cell_type": "code",
   "execution_count": null,
   "metadata": {
    "id": "GC-xHAI0DfXN"
   },
   "outputs": [],
   "source": [
    "eb['Adres_voorzitter_EB Cleansed'] = eb['Adres_voorzitter_EB'].str.replace('<br>', '').str.strip()"
   ]
  },
  {
   "cell_type": "markdown",
   "metadata": {
    "id": "cHcOJ6MFIIiS"
   },
   "source": [
    "#### Mail_voorzitter_EB"
   ]
  },
  {
   "cell_type": "code",
   "execution_count": null,
   "metadata": {
    "colab": {
     "base_uri": "https://localhost:8080/"
    },
    "id": "ondesz7cosqq",
    "outputId": "96a72a1a-e20a-4588-a18f-3a153deb1958"
   },
   "outputs": [],
   "source": [
    "eb['Mail_voorzitter_EB'].dropna().unique()"
   ]
  },
  {
   "cell_type": "code",
   "execution_count": null,
   "metadata": {
    "id": "7FR-8Ar3a5Q9"
   },
   "outputs": [],
   "source": [
    "eb[['Mail_voorzitter_EB Cleansed', 'Mail_voorzitter_EB Comment']] = pd.DataFrame(eb['Mail_voorzitter_EB'].astype(str).apply(mail_cleansing).values.tolist(), columns=['mail_cleansed','comment'])"
   ]
  },
  {
   "cell_type": "code",
   "execution_count": null,
   "metadata": {
    "colab": {
     "base_uri": "https://localhost:8080/",
     "height": 1000
    },
    "id": "8qRWDR-2bE-Z",
    "outputId": "1f93bb4d-5460-44a0-cc22-5c5bfb729b76"
   },
   "outputs": [],
   "source": [
    "eb[eb['Mail_voorzitter_EB Comment'].str.contains('\\w', na=False)]"
   ]
  },
  {
   "cell_type": "markdown",
   "metadata": {
    "id": "_ZF1Hp4_IREJ"
   },
   "source": [
    "#### Tel_voorzitter_EB"
   ]
  },
  {
   "cell_type": "code",
   "execution_count": null,
   "metadata": {
    "id": "H9KTMzn8CaEx"
   },
   "outputs": [],
   "source": [
    "eb[['Tel_voorzitter_EB 1', 'Tel_voorzitter_EB 2', 'Tel_voorzitter_EB Comment']] = pd.DataFrame(eb['Tel_voorzitter_EB'].astype(str).apply(telephone_number_cleansing).values.tolist(), columns=['telephone_number_1', 'telephone_number_2', 'comment'])"
   ]
  },
  {
   "cell_type": "code",
   "execution_count": null,
   "metadata": {
    "colab": {
     "base_uri": "https://localhost:8080/",
     "height": 1000
    },
    "id": "rgLELiVC3rZT",
    "outputId": "fbcff300-e19e-4958-a6ef-a7bbafa600ae"
   },
   "outputs": [],
   "source": [
    "eb[eb['Tel_voorzitter_EB Comment'].str.contains(r'\\w', na=False)]"
   ]
  },
  {
   "cell_type": "markdown",
   "metadata": {
    "id": "j33KnM07Ik1a"
   },
   "source": [
    "### Penningmeester_EB"
   ]
  },
  {
   "cell_type": "markdown",
   "metadata": {
    "id": "sP_snJxvIxwD"
   },
   "source": [
    "#### Naam_penningmeester_EB"
   ]
  },
  {
   "cell_type": "code",
   "execution_count": null,
   "metadata": {
    "id": "zmMZbz2hf9tS"
   },
   "outputs": [],
   "source": [
    "eb['Naam_penningmeester_EB Cleansed'] = eb['Naam_penningmeester_EB'].str.replace('<br>', '').str.strip()\n",
    "eb[['Naam_penningmeester_EB First', 'Naam_penningmeester_EB Last', 'Naam_penningmeester_EB Comment']] = pd.DataFrame(eb['Naam_penningmeester_EB Cleansed'].astype(str).apply(splitname).values.tolist(), columns=['first', 'last', 'comment'])"
   ]
  },
  {
   "cell_type": "markdown",
   "metadata": {
    "id": "RvVjx9MRI0rb"
   },
   "source": [
    "#### Adres_penningmeester_EB >> simplified"
   ]
  },
  {
   "cell_type": "code",
   "execution_count": null,
   "metadata": {
    "id": "GCPxG27LwLnV"
   },
   "outputs": [],
   "source": [
    "eb['Adres_penningmeester_EB Cleansed'] = eb['Adres_penningmeester_EB'].str.replace('<br>', '').str.strip()"
   ]
  },
  {
   "cell_type": "markdown",
   "metadata": {
    "id": "xZeT4wFcI3Ch"
   },
   "source": [
    "#### Mail_penningmeester_EB"
   ]
  },
  {
   "cell_type": "code",
   "execution_count": null,
   "metadata": {
    "id": "Fv4fI2wbp8BZ"
   },
   "outputs": [],
   "source": [
    "eb[['Mail_penningmeester_EB Cleansed', 'Mail_penningmeester_EB Comment']] = pd.DataFrame(eb['Mail_penningmeester_EB'].astype(str).apply(mail_cleansing).values.tolist(), columns=['mail_cleansed','comment'])"
   ]
  },
  {
   "cell_type": "code",
   "execution_count": null,
   "metadata": {
    "colab": {
     "base_uri": "https://localhost:8080/",
     "height": 1000
    },
    "id": "xyYFUMDsp8s2",
    "outputId": "988d01e1-2d33-47e3-90a3-61371a3fe2ad"
   },
   "outputs": [],
   "source": [
    "eb[eb['Mail_penningmeester_EB Comment'].str.contains('\\w', na=False)]"
   ]
  },
  {
   "cell_type": "markdown",
   "metadata": {
    "id": "9athqwXOI3zN"
   },
   "source": [
    "#### Tel_penningmeester_EB"
   ]
  },
  {
   "cell_type": "code",
   "execution_count": null,
   "metadata": {
    "id": "lbRuTflmzvcL"
   },
   "outputs": [],
   "source": [
    "eb[['Tel_penningmeester_EB 1', 'Tel_penningmeester_EB 2', 'Tel_penningmeester_EB Comment']] = pd.DataFrame(eb['Tel_penningmeester_EB'].astype(str).apply(telephone_number_cleansing).values.tolist(), columns=['telephone_number_1', 'telephone_number_2', 'comment'])"
   ]
  },
  {
   "cell_type": "code",
   "execution_count": null,
   "metadata": {
    "colab": {
     "base_uri": "https://localhost:8080/",
     "height": 1000
    },
    "id": "Q3qYMyZkzvcQ",
    "outputId": "cce91ac7-2e99-4076-8251-62f88f7e6a8d"
   },
   "outputs": [],
   "source": [
    "eb[eb['Tel_penningmeester_EB Comment'].str.contains(r'\\w', na=False)]"
   ]
  },
  {
   "cell_type": "markdown",
   "metadata": {
    "id": "rc7ALfdFJCbL"
   },
   "source": [
    "### Secretaris_EB"
   ]
  },
  {
   "cell_type": "markdown",
   "metadata": {
    "id": "2jOG4rPYJCbQ"
   },
   "source": [
    "#### Naam_secretaris_EB"
   ]
  },
  {
   "cell_type": "code",
   "execution_count": null,
   "metadata": {
    "id": "mkQiJDTsbXOD"
   },
   "outputs": [],
   "source": [
    "eb['Naam_secretaris_EB Cleansed'] = eb['Naam_secretaris_EB'].str.replace('<br>', '').str.strip()\n",
    "eb[['Naam_secretaris_EB First', 'Naam_secretaris_EB Last', 'Naam_secretaris_EB Comment']] = pd.DataFrame(eb['Naam_secretaris_EB Cleansed'].astype(str).apply(splitname).values.tolist(), columns=['first', 'last', 'comment'])"
   ]
  },
  {
   "cell_type": "markdown",
   "metadata": {
    "id": "Zg_obbIwJCbT"
   },
   "source": [
    "#### Adres_secretaris_EB >> simplified"
   ]
  },
  {
   "cell_type": "code",
   "execution_count": null,
   "metadata": {
    "id": "dx5tmFd6wQSU"
   },
   "outputs": [],
   "source": [
    "eb['Adres_secretaris_EB Cleansed'] = eb['Adres_secretaris_EB'].str.replace('<br>', '').str.strip()"
   ]
  },
  {
   "cell_type": "markdown",
   "metadata": {
    "id": "EJh3j7pGJCbX"
   },
   "source": [
    "#### Mail_secretaris_EB"
   ]
  },
  {
   "cell_type": "code",
   "execution_count": null,
   "metadata": {
    "id": "33H39M2tpkf9"
   },
   "outputs": [],
   "source": [
    "eb[['Mail_secretaris_EB Cleansed', 'Mail_secretaris_EB Comment']] = pd.DataFrame(eb['Mail_secretaris_EB'].astype(str).apply(mail_cleansing).values.tolist(), columns=['mail_cleansed','comment'])"
   ]
  },
  {
   "cell_type": "code",
   "execution_count": null,
   "metadata": {
    "colab": {
     "base_uri": "https://localhost:8080/",
     "height": 1000
    },
    "id": "hJYNoHv7pq65",
    "outputId": "687297f3-1282-43e9-fa70-1fdb31b4e61e"
   },
   "outputs": [],
   "source": [
    "eb[eb['Mail_secretaris_EB Comment'].str.contains('\\w', na=False)]"
   ]
  },
  {
   "cell_type": "markdown",
   "metadata": {
    "id": "V_gVbXW-JCbZ"
   },
   "source": [
    "#### Tel_secretaris_EB"
   ]
  },
  {
   "cell_type": "code",
   "execution_count": null,
   "metadata": {
    "id": "b3PaIr4A0eBS"
   },
   "outputs": [],
   "source": [
    "eb[['Tel_secretaris_EB 1', 'Tel_secretaris_EB 2', 'Tel_secretaris_EB Comment']] = pd.DataFrame(eb['Tel_secretaris_EB'].astype(str).apply(telephone_number_cleansing).values.tolist(), columns=['telephone_number_1', 'telephone_number_2', 'comment'])"
   ]
  },
  {
   "cell_type": "code",
   "execution_count": null,
   "metadata": {
    "colab": {
     "base_uri": "https://localhost:8080/",
     "height": 1000
    },
    "id": "MwisClWm0eBY",
    "outputId": "8a45c84e-278c-4371-b20f-b0d2eb17cfb6"
   },
   "outputs": [],
   "source": [
    "eb[eb['Tel_secretaris_EB Comment'].str.contains(r'Wrong', na=False)]"
   ]
  },
  {
   "cell_type": "markdown",
   "metadata": {
    "id": "-dGxFo7aJM6r"
   },
   "source": [
    "### Naam_Lid4"
   ]
  },
  {
   "cell_type": "code",
   "execution_count": null,
   "metadata": {
    "colab": {
     "base_uri": "https://localhost:8080/"
    },
    "id": "Csdd2jWY9wtb",
    "outputId": "3b40bcca-326e-4025-fd1b-23d9ad8af35b"
   },
   "outputs": [],
   "source": [
    "eb['Naam_Lid4'].dropna().unique()"
   ]
  },
  {
   "cell_type": "code",
   "execution_count": null,
   "metadata": {
    "id": "BJSV9sHwBmpl"
   },
   "outputs": [],
   "source": [
    "eb['Naam_Lid4 Cleansed'] = eb['Naam_Lid4'].str.replace('<br>', '').str.strip()\n",
    "eb[['Naam_Lid4 First', 'Naam_Lid4 Last', 'Naam_Lid4 Comment']] = pd.DataFrame(eb['Naam_Lid4 Cleansed'].astype(str).apply(splitname).values.tolist(), columns=['first', 'last', 'comment'])"
   ]
  },
  {
   "cell_type": "code",
   "execution_count": null,
   "metadata": {
    "colab": {
     "base_uri": "https://localhost:8080/"
    },
    "id": "BA9sUHQxB_kh",
    "outputId": "8f922302-4284-4c10-e370-5fbc7cd6f701"
   },
   "outputs": [],
   "source": [
    "eb['Naam_Lid4 First'].dropna().unique()"
   ]
  },
  {
   "cell_type": "markdown",
   "metadata": {
    "id": "xczFtM-XJO5M"
   },
   "source": [
    "### Naam_Lid5"
   ]
  },
  {
   "cell_type": "code",
   "execution_count": null,
   "metadata": {
    "colab": {
     "base_uri": "https://localhost:8080/"
    },
    "id": "rfhJvAKm90Yg",
    "outputId": "6625440e-1d1e-4ac9-ebcb-dc1e2a6507e6"
   },
   "outputs": [],
   "source": [
    "eb['Naam_Lid5'].dropna().unique()"
   ]
  },
  {
   "cell_type": "code",
   "execution_count": null,
   "metadata": {
    "id": "5H1vXh-jBb1V"
   },
   "outputs": [],
   "source": [
    "eb['Naam_Lid5 Cleansed'] = eb['Naam_Lid5'].str.replace('<br>', '').str.strip()\n",
    "eb[['Naam_Lid5 First', 'Naam_Lid5 Last', 'Naam_Lid5 Comment']] = pd.DataFrame(eb['Naam_Lid5 Cleansed'].astype(str).apply(splitname).values.tolist(), columns=['first', 'last', 'comment'])"
   ]
  },
  {
   "cell_type": "code",
   "execution_count": null,
   "metadata": {
    "colab": {
     "base_uri": "https://localhost:8080/"
    },
    "id": "TByAEGcOBjBH",
    "outputId": "d269c4b4-ee84-409f-ab49-bddc92d42dca"
   },
   "outputs": [],
   "source": [
    "eb['Naam_Lid5 First'].dropna().unique()"
   ]
  },
  {
   "cell_type": "markdown",
   "metadata": {
    "id": "3T75r1hjd-l2"
   },
   "source": [
    "### Verkiezingen17_Opmerkingen"
   ]
  },
  {
   "cell_type": "code",
   "execution_count": null,
   "metadata": {
    "colab": {
     "base_uri": "https://localhost:8080/"
    },
    "id": "FGcx9UPEnqOE",
    "outputId": "d6a1cae7-748e-416b-dadc-a0df298b8edc"
   },
   "outputs": [],
   "source": [
    "eb['Verkiezingen17_Opmerkingen'].dropna().unique()"
   ]
  },
  {
   "cell_type": "code",
   "execution_count": null,
   "metadata": {
    "colab": {
     "base_uri": "https://localhost:8080/"
    },
    "id": "csjAqq0BwtjY",
    "outputId": "b2c668ab-ceb3-42c5-8eb9-1c28aaae32e4"
   },
   "outputs": [],
   "source": [
    "  for index, row in eb.iterrows():\n",
    "    date = str(row['Verkiezingen17_Opmerkingen'])\n",
    "\n",
    "    if date != 'nan':\n",
    "      dates_parsed = date_cleansing(date)\n",
    "\n",
    "      if dates_parsed :\n",
    "        eb.at[index, 'Verkiezingen17_Opmerkingen Cleansed'] = dates_parsed[0]\n",
    "        if len(dates_parsed) > 1:\n",
    "          comment = []\n",
    "          for i in range(1, len(dates_parsed)):\n",
    "            comment.append(str(dates_parsed[i]))\n",
    "            eb.at[index, 'Verkiezingen17_Opmerkingen Comment'] = ' - '.join(comment)\n",
    "        else:\n",
    "          eb.at[index, 'Verkiezingen17_Opmerkingen Comment'] = np.NaN\n",
    "      else:\n",
    "        eb.at[index, 'Verkiezingen17_Opmerkingen Cleansed'] = np.NaN\n",
    "\n",
    "        eb['Verkiezingen17_Opmerkingen Comment'] = eb['Verkiezingen17_Opmerkingen Comment'].astype(object)\n",
    "        eb.at[index, 'Verkiezingen17_Opmerkingen Comment'] = 'Wrong date format. Check it.'\n"
   ]
  },
  {
   "cell_type": "code",
   "execution_count": null,
   "metadata": {
    "colab": {
     "base_uri": "https://localhost:8080/"
    },
    "id": "1k_Q8g8_rAiR",
    "outputId": "5e84e51f-698b-458f-f950-2e306a5825fe"
   },
   "outputs": [],
   "source": [
    "eb['Verkiezingen17_Opmerkingen Comment'].dropna().unique()"
   ]
  },
  {
   "cell_type": "code",
   "execution_count": null,
   "metadata": {
    "id": "jmPI0VbDLYcG"
   },
   "outputs": [],
   "source": [
    "eb['Verkiezingen17_Opmerkingen Cleansed'].dropna().unique()"
   ]
  },
  {
   "cell_type": "markdown",
   "metadata": {
    "id": "6zYkk9BciqIq"
   },
   "source": [
    "### Verkiezingen2020_Opmerkingen "
   ]
  },
  {
   "cell_type": "code",
   "execution_count": null,
   "metadata": {
    "id": "QA8ausxnn2L1"
   },
   "outputs": [],
   "source": [
    "eb['Verkiezingen2020_Opmerkingen'].dropna().unique()"
   ]
  },
  {
   "cell_type": "code",
   "execution_count": null,
   "metadata": {
    "colab": {
     "base_uri": "https://localhost:8080/"
    },
    "id": "Q_QzSl-ry2W7",
    "outputId": "543a5d30-9707-4a08-e121-e240f767bdb5"
   },
   "outputs": [],
   "source": [
    "  for index, row in eb.iterrows():\n",
    "    date = str(row['Verkiezingen2020_Opmerkingen'])\n",
    "    \n",
    "    if date != 'nan':\n",
    "      dates_parsed = date_cleansing(date)\n",
    "\n",
    "      if dates_parsed :\n",
    "        eb.at[index, 'Verkiezingen2020_Opmerkingen Cleansed'] = dates_parsed[0]\n",
    "        if len(dates_parsed) > 1:\n",
    "          comment = []\n",
    "          for i in range(1, len(dates_parsed)):\n",
    "            comment.append(str(dates_parsed[i]))\n",
    "            eb.at[index, 'Verkiezingen2020_Opmerkingen Comment'] = ' - '.join(comment)\n",
    "        else:\n",
    "          eb.at[index, 'Verkiezingen2020_Opmerkingen Comment'] = np.NaN\n",
    "      else:\n",
    "        eb.at[index, 'Verkiezingen2020_Opmerkingen Cleansed'] = np.NaN\n",
    "\n",
    "        eb['Verkiezingen2020_Opmerkingen Comment'] = eb['Verkiezingen2020_Opmerkingen Comment'].astype(object)\n",
    "        eb.at[index, 'Verkiezingen2020_Opmerkingen Comment'] = 'Wrong date format. Check it.'"
   ]
  },
  {
   "cell_type": "code",
   "execution_count": null,
   "metadata": {
    "id": "Ym0iIp5t6jw5"
   },
   "outputs": [],
   "source": [
    "date_parsed_search = search_dates('Verkiezing grote helft 2020 bij kerkraadsbesluit van 2 maart 2020 (voor de strenge maatregelen ivm corona van 18 maart 2020)', settings={'DATE_ORDER': 'DMY'})\n",
    "for item in date_parsed_search:\n",
    "  print(\"...\" + str(item[1]))"
   ]
  },
  {
   "cell_type": "code",
   "execution_count": null,
   "metadata": {
    "id": "0-goGGu3LZ_U"
   },
   "outputs": [],
   "source": [
    "date_parsed_match = dateparser.parse('2 maart 2020)', settings={'DATE_ORDER': 'DMY'})\n",
    "print(date_parsed_match)\n",
    "  "
   ]
  },
  {
   "cell_type": "code",
   "execution_count": null,
   "metadata": {
    "id": "MSEOxoU5Lz_Q"
   },
   "outputs": [],
   "source": [
    "date_parsed_match = dateparser.parse('2020)', settings={'DATE_ORDER': 'DMY'})\n",
    "print(date_parsed_match)"
   ]
  },
  {
   "cell_type": "code",
   "execution_count": null,
   "metadata": {
    "id": "Szxz_3IAIZOd"
   },
   "outputs": [],
   "source": [
    "date_parsed_search = search_dates('In 2019 verkiezing KH)', settings={'DATE_ORDER': 'DMY'})\n",
    "for item in date_parsed_search:\n",
    "  print(\"...\" + str(item[1]))"
   ]
  },
  {
   "cell_type": "markdown",
   "metadata": {
    "id": "gyv3Db2XiveY"
   },
   "source": [
    "### Datum verkiezing voorzitter"
   ]
  },
  {
   "cell_type": "code",
   "execution_count": null,
   "metadata": {
    "id": "dMBpqMXU4lss"
   },
   "outputs": [],
   "source": [
    "eb['Datum verkiezing voorzitter Cleansed'] = eb['Datum verkiezing voorzitter']"
   ]
  },
  {
   "cell_type": "code",
   "execution_count": null,
   "metadata": {
    "id": "gehgB3vRoAtf"
   },
   "outputs": [],
   "source": [
    "eb['Datum verkiezing voorzitter Cleansed'].dropna().unique()"
   ]
  },
  {
   "cell_type": "markdown",
   "metadata": {
    "id": "fxW71PtwoIwq"
   },
   "source": [
    "### Datum verkiezing penningmeester"
   ]
  },
  {
   "cell_type": "code",
   "execution_count": null,
   "metadata": {
    "id": "9IOJVodKo9I2"
   },
   "outputs": [],
   "source": [
    "eb['Datum verkiezing penningmeester'].dropna().unique()"
   ]
  },
  {
   "cell_type": "code",
   "execution_count": null,
   "metadata": {
    "id": "Gwf-Hqme2kWH"
   },
   "outputs": [],
   "source": [
    "eb['Datum verkiezing penningmeester Cleansed'] = eb['Datum verkiezing penningmeester'].replace(' ', np.NaN); "
   ]
  },
  {
   "cell_type": "code",
   "execution_count": null,
   "metadata": {
    "id": "Gk4TGi2E3C3K"
   },
   "outputs": [],
   "source": [
    "eb['Datum verkiezing penningmeester Cleansed'].dropna().unique()"
   ]
  },
  {
   "cell_type": "markdown",
   "metadata": {
    "id": "0JpS6-A0oP-f"
   },
   "source": [
    "### Datum verkiezing secretaris"
   ]
  },
  {
   "cell_type": "code",
   "execution_count": null,
   "metadata": {
    "id": "K35VZDU84uMW"
   },
   "outputs": [],
   "source": [
    "eb['Datum verkiezing secretaris Cleansed'] = eb['Datum verkiezing secretaris']"
   ]
  },
  {
   "cell_type": "code",
   "execution_count": null,
   "metadata": {
    "id": "PBJRlJ0XpDHP"
   },
   "outputs": [],
   "source": [
    "eb['Datum verkiezing secretaris Cleansed'].dropna().unique()"
   ]
  },
  {
   "cell_type": "markdown",
   "metadata": {
    "id": "WEJHEUploTSY"
   },
   "source": [
    "### Datum verkiezing lid 4"
   ]
  },
  {
   "cell_type": "code",
   "execution_count": null,
   "metadata": {
    "id": "tbnaYd11445B"
   },
   "outputs": [],
   "source": [
    "eb['Datum verkiezing lid 4 Cleansed'] = eb['Datum verkiezing lid 4']"
   ]
  },
  {
   "cell_type": "code",
   "execution_count": null,
   "metadata": {
    "id": "H-I8-jYJpIKE"
   },
   "outputs": [],
   "source": [
    "eb['Datum verkiezing lid 4 Cleansed'].dropna().unique()"
   ]
  },
  {
   "cell_type": "markdown",
   "metadata": {
    "id": "Dz_CIsEyoVr_"
   },
   "source": [
    "### Datum verkiezing lid 5"
   ]
  },
  {
   "cell_type": "code",
   "execution_count": null,
   "metadata": {
    "id": "WNnYfI-H5Cpm"
   },
   "outputs": [],
   "source": [
    "eb['Datum verkiezing lid 5 Cleansed'] = eb['Datum verkiezing lid 5']"
   ]
  },
  {
   "cell_type": "code",
   "execution_count": null,
   "metadata": {
    "id": "yfRg7DVSpPhk"
   },
   "outputs": [],
   "source": [
    "eb['Datum verkiezing lid 5 Cleansed'].dropna().unique()"
   ]
  },
  {
   "cell_type": "markdown",
   "metadata": {
    "id": "vIc3krXmR7x8"
   },
   "source": [
    "# Export data"
   ]
  },
  {
   "cell_type": "code",
   "execution_count": null,
   "metadata": {
    "id": "zOGu5jLjR-5N"
   },
   "outputs": [],
   "source": [
    "eb.to_excel('eredienstbesturen.xlsx')"
   ]
  },
  {
   "cell_type": "markdown",
   "metadata": {
    "id": "xPIfMwVHTg38"
   },
   "source": [
    "## Init graph"
   ]
  },
  {
   "cell_type": "code",
   "execution_count": null,
   "metadata": {
    "id": "W7wAe4BO2MUH"
   },
   "outputs": [],
   "source": [
    "#namspaces\n",
    "org = Namespace('http://www.w3.org/ns/org#')\n",
    "locn = Namespace('http://www.w3.org/ns/locn#')\n",
    "dc_terms= Namespace('http://purl.org/dc/terms/')\n",
    "schema = Namespace('http://schema.org/')\n",
    "regorg = Namespace('http://www.w3.org/ns/regorg#')\n",
    "person = Namespace('http://www.w3.org/ns/person#')\n",
    "vcard = Namespace('http://www.w3.org/2006/vcard/ns#')\n",
    "dbpedia = Namespace('https://dbpedia.org/ontology/')\n",
    "\n",
    "organisatie = Namespace('https://data.vlaanderen.be/ns/organisatie#')\n",
    "persoon = Namespace('https://data.vlaanderen.be/ns/persoon#')\n",
    "adres = Namespace('https://data.vlaanderen.be/ns/adres#')\n",
    "generiek = Namespace('https://data.vlaanderen.be/ns/generiek#')\n",
    "mandaat = Namespace('http://data.vlaanderen.be/ns/mandaat#')\n",
    "besluit = Namespace('http://data.vlaanderen.be/ns/besluit#')\n",
    "\n",
    "#lblod = Namespace('https://contacthub-dev.lblod.info/id/')\n",
    "lblod = Namespace('https://contacthub-qa.lblod.info/id/')\n",
    "os = Namespace('https://data.vlaanderen.be/id/concept/OrganisatieStatus/')\n",
    "oc = Namespace('https://data.vlaanderen.be/id/concept/OrganisatieClassificatie/')\n",
    "\n",
    "\n",
    "# Predefined concepts:\n",
    "bestuur_van_de_eredienst = URIRef(\"http://data.vlaanderen.be/id/concept/BestuurseenheidClassificatieCode/66ec74fd-8cfc-4e16-99c6-350b35012e86\")\n"
   ]
  },
  {
   "cell_type": "code",
   "execution_count": null,
   "metadata": {
    "id": "BwZqzqbNeRsI"
   },
   "outputs": [],
   "source": [
    "g = Graph()"
   ]
  },
  {
   "cell_type": "code",
   "execution_count": null,
   "metadata": {
    "id": "8WLaXOVCZ_-c"
   },
   "outputs": [],
   "source": [
    "for status in eb['Status_EB'].dropna().unique():\n",
    "  subject = concept_uri(os, status)\n",
    "  g.add((subject, RDF.type, SKOS.Concept))\n",
    "  g.add((subject, SKOS.prefLabel, Literal(status, lang='nl')))\n",
    "  g.add((subject, SKOS.definition, Literal(status, lang='nl')))\n",
    "  if status.startswith('Operationeel'):\n",
    "    g.add((subject, SKOS.broader, os.actief))\n",
    "  else:\n",
    "    g.add((subject, SKOS.broader, os.nietactief))"
   ]
  },
  {
   "cell_type": "code",
   "execution_count": null,
   "metadata": {
    "id": "EFMifa-6s58F"
   },
   "outputs": [],
   "source": [
    "voorzitter_concept = concept_uri(lblod + 'concept/BestuursFunctieCode/', 'voorzitter')\n",
    "secretaris_concept = concept_uri(lblod + 'concept/BestuursFunctieCode/', 'secretaris')\n",
    "penningmeester_concept = concept_uri(lblod + 'concept/BestuursFunctieCode/', 'penningmeester')"
   ]
  },
  {
   "cell_type": "markdown",
   "metadata": {
    "id": "R4QxZNxSzovK"
   },
   "source": [
    "# Mapping"
   ]
  },
  {
   "cell_type": "markdown",
   "metadata": {
    "id": "4t9jmP5q9vZE"
   },
   "source": [
    "**To do**\n",
    "\n",
    "* Titel\n",
    "* Status_EB\n",
    "* Provincie_EB\n",
    "* Straat_EB\n",
    "* Huisnr_EB >> Needs to be split in housenr and busnr\n",
    "* Busnummer_EB\n",
    "* Postcode_EB\n",
    "* Gemeente_EB\n",
    "* Naam_EB\n",
    "* KBO_EB\n",
    "* Adres_voorzitter_EB\n",
    "* Mail_voorzitter_EB\n",
    "* Tel_voorzitter_EB\n",
    "* Naam_penningmeester_EB\n",
    "* Adres_penningmeester_EB\n",
    "* Mail_penningmeester_EB\n",
    "* Tel_penningmeester_EB\n",
    "* Naam_secretaris_EB\n",
    "* Adres_secretaris_EB\n",
    "* Mail_secretaris_EB\n",
    "* Tel_secretaris_EB\n",
    "\n",
    "\n",
    "\n"
   ]
  },
  {
   "cell_type": "markdown",
   "metadata": {
    "id": "UprCwTBpG3r7"
   },
   "source": [
    "fyi: latest version of centrale kerk besturen\n",
    "\n",
    "https://colab.research.google.com/drive/1NpNfYxUPWq-WcQ58DezGjbYxn0qdOZCa#scrollTo=MtdteyNS3_Vk&line=1&uniqifier=1"
   ]
  },
  {
   "cell_type": "code",
   "execution_count": null,
   "metadata": {
    "id": "g3cYuLwXfc1c"
   },
   "outputs": [],
   "source": [
    "eb.info()"
   ]
  },
  {
   "cell_type": "code",
   "execution_count": null,
   "metadata": {
    "id": "MtdteyNS3_Vk"
   },
   "outputs": [],
   "source": [
    "for index, row in eb.iterrows():\n",
    "  abb_id = concept_uri(lblod + 'organisatie/', str(row['organization_id']))\n",
    "  g.add((abb_id, RDF.type, org.Organization))\n",
    "\n",
    "  g.add((abb_id, regorg.orgStatus, concept_uri(os, str(row['Status_EB']))))\n",
    "\n",
    "  site_id = concept_uri(lblod + 'vestiging/', str(row['organization_id']))\n",
    "  g.add((site_id, RDF.type, org.Site))\n",
    "\n",
    "  address_id = concept_uri(lblod + 'adresvoorstelling/', str(row['organization_id']))\n",
    "  g.add((address_id, RDF.type, locn.Address))\n",
    "  addLiteral(address_id, locn.adminUnitL2, 'Provincie_EB Cleansed')\n",
    "  addLiteral(address_id, locn.thoroughfare, 'Straat_EB')\n",
    "  addLiteral(address_id, adres['Adresvoorstelling.huisnummer'], 'Huisnr_EB Cleansed', XSD.string)\n",
    "  addLiteral(address_id, adres['Adresvoorstelling.busnummer'], 'Busnummer_EB Cleansed', XSD.string)\n",
    "  addLiteral(address_id, locn.postCode, 'Postcode_EB Cleansed', XSD.string)\n",
    "  addLiteral(address_id, adres.gemeenttenaam, 'Gemeente_EB Cleansed', XSD.string)\n",
    "  g.add((address_id, adres.land, Literal('België', lang='nl')))\n",
    "\n",
    "  g.add((site_id, organisatie.bestaatUit, address_id))\n",
    "  g.add((abb_id, org.hasPrimarySite, site_id))\n",
    "\n",
    "  addLiteral(abb_id, SKOS.prefLabel, 'Naam_EB')\n",
    "  addLiteral(abb_id, regorg.legalName, 'Naam_EB')\n",
    "\n",
    "  kbo_id = concept_uri(lblod + 'gestructureerdeIdentificator/', str(row['KBO_EB Cleansed']))\n",
    "  g.add((kbo_id, RDF.type, generiek.GestructureerdeIdentificator))\n",
    "  addLiteral(kbo_id, generiek.lokaleIdentificator, 'KBO_EB Cleansed', XSD.string)\n",
    "\n",
    "  g.add((abb_id, org.classification, bestuur_van_de_eredienst))\n",
    "\n",
    "  #Bestuur\n",
    "  bestuur = concept_uri(lblod + 'bestuursorgaan/', str(row['organization_id']))\n",
    "  g.add((bestuur, RDF.type, besluit.Bestuursorgaan))\n",
    "  g.add((bestuur, besluit.bestuurt, abb_id))\n",
    "\n",
    "  bestuur_temporary = concept_uri(lblod + 'bestuursorgaan/', str(row['organization_id']) + str(datetime.now().year))\n",
    "  g.add((bestuur_temporary, RDF.type, besluit.Bestuursorgaan))\n",
    "  g.add((bestuur_temporary, generiek.isTijdspecialisatieVan, bestuur))\n",
    "\n",
    "  # Voorzitter\n",
    "  voorzitter = concept_uri(lblod + 'persoon/', str(row['Naam_voorzitter_EB First']) + str(row['Naam_voorzitter_EB Last']))\n",
    "  g.add((voorzitter, RDF.type, person.Person))\n",
    "  addLiteral(voorzitter, persoon.gebruikteVoornaam, 'Naam_voorzitter_EB First')\n",
    "  addLiteral(voorzitter, FOAF.familyName, 'Naam_voorzitter_EB Last')\n",
    "\n",
    "  ## Tel voorzitter - \n",
    "  voorzitter_site_id = concept_uri(lblod + 'vestiging/', str(row['organization_id']) + str(row['Naam_voorzitter_EB First']) + str(row['Naam_voorzitter_EB Last']))\n",
    "  g.add((voorzitter_site_id, RDF.type, org.Site))\n",
    "  g.add((voorzitter, org.basedAt, voorzitter_site_id))\n",
    "\n",
    "  voorzitter_contact_uri = concept_uri(lblod + 'contactinfo/', str(row['organization_id']) + str(row['Naam_voorzitter_EB First']) + str(row['Naam_voorzitter_EB Last']) + 'Tel_voorzitter_EB 1')\n",
    "  g.add((voorzitter_contact_uri, RDF.type, schema.ContactPoint))\n",
    "  g.add((voorzitter_site_id, org.siteAddress, voorzitter_contact_uri))\n",
    "  addLiteral(voorzitter_contact_uri, schema.telephone, 'Tel_voorzitter_EB 1')\n",
    "  addLiteral(voorzitter_contact_uri, schema.email, 'Mail_voorzitter_EB Cleansed')  \n",
    "\n",
    "  if str(row['Tel_voorzitter_EB 2']) != str(np.nan):\n",
    "    voorzitter_contact_2_uri = concept_uri(lblod + 'contactinfo/', str(row['organization_id']) + str(row['Naam_voorzitter_EB First']) + str(row['Naam_voorzitter_EB Last']) + 'Tel_voorzitter_EB 2')\n",
    "    g.add((voorzitter_contact_2_uri, RDF.type, schema.ContactPoint))\n",
    "    g.add((voorzitter_site_id, org.siteAddress, voorzitter_contact_2_uri))\n",
    "    addLiteral(voorzitter_contact_2_uri, schema.telephone, 'Tel_voorzitter_EB 2')\n",
    "\n",
    "  # Address\n",
    "  voorzitter_address_id = concept_uri(lblod + 'adresvoorstelling/', str(row['organization_id']) + str(row['Naam_voorzitter_EB First']) + str(row['Naam_voorzitter_EB Last'])) \n",
    "  g.add((voorzitter_address_id, RDF.type, locn.Address))\n",
    "  g.add((voorzitter_site_id, organisatie.bestaatUit, voorzitter_address_id))\n",
    "  addLiteral(voorzitter_address_id, locn.fullAddress, 'Adres_voorzitter_EB Cleansed')\n",
    "  \n",
    "  ## Mandataris\n",
    "  voorzitter_mandataris = concept_uri(lblod + 'mandataris/', str(row['organization_id']) + str(row['Naam_voorzitter_EB First']) + str(row['Naam_voorzitter_EB Last']) + 'voorzitter')\n",
    "  g.add((voorzitter_mandataris, RDF.type, mandaat.Mandataris))\n",
    "  g.add((voorzitter, mandaat.isAangesteldAls, voorzitter_mandataris))\n",
    "  g.add((voorzitter_mandataris, mandaat.isBestuurlijkeAliasVan, voorzitter))\n",
    "  #start\n",
    "  #einde\n",
    "  #status ~ cf loket lokale besturen PoC https://poc-form-builder.relance.s.redpencil.io/codelijsten\n",
    "  voorzitter_mandaat = concept_uri(lblod + 'mandaat/', str(row['organization_id']) + str(row['Naam_voorzitter_EB First']) + str(row['Naam_voorzitter_EB Last']))\n",
    "  g.add((voorzitter_mandaat, RDF.type, mandaat.Mandaat))\n",
    "  g.add((voorzitter_mandataris, org.holds, voorzitter_mandaat))\n",
    "  g.add((voorzitter_mandaat, org.role, voorzitter_concept))\n",
    "\n",
    "  g.add((bestuur_temporary, org.hasPost, voorzitter_mandaat))\n",
    "  #g.add((voorzitter_mandaat, org.holds, bestuur_temporary))\n",
    "  \n",
    "  #Secretaris\n",
    "  secretaris =  concept_uri(lblod + 'persoon/', str(row['Naam_secretaris_EB First']) + str(row['Naam_secretaris_EB Last']))\n",
    "  g.add((secretaris, RDF.type, person.Person))\n",
    "  addLiteral(secretaris, persoon.gebruikteVoornaam, 'Naam_secretaris_EB First')\n",
    "  addLiteral(secretaris, FOAF.familyName, 'Naam_secretaris_EB Last')\n",
    "  \n",
    "  ## Tel secretaris\n",
    "  secretaris_vestiging_uri = concept_uri(lblod + 'vestiging/', str(row['organization_id']) + str(row['Naam_secretaris_EB First']) + str(row['Naam_secretaris_EB Last']))\n",
    "  g.add((secretaris_vestiging_uri, RDF.type, org.Site))\n",
    "  g.add((secretaris, org.basedAt, secretaris_vestiging_uri))\n",
    "\n",
    "  secretaris_contact_uri = concept_uri(lblod + 'contactinfo/', str(row['organization_id']) + str(row['Naam_secretaris_EB First']) + str(row['Naam_secretaris_EB Last']) + 'Tel_secretaris_EB 1')\n",
    "  g.add((secretaris_contact_uri, RDF.type, schema.ContactPoint))\n",
    "  g.add((secretaris_vestiging_uri, organisatie.contactinfo, secretaris_contact_uri))\n",
    "  addLiteral(secretaris_contact_uri, schema.telephone, 'Tel_secretaris_EB 1')\n",
    "  addLiteral(secretaris_contact_uri, schema.email, 'Mail_secretaris_EB Cleansed')\n",
    "\n",
    "  if str(row['Tel_secretaris_EB 2']) != str(np.nan):\n",
    "    secretaris_contact_2_uri = concept_uri(lblod + 'contactinfo/', str(row['organization_id']) + str(row['Naam_secretaris_EB First']) + str(row['Naam_secretaris_EB Last']) + 'Tel_secretaris_EB 2')\n",
    "    g.add((secretaris_contact_2_uri, RDF.type, schema.ContactPoint))\n",
    "    g.add((secretaris_vestiging_uri, org.siteAddress, secretaris_contact_2_uri))\n",
    "    addLiteral(secretaris_contact_2_uri, schema.telephone, 'Tel_secretaris_EB 2')\n",
    "\n",
    "  secretaris_address_id = concept_uri(lblod + 'adresvoorstelling/', str(row['organization_id']) + str(row['Naam_secretaris_EB First']) + str(row['Naam_secretaris_EB Last'])) \n",
    "  g.add((secretaris_address_id, RDF.type, locn.Address))\n",
    "  g.add((secretaris_vestiging_uri, organisatie.bestaatUit, secretaris_address_id))\n",
    "  addLiteral(secretaris_address_id, locn.fullAddress, 'Adres_secretaris_EB Cleansed')\n",
    "\n",
    "  #Mandataris\n",
    "  secretaris_mandataris = concept_uri(lblod + 'mandataris/', str(row['organization_id']) + str(row['Naam_secretaris_EB First']) + str(row['Naam_secretaris_EB Last']) + 'secretaris')\n",
    "  g.add((secretaris_mandataris, RDF.type, mandaat.Mandataris))\n",
    "  g.add((secretaris, mandaat.isAangesteldAls, secretaris_mandataris))\n",
    "  g.add((secretaris_mandataris, mandaat.isBestuurlijkeAliasVan, secretaris))\n",
    "  #start\n",
    "  #einde\n",
    "  #status\n",
    "  secretaris_mandaat = concept_uri(lblod + 'mandaat/', str(row['organization_id']) + str(row['Naam_secretaris_EB First']) + str(row['Naam_secretaris_EB Last']))\n",
    "  g.add((secretaris_mandaat, RDF.type, mandaat.Mandaat))\n",
    "  g.add((secretaris_mandataris, org.holds, secretaris_mandaat))\n",
    "  g.add((secretaris_mandaat, org.role, secretaris_concept))\n",
    "  \n",
    "  g.add((bestuur_temporary, org.hasPost, secretaris_mandaat))\n",
    "  #g.add((secretaris_mandaat, org.holds, bestuur_temporary))\n",
    "\n",
    "  #Penningmeester\n",
    "  penningmeester =  concept_uri(lblod + 'persoon/', str(row['Naam_penningmeester_EB First']) + str(row['Naam_penningmeester_EB Last']))\n",
    "  g.add((penningmeester, RDF.type, person.Person))\n",
    "  addLiteral(penningmeester, persoon.gebruikteVoornaam, 'Naam_penningmeester_EB First')\n",
    "  addLiteral(penningmeester, FOAF.familyName, 'Naam_penningmeester_EB Last')\n",
    "  \n",
    "  ## Tel penningmeester\n",
    "  penningmeester_vestiging_uri = concept_uri(lblod + 'vestiging/', str(row['organization_id']) + str(row['Naam_penningmeester_EB First']) + str(row['Naam_penningmeester_EB Last']))\n",
    "  g.add((penningmeester_vestiging_uri, RDF.type, org.Site))\n",
    "  g.add((penningmeester, org.basedAt, penningmeester_vestiging_uri))\n",
    "\n",
    "  penningmeester_contact_uri = concept_uri(lblod + 'contactinfo/', str(row['organization_id']) + str(row['Naam_penningmeester_EB First']) + str(row['Naam_penningmeester_EB Last']) + 'Tel_penningmeester_EB 1')\n",
    "  g.add((penningmeester_contact_uri, RDF.type, schema.ContactPoint))\n",
    "  g.add((penningmeester_vestiging_uri, organisatie.contactinfo, penningmeester_contact_uri))\n",
    "  addLiteral(penningmeester_contact_uri, schema.telephone, 'Tel_penningmeester_EB 1')\n",
    "  addLiteral(penningmeester_contact_uri, schema.email, 'Mail_penningmeester_EB Cleansed')\n",
    "\n",
    "  if str(row['Tel_penningmeester_EB 2']) != str(np.nan):\n",
    "    penningmeester_contact_2_uri = concept_uri(lblod + 'contactinfo/', str(row['organization_id']) + str(row['Naam_penningmeester_EB First']) + str(row['Naam_penningmeester_EB Last']) + 'Tel_penningmeester_EB 2')\n",
    "    g.add((penningmeester_contact_2_uri, RDF.type, schema.ContactPoint))\n",
    "    g.add((penningmeester_vestiging_uri, organisatie.contactinfo, penningmeester_contact_2_uri))\n",
    "    addLiteral(penningmeester_contact_2_uri, schema.telephone, 'Tel_penningmeester_EB 2')\n",
    "\n",
    "  penningmeester_address_id = concept_uri(lblod + 'adresvoorstelling/', str(row['organization_id']) + str(row['Naam_penningmeester_EB First']) + str(row['Naam_penningmeester_EB Last'])) \n",
    "  g.add((penningmeester_address_id, RDF.type, locn.Address))\n",
    "  g.add((penningmeester_vestiging_uri, organisatie.bestaatUit, penningmeester_address_id))\n",
    "  addLiteral(penningmeester_address_id, locn.fullAddress, 'Adres_penningmeester_EB Cleansed')\n",
    "\n",
    "  #Mandataris\n",
    "  penningmeester_mandataris = concept_uri(lblod + 'mandataris/', str(row['organization_id']) + str(row['Naam_penningmeester_EB First']) + str(row['Naam_penningmeester_EB Last']) + 'penningmeester')\n",
    "  g.add((penningmeester_mandataris, RDF.type, mandaat.Mandataris))\n",
    "  g.add((penningmeester, mandaat.isAangesteldAls, penningmeester_mandataris))\n",
    "  g.add((penningmeester_mandataris, mandaat.isBestuurlijkeAliasVan, penningmeester))\n",
    "  #start\n",
    "  #einde\n",
    "  #status\n",
    "  penningmeester_mandaat = concept_uri(lblod + 'mandaat/', str(row['organization_id']) + str(row['Naam_penningmeester_EB First']) + str(row['Naam_penningmeester_EB Last']))\n",
    "  g.add((penningmeester_mandaat, RDF.type, mandaat.Mandaat))\n",
    "  g.add((penningmeester_mandataris, org.holds, penningmeester_mandaat))\n",
    "  g.add((penningmeester_mandaat, org.role, penningmeester_concept))\n",
    "  \n",
    "  g.add((bestuur_temporary, org.hasPost, penningmeester_mandaat))\n",
    "  #g.add((penningmeester_mandaat, org.holds, bestuur_temporary))\n",
    "\n"
   ]
  },
  {
   "cell_type": "code",
   "execution_count": null,
   "metadata": {
    "id": "8mfp7lx7491V"
   },
   "outputs": [],
   "source": [
    "g.serialize('eb-qa.ttl',format='turtle')"
   ]
  },
  {
   "cell_type": "markdown",
   "metadata": {
    "id": "Z3UnS1jS715R"
   },
   "source": [
    "# Checks/tests"
   ]
  },
  {
   "cell_type": "code",
   "execution_count": null,
   "metadata": {
    "id": "0dR7djDc77Rn"
   },
   "outputs": [],
   "source": [
    "ckb['Status_CKB'].unique()"
   ]
  },
  {
   "cell_type": "code",
   "execution_count": null,
   "metadata": {
    "id": "Y__UnQ128Cnf"
   },
   "outputs": [],
   "source": [
    "hash('a')"
   ]
  },
  {
   "cell_type": "code",
   "execution_count": null,
   "metadata": {
    "id": "tAjUeYIUC7gT"
   },
   "outputs": [],
   "source": [
    "import random"
   ]
  },
  {
   "cell_type": "code",
   "execution_count": null,
   "metadata": {
    "id": "xAhtSqJoDqc-"
   },
   "outputs": [],
   "source": [
    "rd = random.Random()"
   ]
  },
  {
   "cell_type": "code",
   "execution_count": null,
   "metadata": {
    "id": "cG1IxTQzDyTR"
   },
   "outputs": [],
   "source": [
    "rd.getrandbits(128)"
   ]
  },
  {
   "cell_type": "code",
   "execution_count": null,
   "metadata": {
    "id": "dqOGKyR5D2rP"
   },
   "outputs": [],
   "source": [
    "import hashlib\n",
    "import uuid\n",
    "\n",
    "m = hashlib.md5()\n",
    "m.update(\"aaa\".encode('utf-8'))\n",
    "new_uuid = uuid.UUID(m.hexdigest())\n"
   ]
  },
  {
   "cell_type": "code",
   "execution_count": null,
   "metadata": {
    "id": "5PoFozoYEIgt"
   },
   "outputs": [],
   "source": [
    "new_uuid"
   ]
  },
  {
   "cell_type": "code",
   "execution_count": null,
   "metadata": {
    "id": "hV5FDCOtEOzq"
   },
   "outputs": [],
   "source": [
    "m.update(\"aaa\".encode('utf-8'))\n",
    "new_uuid = uuid.UUID(m.hexdigest())"
   ]
  },
  {
   "cell_type": "code",
   "execution_count": null,
   "metadata": {
    "id": "0XMAFPQREQsN"
   },
   "outputs": [],
   "source": [
    "new_uuid"
   ]
  },
  {
   "cell_type": "code",
   "execution_count": null,
   "metadata": {
    "id": "lliuZVdeE2Jy"
   },
   "outputs": [],
   "source": [
    "a = reproducible_uuid('qqq')"
   ]
  },
  {
   "cell_type": "code",
   "execution_count": null,
   "metadata": {
    "id": "yFRdRUr7E42W"
   },
   "outputs": [],
   "source": [
    "a.hex"
   ]
  },
  {
   "cell_type": "code",
   "execution_count": null,
   "metadata": {
    "id": "wLMadzuPFf0g"
   },
   "outputs": [],
   "source": [
    "s = URIRef(lblod+a.hex)"
   ]
  },
  {
   "cell_type": "code",
   "execution_count": null,
   "metadata": {
    "id": "BK_1jn_nG-iG"
   },
   "outputs": [],
   "source": [
    "s"
   ]
  },
  {
   "cell_type": "code",
   "execution_count": null,
   "metadata": {
    "id": "cw1pBCVFG_Gl"
   },
   "outputs": [],
   "source": [
    "!head output.ttl"
   ]
  },
  {
   "cell_type": "code",
   "execution_count": null,
   "metadata": {
    "id": "io63b6KhI-om"
   },
   "outputs": [],
   "source": [
    "os."
   ]
  },
  {
   "cell_type": "code",
   "execution_count": null,
   "metadata": {
    "id": "h2UrvWZEMf8D"
   },
   "outputs": [],
   "source": [
    "ckb['Status_CKB'].unique()"
   ]
  },
  {
   "cell_type": "code",
   "execution_count": null,
   "metadata": {
    "id": "1CFlcBZ1M99V"
   },
   "outputs": [],
   "source": [
    "pd.Series(ckb['Status_CKB'].unique()).values != 'Niet actief - niet van toepassing'"
   ]
  },
  {
   "cell_type": "markdown",
   "metadata": {
    "id": "xnsGT7FjR-Tl"
   },
   "source": []
  },
  {
   "cell_type": "code",
   "execution_count": null,
   "metadata": {
    "id": "xuGClYqhPKeC"
   },
   "outputs": [],
   "source": []
  },
  {
   "cell_type": "code",
   "execution_count": null,
   "metadata": {
    "id": "G270MKaTuKv3"
   },
   "outputs": [],
   "source": [
    "ckb['Naam_Voorzitter_CKB'].str.replace('<br>', '')"
   ]
  },
  {
   "cell_type": "code",
   "execution_count": null,
   "metadata": {
    "id": "DUJ6gyP5DDsc"
   },
   "outputs": [],
   "source": [
    "ckb['Naam_secretaris_CKB'].str.replace('<br>', '')"
   ]
  },
  {
   "cell_type": "code",
   "execution_count": null,
   "metadata": {
    "id": "iMZso_MREGQn"
   },
   "outputs": [],
   "source": [
    "from nameparser import HumanName"
   ]
  },
  {
   "cell_type": "code",
   "execution_count": null,
   "metadata": {
    "id": "VWDfiPCTEGNR"
   },
   "outputs": [],
   "source": [
    "HumanName('Coussement Johan')"
   ]
  },
  {
   "cell_type": "code",
   "execution_count": null,
   "metadata": {
    "id": "wM_PWIKfEGC-"
   },
   "outputs": [],
   "source": [
    "is_known_first_name('Didier')"
   ]
  },
  {
   "cell_type": "code",
   "execution_count": null,
   "metadata": {
    "id": "MqRiCjbfalZk"
   },
   "outputs": [],
   "source": [
    "m = pd.read_excel('Voornamen_Jongens_1995-2017_0.xls', sheet_name='1995-2019')"
   ]
  },
  {
   "cell_type": "code",
   "execution_count": null,
   "metadata": {
    "id": "8ZTDBZ4-aqHI"
   },
   "outputs": [],
   "source": [
    "m"
   ]
  },
  {
   "cell_type": "code",
   "execution_count": null,
   "metadata": {
    "id": "xUU_zqSIa_Np"
   },
   "outputs": [],
   "source": [
    "male_names = (m['Unnamed: 1'].append(m['Unnamed: 4']).append(m['Unnamed: 7']).append(m['Unnamed: 10'])).unique()"
   ]
  },
  {
   "cell_type": "code",
   "execution_count": null,
   "metadata": {
    "id": "HT2QEJg5bUXv"
   },
   "outputs": [],
   "source": [
    "f = pd.read_excel('Voornamen_meisjes_1995-2017.xls', sheet_name='1995-2019')"
   ]
  },
  {
   "cell_type": "code",
   "execution_count": null,
   "metadata": {
    "id": "Lpkjb6yPdPz4"
   },
   "outputs": [],
   "source": [
    "female_names = (f['Unnamed: 1'].append(f['Unnamed: 4']).append(f['Unnamed: 7']).append(f['Unnamed: 10'])).unique()"
   ]
  },
  {
   "cell_type": "code",
   "execution_count": null,
   "metadata": {
    "id": "X4CIAlFaddh4"
   },
   "outputs": [],
   "source": []
  },
  {
   "cell_type": "markdown",
   "metadata": {
    "id": "JmuAdZZ8GOyT"
   },
   "source": [
    "# Oslo"
   ]
  },
  {
   "cell_type": "code",
   "execution_count": null,
   "metadata": {
    "id": "uIS_DngOGSxX"
   },
   "outputs": [],
   "source": [
    "oslo = pd.read_excel('OSLO_Mapping_20210322.xlsx', sheet_name='vocabulary_CH-core_FORMAT-Nordi')"
   ]
  },
  {
   "cell_type": "code",
   "execution_count": null,
   "metadata": {
    "id": "RlzJUCNyGiaM"
   },
   "outputs": [],
   "source": [
    "oslo "
   ]
  },
  {
   "cell_type": "code",
   "execution_count": null,
   "metadata": {
    "id": "oQeVWnmIG4dA"
   },
   "outputs": [],
   "source": [
    "o = Graph();\n",
    "\n",
    "oslo['Uri'] = oslo['Uri'].str.replace('org:', 'http://www.w3.org/ns/org#')\n",
    "\n",
    "for index, row in oslo.dropna(subset=['Uri']).iterrows():\n",
    "  s = URIRef(row['Uri'])\n",
    "  # NOT EVERYTHING IS A OBJECT PROPERTY, IT CAN ALSO BE A DATATYPE PROPERTY. \n",
    "  o.add((s, RDF.type, URIRef('http://www.w3.org/2002/07/owl#ObjectProperty')))\n",
    "  o.add((s, RDFS.comment, Literal(row['comment'], lang='nl')))\n",
    "  o.add((s, RDFS.label, Literal(row['label'], lang='nl')))\n",
    "  \n",
    "print(o.serialize(format='turtle').decode('UTF-8'))"
   ]
  },
  {
   "cell_type": "code",
   "execution_count": null,
   "metadata": {
    "id": "oO518SMfJ9d7"
   },
   "outputs": [],
   "source": [
    "o.serialize('oslo.ttl',format='turtle')"
   ]
  },
  {
   "cell_type": "markdown",
   "metadata": {
    "id": "Ip-0Azxd3pRf"
   },
   "source": [
    "# Open issues/questions\n",
    "\n",
    "\n",
    "*   identifier: not every entity has a (valid) KBO number. cf cleansinig. Uri's are currently based on internal identifier\n",
    "*   heeftvesitiging ipv adres? https://data.vlaanderen.be/ns/organisatie (hasSite)\n",
    "*   Base uri's\n",
    "*   Secretaris ~ hoedanigheid bugdethouder?? <> penningmeester\n",
    "\n",
    "\n"
   ]
  }
 ],
 "metadata": {
  "colab": {
   "collapsed_sections": [
    "Z3UnS1jS715R"
   ],
   "name": "Eredienstbesturen.ipynb",
   "provenance": [],
   "toc_visible": true
  },
  "kernelspec": {
   "display_name": "Python 3",
   "name": "python3"
  }
 },
 "nbformat": 4,
 "nbformat_minor": 0
}
